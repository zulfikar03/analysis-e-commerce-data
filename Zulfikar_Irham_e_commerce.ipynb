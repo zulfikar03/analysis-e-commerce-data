{
 "cells": [
  {
   "cell_type": "markdown",
   "id": "0203defa-b6e5-4f84-a67a-838ffff5b391",
   "metadata": {},
   "source": [
    "# Proyek Analisis Data : E-Commerce Public Dataset\n",
    "\n",
    "- **Nama** : Zulfikar Irham\n",
    "- **Email** : zulfikarirham02@gmail.com\n",
    "- **ID Dicoding** : zulfikar_irham02"
   ]
  },
  {
   "cell_type": "markdown",
   "id": "a2b37abc-8eb1-401e-8d20-f4a58462edc5",
   "metadata": {},
   "source": [
    "# Menentukan Pertanyaan Bisnis\n",
    "\n",
    "## Pertanyaan 1 : Kategori produk apa yang paling banyak diorder.\n",
    "## Pertanyaan 2 : Berapa total pemesanan produk dan bagaimana perubahannya dari waktu ke waktu?\n",
    "## Pertanyaan 3 : Berapa total pendapatan perusahaan dan bagaimana perubahannya dari waktu ke waktu?\n",
    "## Pertanyaan 4 : Apa metode pembayaran yang paling sering digunakan oleh customer?\n",
    "## Pertanyaan 5 : Kapan pelanggan ini melakukan transaksi?\n",
    "## Pertanyaan 6 : Seberapa sering seorang pelanggan melakukan pembelian dalam beberapa bulan terakhir?\n",
    "## Pertanyaan 7 : Berapa banyak uang yang dihabiskan pelanggan dalam beberapa bulan terakhir?"
   ]
  },
  {
   "cell_type": "markdown",
   "id": "e21c8747-9ec8-4f37-b548-e62f405e4e51",
   "metadata": {},
   "source": [
    "# Import Semua Library/Package yang Digunakan"
   ]
  },
  {
   "cell_type": "code",
   "execution_count": 1,
   "id": "903959a1-3017-45b4-9acb-79dcf48b147b",
   "metadata": {},
   "outputs": [],
   "source": [
    "import pandas as pd\n",
    "import numpy as np\n",
    "import matplotlib.pyplot as plt\n",
    "import seaborn as sns\n",
    "import warnings\n",
    "warnings.filterwarnings('ignore')"
   ]
  },
  {
   "cell_type": "markdown",
   "id": "de7b4993-e4c1-4c8a-987e-8591119d3648",
   "metadata": {},
   "source": [
    "# Data Wrangling\n",
    "\n",
    "Data wrangling merupakan sebuah proses untuk pengumpulan data (Data Gathering), penilaian data (Assessing Data), dan pembersihan data (Data Cleaning)"
   ]
  },
  {
   "cell_type": "markdown",
   "id": "32cafd03-6115-4ab6-bd79-df25b110aaa6",
   "metadata": {},
   "source": [
    "## Data Gathering\n",
    "\n",
    "Pada tahap ini akan dilakukan proses pengumpulan semua data E-Commerce Public Dataset yang dibutuhkan"
   ]
  },
  {
   "cell_type": "markdown",
   "id": "480e612d-be7a-4274-8f7e-dcb96e0b9027",
   "metadata": {},
   "source": [
    "### Memuat Tabel Customer"
   ]
  },
  {
   "cell_type": "code",
   "execution_count": 2,
   "id": "29fcd7b4-d547-494d-8585-9f82ce098298",
   "metadata": {},
   "outputs": [
    {
     "data": {
      "text/html": [
       "<div>\n",
       "<style scoped>\n",
       "    .dataframe tbody tr th:only-of-type {\n",
       "        vertical-align: middle;\n",
       "    }\n",
       "\n",
       "    .dataframe tbody tr th {\n",
       "        vertical-align: top;\n",
       "    }\n",
       "\n",
       "    .dataframe thead th {\n",
       "        text-align: right;\n",
       "    }\n",
       "</style>\n",
       "<table border=\"1\" class=\"dataframe\">\n",
       "  <thead>\n",
       "    <tr style=\"text-align: right;\">\n",
       "      <th></th>\n",
       "      <th>customer_id</th>\n",
       "      <th>customer_unique_id</th>\n",
       "      <th>customer_zip_code_prefix</th>\n",
       "      <th>customer_city</th>\n",
       "      <th>customer_state</th>\n",
       "    </tr>\n",
       "  </thead>\n",
       "  <tbody>\n",
       "    <tr>\n",
       "      <th>0</th>\n",
       "      <td>06b8999e2fba1a1fbc88172c00ba8bc7</td>\n",
       "      <td>861eff4711a542e4b93843c6dd7febb0</td>\n",
       "      <td>14409</td>\n",
       "      <td>franca</td>\n",
       "      <td>SP</td>\n",
       "    </tr>\n",
       "    <tr>\n",
       "      <th>1</th>\n",
       "      <td>18955e83d337fd6b2def6b18a428ac77</td>\n",
       "      <td>290c77bc529b7ac935b93aa66c333dc3</td>\n",
       "      <td>9790</td>\n",
       "      <td>sao bernardo do campo</td>\n",
       "      <td>SP</td>\n",
       "    </tr>\n",
       "    <tr>\n",
       "      <th>2</th>\n",
       "      <td>4e7b3e00288586ebd08712fdd0374a03</td>\n",
       "      <td>060e732b5b29e8181a18229c7b0b2b5e</td>\n",
       "      <td>1151</td>\n",
       "      <td>sao paulo</td>\n",
       "      <td>SP</td>\n",
       "    </tr>\n",
       "    <tr>\n",
       "      <th>3</th>\n",
       "      <td>b2b6027bc5c5109e529d4dc6358b12c3</td>\n",
       "      <td>259dac757896d24d7702b9acbbff3f3c</td>\n",
       "      <td>8775</td>\n",
       "      <td>mogi das cruzes</td>\n",
       "      <td>SP</td>\n",
       "    </tr>\n",
       "    <tr>\n",
       "      <th>4</th>\n",
       "      <td>4f2d8ab171c80ec8364f7c12e35b23ad</td>\n",
       "      <td>345ecd01c38d18a9036ed96c73b8d066</td>\n",
       "      <td>13056</td>\n",
       "      <td>campinas</td>\n",
       "      <td>SP</td>\n",
       "    </tr>\n",
       "  </tbody>\n",
       "</table>\n",
       "</div>"
      ],
      "text/plain": [
       "                        customer_id                customer_unique_id  \\\n",
       "0  06b8999e2fba1a1fbc88172c00ba8bc7  861eff4711a542e4b93843c6dd7febb0   \n",
       "1  18955e83d337fd6b2def6b18a428ac77  290c77bc529b7ac935b93aa66c333dc3   \n",
       "2  4e7b3e00288586ebd08712fdd0374a03  060e732b5b29e8181a18229c7b0b2b5e   \n",
       "3  b2b6027bc5c5109e529d4dc6358b12c3  259dac757896d24d7702b9acbbff3f3c   \n",
       "4  4f2d8ab171c80ec8364f7c12e35b23ad  345ecd01c38d18a9036ed96c73b8d066   \n",
       "\n",
       "   customer_zip_code_prefix          customer_city customer_state  \n",
       "0                     14409                 franca             SP  \n",
       "1                      9790  sao bernardo do campo             SP  \n",
       "2                      1151              sao paulo             SP  \n",
       "3                      8775        mogi das cruzes             SP  \n",
       "4                     13056               campinas             SP  "
      ]
     },
     "execution_count": 2,
     "metadata": {},
     "output_type": "execute_result"
    }
   ],
   "source": [
    "customers_df = pd.read_csv(\"Data/customers_dataset.csv\")\n",
    "customers_df.head()"
   ]
  },
  {
   "cell_type": "markdown",
   "id": "e7c8cfdd-8c85-491c-81bd-4ca4c564cdb1",
   "metadata": {},
   "source": [
    "### Memuat Tabel Order Items"
   ]
  },
  {
   "cell_type": "code",
   "execution_count": 4,
   "id": "6736d1a3-c4a1-416f-a07f-c517f664f24e",
   "metadata": {},
   "outputs": [
    {
     "data": {
      "text/html": [
       "<div>\n",
       "<style scoped>\n",
       "    .dataframe tbody tr th:only-of-type {\n",
       "        vertical-align: middle;\n",
       "    }\n",
       "\n",
       "    .dataframe tbody tr th {\n",
       "        vertical-align: top;\n",
       "    }\n",
       "\n",
       "    .dataframe thead th {\n",
       "        text-align: right;\n",
       "    }\n",
       "</style>\n",
       "<table border=\"1\" class=\"dataframe\">\n",
       "  <thead>\n",
       "    <tr style=\"text-align: right;\">\n",
       "      <th></th>\n",
       "      <th>order_id</th>\n",
       "      <th>order_item_id</th>\n",
       "      <th>product_id</th>\n",
       "      <th>seller_id</th>\n",
       "      <th>shipping_limit_date</th>\n",
       "      <th>price</th>\n",
       "      <th>freight_value</th>\n",
       "    </tr>\n",
       "  </thead>\n",
       "  <tbody>\n",
       "    <tr>\n",
       "      <th>0</th>\n",
       "      <td>00010242fe8c5a6d1ba2dd792cb16214</td>\n",
       "      <td>1</td>\n",
       "      <td>4244733e06e7ecb4970a6e2683c13e61</td>\n",
       "      <td>48436dade18ac8b2bce089ec2a041202</td>\n",
       "      <td>2017-09-19 09:45:35</td>\n",
       "      <td>58.90</td>\n",
       "      <td>13.29</td>\n",
       "    </tr>\n",
       "    <tr>\n",
       "      <th>1</th>\n",
       "      <td>00018f77f2f0320c557190d7a144bdd3</td>\n",
       "      <td>1</td>\n",
       "      <td>e5f2d52b802189ee658865ca93d83a8f</td>\n",
       "      <td>dd7ddc04e1b6c2c614352b383efe2d36</td>\n",
       "      <td>2017-05-03 11:05:13</td>\n",
       "      <td>239.90</td>\n",
       "      <td>19.93</td>\n",
       "    </tr>\n",
       "    <tr>\n",
       "      <th>2</th>\n",
       "      <td>000229ec398224ef6ca0657da4fc703e</td>\n",
       "      <td>1</td>\n",
       "      <td>c777355d18b72b67abbeef9df44fd0fd</td>\n",
       "      <td>5b51032eddd242adc84c38acab88f23d</td>\n",
       "      <td>2018-01-18 14:48:30</td>\n",
       "      <td>199.00</td>\n",
       "      <td>17.87</td>\n",
       "    </tr>\n",
       "    <tr>\n",
       "      <th>3</th>\n",
       "      <td>00024acbcdf0a6daa1e931b038114c75</td>\n",
       "      <td>1</td>\n",
       "      <td>7634da152a4610f1595efa32f14722fc</td>\n",
       "      <td>9d7a1d34a5052409006425275ba1c2b4</td>\n",
       "      <td>2018-08-15 10:10:18</td>\n",
       "      <td>12.99</td>\n",
       "      <td>12.79</td>\n",
       "    </tr>\n",
       "    <tr>\n",
       "      <th>4</th>\n",
       "      <td>00042b26cf59d7ce69dfabb4e55b4fd9</td>\n",
       "      <td>1</td>\n",
       "      <td>ac6c3623068f30de03045865e4e10089</td>\n",
       "      <td>df560393f3a51e74553ab94004ba5c87</td>\n",
       "      <td>2017-02-13 13:57:51</td>\n",
       "      <td>199.90</td>\n",
       "      <td>18.14</td>\n",
       "    </tr>\n",
       "  </tbody>\n",
       "</table>\n",
       "</div>"
      ],
      "text/plain": [
       "                           order_id  order_item_id  \\\n",
       "0  00010242fe8c5a6d1ba2dd792cb16214              1   \n",
       "1  00018f77f2f0320c557190d7a144bdd3              1   \n",
       "2  000229ec398224ef6ca0657da4fc703e              1   \n",
       "3  00024acbcdf0a6daa1e931b038114c75              1   \n",
       "4  00042b26cf59d7ce69dfabb4e55b4fd9              1   \n",
       "\n",
       "                         product_id                         seller_id  \\\n",
       "0  4244733e06e7ecb4970a6e2683c13e61  48436dade18ac8b2bce089ec2a041202   \n",
       "1  e5f2d52b802189ee658865ca93d83a8f  dd7ddc04e1b6c2c614352b383efe2d36   \n",
       "2  c777355d18b72b67abbeef9df44fd0fd  5b51032eddd242adc84c38acab88f23d   \n",
       "3  7634da152a4610f1595efa32f14722fc  9d7a1d34a5052409006425275ba1c2b4   \n",
       "4  ac6c3623068f30de03045865e4e10089  df560393f3a51e74553ab94004ba5c87   \n",
       "\n",
       "   shipping_limit_date   price  freight_value  \n",
       "0  2017-09-19 09:45:35   58.90          13.29  \n",
       "1  2017-05-03 11:05:13  239.90          19.93  \n",
       "2  2018-01-18 14:48:30  199.00          17.87  \n",
       "3  2018-08-15 10:10:18   12.99          12.79  \n",
       "4  2017-02-13 13:57:51  199.90          18.14  "
      ]
     },
     "execution_count": 4,
     "metadata": {},
     "output_type": "execute_result"
    }
   ],
   "source": [
    "order_items_df = pd.read_csv(\"Data/order_items_dataset.csv\")\n",
    "order_items_df.head()"
   ]
  },
  {
   "cell_type": "markdown",
   "id": "794e4c40-7074-491d-8d06-ae3c5770e5d5",
   "metadata": {},
   "source": [
    "### Memuat Tabel Order Payment"
   ]
  },
  {
   "cell_type": "code",
   "execution_count": 5,
   "id": "e9fcfef4-3986-4183-8d22-2b379f38d1d6",
   "metadata": {},
   "outputs": [
    {
     "data": {
      "text/html": [
       "<div>\n",
       "<style scoped>\n",
       "    .dataframe tbody tr th:only-of-type {\n",
       "        vertical-align: middle;\n",
       "    }\n",
       "\n",
       "    .dataframe tbody tr th {\n",
       "        vertical-align: top;\n",
       "    }\n",
       "\n",
       "    .dataframe thead th {\n",
       "        text-align: right;\n",
       "    }\n",
       "</style>\n",
       "<table border=\"1\" class=\"dataframe\">\n",
       "  <thead>\n",
       "    <tr style=\"text-align: right;\">\n",
       "      <th></th>\n",
       "      <th>order_id</th>\n",
       "      <th>payment_sequential</th>\n",
       "      <th>payment_type</th>\n",
       "      <th>payment_installments</th>\n",
       "      <th>payment_value</th>\n",
       "    </tr>\n",
       "  </thead>\n",
       "  <tbody>\n",
       "    <tr>\n",
       "      <th>0</th>\n",
       "      <td>b81ef226f3fe1789b1e8b2acac839d17</td>\n",
       "      <td>1</td>\n",
       "      <td>credit_card</td>\n",
       "      <td>8</td>\n",
       "      <td>99.33</td>\n",
       "    </tr>\n",
       "    <tr>\n",
       "      <th>1</th>\n",
       "      <td>a9810da82917af2d9aefd1278f1dcfa0</td>\n",
       "      <td>1</td>\n",
       "      <td>credit_card</td>\n",
       "      <td>1</td>\n",
       "      <td>24.39</td>\n",
       "    </tr>\n",
       "    <tr>\n",
       "      <th>2</th>\n",
       "      <td>25e8ea4e93396b6fa0d3dd708e76c1bd</td>\n",
       "      <td>1</td>\n",
       "      <td>credit_card</td>\n",
       "      <td>1</td>\n",
       "      <td>65.71</td>\n",
       "    </tr>\n",
       "    <tr>\n",
       "      <th>3</th>\n",
       "      <td>ba78997921bbcdc1373bb41e913ab953</td>\n",
       "      <td>1</td>\n",
       "      <td>credit_card</td>\n",
       "      <td>8</td>\n",
       "      <td>107.78</td>\n",
       "    </tr>\n",
       "    <tr>\n",
       "      <th>4</th>\n",
       "      <td>42fdf880ba16b47b59251dd489d4441a</td>\n",
       "      <td>1</td>\n",
       "      <td>credit_card</td>\n",
       "      <td>2</td>\n",
       "      <td>128.45</td>\n",
       "    </tr>\n",
       "  </tbody>\n",
       "</table>\n",
       "</div>"
      ],
      "text/plain": [
       "                           order_id  payment_sequential payment_type  \\\n",
       "0  b81ef226f3fe1789b1e8b2acac839d17                   1  credit_card   \n",
       "1  a9810da82917af2d9aefd1278f1dcfa0                   1  credit_card   \n",
       "2  25e8ea4e93396b6fa0d3dd708e76c1bd                   1  credit_card   \n",
       "3  ba78997921bbcdc1373bb41e913ab953                   1  credit_card   \n",
       "4  42fdf880ba16b47b59251dd489d4441a                   1  credit_card   \n",
       "\n",
       "   payment_installments  payment_value  \n",
       "0                     8          99.33  \n",
       "1                     1          24.39  \n",
       "2                     1          65.71  \n",
       "3                     8         107.78  \n",
       "4                     2         128.45  "
      ]
     },
     "execution_count": 5,
     "metadata": {},
     "output_type": "execute_result"
    }
   ],
   "source": [
    "order_payments_df = pd.read_csv(\"Data/order_payments_dataset.csv\")\n",
    "order_payments_df.head()"
   ]
  },
  {
   "cell_type": "markdown",
   "id": "a21cb13e-45f0-4ea1-98bf-1a56c6642e66",
   "metadata": {},
   "source": [
    "### Memuat Tabel Order Reviews"
   ]
  },
  {
   "cell_type": "code",
   "execution_count": 6,
   "id": "3e671f7c-5db0-43e0-8764-dfc5c3856c07",
   "metadata": {},
   "outputs": [
    {
     "data": {
      "text/html": [
       "<div>\n",
       "<style scoped>\n",
       "    .dataframe tbody tr th:only-of-type {\n",
       "        vertical-align: middle;\n",
       "    }\n",
       "\n",
       "    .dataframe tbody tr th {\n",
       "        vertical-align: top;\n",
       "    }\n",
       "\n",
       "    .dataframe thead th {\n",
       "        text-align: right;\n",
       "    }\n",
       "</style>\n",
       "<table border=\"1\" class=\"dataframe\">\n",
       "  <thead>\n",
       "    <tr style=\"text-align: right;\">\n",
       "      <th></th>\n",
       "      <th>review_id</th>\n",
       "      <th>order_id</th>\n",
       "      <th>review_score</th>\n",
       "      <th>review_comment_title</th>\n",
       "      <th>review_comment_message</th>\n",
       "      <th>review_creation_date</th>\n",
       "      <th>review_answer_timestamp</th>\n",
       "    </tr>\n",
       "  </thead>\n",
       "  <tbody>\n",
       "    <tr>\n",
       "      <th>0</th>\n",
       "      <td>7bc2406110b926393aa56f80a40eba40</td>\n",
       "      <td>73fc7af87114b39712e6da79b0a377eb</td>\n",
       "      <td>4</td>\n",
       "      <td>NaN</td>\n",
       "      <td>NaN</td>\n",
       "      <td>2018-01-18 00:00:00</td>\n",
       "      <td>2018-01-18 21:46:59</td>\n",
       "    </tr>\n",
       "    <tr>\n",
       "      <th>1</th>\n",
       "      <td>80e641a11e56f04c1ad469d5645fdfde</td>\n",
       "      <td>a548910a1c6147796b98fdf73dbeba33</td>\n",
       "      <td>5</td>\n",
       "      <td>NaN</td>\n",
       "      <td>NaN</td>\n",
       "      <td>2018-03-10 00:00:00</td>\n",
       "      <td>2018-03-11 03:05:13</td>\n",
       "    </tr>\n",
       "    <tr>\n",
       "      <th>2</th>\n",
       "      <td>228ce5500dc1d8e020d8d1322874b6f0</td>\n",
       "      <td>f9e4b658b201a9f2ecdecbb34bed034b</td>\n",
       "      <td>5</td>\n",
       "      <td>NaN</td>\n",
       "      <td>NaN</td>\n",
       "      <td>2018-02-17 00:00:00</td>\n",
       "      <td>2018-02-18 14:36:24</td>\n",
       "    </tr>\n",
       "    <tr>\n",
       "      <th>3</th>\n",
       "      <td>e64fb393e7b32834bb789ff8bb30750e</td>\n",
       "      <td>658677c97b385a9be170737859d3511b</td>\n",
       "      <td>5</td>\n",
       "      <td>NaN</td>\n",
       "      <td>Recebi bem antes do prazo estipulado.</td>\n",
       "      <td>2017-04-21 00:00:00</td>\n",
       "      <td>2017-04-21 22:02:06</td>\n",
       "    </tr>\n",
       "    <tr>\n",
       "      <th>4</th>\n",
       "      <td>f7c4243c7fe1938f181bec41a392bdeb</td>\n",
       "      <td>8e6bfb81e283fa7e4f11123a3fb894f1</td>\n",
       "      <td>5</td>\n",
       "      <td>NaN</td>\n",
       "      <td>Parabéns lojas lannister adorei comprar pela I...</td>\n",
       "      <td>2018-03-01 00:00:00</td>\n",
       "      <td>2018-03-02 10:26:53</td>\n",
       "    </tr>\n",
       "  </tbody>\n",
       "</table>\n",
       "</div>"
      ],
      "text/plain": [
       "                          review_id                          order_id  \\\n",
       "0  7bc2406110b926393aa56f80a40eba40  73fc7af87114b39712e6da79b0a377eb   \n",
       "1  80e641a11e56f04c1ad469d5645fdfde  a548910a1c6147796b98fdf73dbeba33   \n",
       "2  228ce5500dc1d8e020d8d1322874b6f0  f9e4b658b201a9f2ecdecbb34bed034b   \n",
       "3  e64fb393e7b32834bb789ff8bb30750e  658677c97b385a9be170737859d3511b   \n",
       "4  f7c4243c7fe1938f181bec41a392bdeb  8e6bfb81e283fa7e4f11123a3fb894f1   \n",
       "\n",
       "   review_score review_comment_title  \\\n",
       "0             4                  NaN   \n",
       "1             5                  NaN   \n",
       "2             5                  NaN   \n",
       "3             5                  NaN   \n",
       "4             5                  NaN   \n",
       "\n",
       "                              review_comment_message review_creation_date  \\\n",
       "0                                                NaN  2018-01-18 00:00:00   \n",
       "1                                                NaN  2018-03-10 00:00:00   \n",
       "2                                                NaN  2018-02-17 00:00:00   \n",
       "3              Recebi bem antes do prazo estipulado.  2017-04-21 00:00:00   \n",
       "4  Parabéns lojas lannister adorei comprar pela I...  2018-03-01 00:00:00   \n",
       "\n",
       "  review_answer_timestamp  \n",
       "0     2018-01-18 21:46:59  \n",
       "1     2018-03-11 03:05:13  \n",
       "2     2018-02-18 14:36:24  \n",
       "3     2017-04-21 22:02:06  \n",
       "4     2018-03-02 10:26:53  "
      ]
     },
     "execution_count": 6,
     "metadata": {},
     "output_type": "execute_result"
    }
   ],
   "source": [
    "order_reviews_df = pd.read_csv(\"Data/order_reviews_dataset.csv\")\n",
    "order_reviews_df.head()"
   ]
  },
  {
   "cell_type": "markdown",
   "id": "af0fe459-1710-4764-a9ed-4374f57a2be9",
   "metadata": {},
   "source": [
    "### Memuat Tabel Order Dataset"
   ]
  },
  {
   "cell_type": "code",
   "execution_count": 7,
   "id": "af6a2e62-9698-4cb8-97cf-930297d0be5b",
   "metadata": {},
   "outputs": [
    {
     "data": {
      "text/html": [
       "<div>\n",
       "<style scoped>\n",
       "    .dataframe tbody tr th:only-of-type {\n",
       "        vertical-align: middle;\n",
       "    }\n",
       "\n",
       "    .dataframe tbody tr th {\n",
       "        vertical-align: top;\n",
       "    }\n",
       "\n",
       "    .dataframe thead th {\n",
       "        text-align: right;\n",
       "    }\n",
       "</style>\n",
       "<table border=\"1\" class=\"dataframe\">\n",
       "  <thead>\n",
       "    <tr style=\"text-align: right;\">\n",
       "      <th></th>\n",
       "      <th>order_id</th>\n",
       "      <th>customer_id</th>\n",
       "      <th>order_status</th>\n",
       "      <th>order_purchase_timestamp</th>\n",
       "      <th>order_approved_at</th>\n",
       "      <th>order_delivered_carrier_date</th>\n",
       "      <th>order_delivered_customer_date</th>\n",
       "      <th>order_estimated_delivery_date</th>\n",
       "    </tr>\n",
       "  </thead>\n",
       "  <tbody>\n",
       "    <tr>\n",
       "      <th>0</th>\n",
       "      <td>e481f51cbdc54678b7cc49136f2d6af7</td>\n",
       "      <td>9ef432eb6251297304e76186b10a928d</td>\n",
       "      <td>delivered</td>\n",
       "      <td>2017-10-02 10:56:33</td>\n",
       "      <td>2017-10-02 11:07:15</td>\n",
       "      <td>2017-10-04 19:55:00</td>\n",
       "      <td>2017-10-10 21:25:13</td>\n",
       "      <td>2017-10-18 00:00:00</td>\n",
       "    </tr>\n",
       "    <tr>\n",
       "      <th>1</th>\n",
       "      <td>53cdb2fc8bc7dce0b6741e2150273451</td>\n",
       "      <td>b0830fb4747a6c6d20dea0b8c802d7ef</td>\n",
       "      <td>delivered</td>\n",
       "      <td>2018-07-24 20:41:37</td>\n",
       "      <td>2018-07-26 03:24:27</td>\n",
       "      <td>2018-07-26 14:31:00</td>\n",
       "      <td>2018-08-07 15:27:45</td>\n",
       "      <td>2018-08-13 00:00:00</td>\n",
       "    </tr>\n",
       "    <tr>\n",
       "      <th>2</th>\n",
       "      <td>47770eb9100c2d0c44946d9cf07ec65d</td>\n",
       "      <td>41ce2a54c0b03bf3443c3d931a367089</td>\n",
       "      <td>delivered</td>\n",
       "      <td>2018-08-08 08:38:49</td>\n",
       "      <td>2018-08-08 08:55:23</td>\n",
       "      <td>2018-08-08 13:50:00</td>\n",
       "      <td>2018-08-17 18:06:29</td>\n",
       "      <td>2018-09-04 00:00:00</td>\n",
       "    </tr>\n",
       "    <tr>\n",
       "      <th>3</th>\n",
       "      <td>949d5b44dbf5de918fe9c16f97b45f8a</td>\n",
       "      <td>f88197465ea7920adcdbec7375364d82</td>\n",
       "      <td>delivered</td>\n",
       "      <td>2017-11-18 19:28:06</td>\n",
       "      <td>2017-11-18 19:45:59</td>\n",
       "      <td>2017-11-22 13:39:59</td>\n",
       "      <td>2017-12-02 00:28:42</td>\n",
       "      <td>2017-12-15 00:00:00</td>\n",
       "    </tr>\n",
       "    <tr>\n",
       "      <th>4</th>\n",
       "      <td>ad21c59c0840e6cb83a9ceb5573f8159</td>\n",
       "      <td>8ab97904e6daea8866dbdbc4fb7aad2c</td>\n",
       "      <td>delivered</td>\n",
       "      <td>2018-02-13 21:18:39</td>\n",
       "      <td>2018-02-13 22:20:29</td>\n",
       "      <td>2018-02-14 19:46:34</td>\n",
       "      <td>2018-02-16 18:17:02</td>\n",
       "      <td>2018-02-26 00:00:00</td>\n",
       "    </tr>\n",
       "  </tbody>\n",
       "</table>\n",
       "</div>"
      ],
      "text/plain": [
       "                           order_id                       customer_id  \\\n",
       "0  e481f51cbdc54678b7cc49136f2d6af7  9ef432eb6251297304e76186b10a928d   \n",
       "1  53cdb2fc8bc7dce0b6741e2150273451  b0830fb4747a6c6d20dea0b8c802d7ef   \n",
       "2  47770eb9100c2d0c44946d9cf07ec65d  41ce2a54c0b03bf3443c3d931a367089   \n",
       "3  949d5b44dbf5de918fe9c16f97b45f8a  f88197465ea7920adcdbec7375364d82   \n",
       "4  ad21c59c0840e6cb83a9ceb5573f8159  8ab97904e6daea8866dbdbc4fb7aad2c   \n",
       "\n",
       "  order_status order_purchase_timestamp    order_approved_at  \\\n",
       "0    delivered      2017-10-02 10:56:33  2017-10-02 11:07:15   \n",
       "1    delivered      2018-07-24 20:41:37  2018-07-26 03:24:27   \n",
       "2    delivered      2018-08-08 08:38:49  2018-08-08 08:55:23   \n",
       "3    delivered      2017-11-18 19:28:06  2017-11-18 19:45:59   \n",
       "4    delivered      2018-02-13 21:18:39  2018-02-13 22:20:29   \n",
       "\n",
       "  order_delivered_carrier_date order_delivered_customer_date  \\\n",
       "0          2017-10-04 19:55:00           2017-10-10 21:25:13   \n",
       "1          2018-07-26 14:31:00           2018-08-07 15:27:45   \n",
       "2          2018-08-08 13:50:00           2018-08-17 18:06:29   \n",
       "3          2017-11-22 13:39:59           2017-12-02 00:28:42   \n",
       "4          2018-02-14 19:46:34           2018-02-16 18:17:02   \n",
       "\n",
       "  order_estimated_delivery_date  \n",
       "0           2017-10-18 00:00:00  \n",
       "1           2018-08-13 00:00:00  \n",
       "2           2018-09-04 00:00:00  \n",
       "3           2017-12-15 00:00:00  \n",
       "4           2018-02-26 00:00:00  "
      ]
     },
     "execution_count": 7,
     "metadata": {},
     "output_type": "execute_result"
    }
   ],
   "source": [
    "orders_df = pd.read_csv(\"Data/orders_dataset.csv\")\n",
    "orders_df.head()"
   ]
  },
  {
   "cell_type": "markdown",
   "id": "37746bdd-0441-4a07-896d-d882d3fa39fa",
   "metadata": {},
   "source": [
    "### Memuat Tabel Product Category Name Translation"
   ]
  },
  {
   "cell_type": "code",
   "execution_count": 8,
   "id": "0f010e7e-49ec-49b0-8c1c-ff6fddf6a057",
   "metadata": {},
   "outputs": [
    {
     "data": {
      "text/html": [
       "<div>\n",
       "<style scoped>\n",
       "    .dataframe tbody tr th:only-of-type {\n",
       "        vertical-align: middle;\n",
       "    }\n",
       "\n",
       "    .dataframe tbody tr th {\n",
       "        vertical-align: top;\n",
       "    }\n",
       "\n",
       "    .dataframe thead th {\n",
       "        text-align: right;\n",
       "    }\n",
       "</style>\n",
       "<table border=\"1\" class=\"dataframe\">\n",
       "  <thead>\n",
       "    <tr style=\"text-align: right;\">\n",
       "      <th></th>\n",
       "      <th>product_category_name</th>\n",
       "      <th>product_category_name_english</th>\n",
       "    </tr>\n",
       "  </thead>\n",
       "  <tbody>\n",
       "    <tr>\n",
       "      <th>0</th>\n",
       "      <td>beleza_saude</td>\n",
       "      <td>health_beauty</td>\n",
       "    </tr>\n",
       "    <tr>\n",
       "      <th>1</th>\n",
       "      <td>informatica_acessorios</td>\n",
       "      <td>computers_accessories</td>\n",
       "    </tr>\n",
       "    <tr>\n",
       "      <th>2</th>\n",
       "      <td>automotivo</td>\n",
       "      <td>auto</td>\n",
       "    </tr>\n",
       "    <tr>\n",
       "      <th>3</th>\n",
       "      <td>cama_mesa_banho</td>\n",
       "      <td>bed_bath_table</td>\n",
       "    </tr>\n",
       "    <tr>\n",
       "      <th>4</th>\n",
       "      <td>moveis_decoracao</td>\n",
       "      <td>furniture_decor</td>\n",
       "    </tr>\n",
       "  </tbody>\n",
       "</table>\n",
       "</div>"
      ],
      "text/plain": [
       "    product_category_name product_category_name_english\n",
       "0            beleza_saude                 health_beauty\n",
       "1  informatica_acessorios         computers_accessories\n",
       "2              automotivo                          auto\n",
       "3         cama_mesa_banho                bed_bath_table\n",
       "4        moveis_decoracao               furniture_decor"
      ]
     },
     "execution_count": 8,
     "metadata": {},
     "output_type": "execute_result"
    }
   ],
   "source": [
    "product_category_df = pd.read_csv(\"Data/product_category_name_translation.csv\")\n",
    "product_category_df.head()"
   ]
  },
  {
   "cell_type": "markdown",
   "id": "1e8d7f6b-2eb1-4a13-a771-70189f637867",
   "metadata": {},
   "source": [
    "### Memuat Tabel Products Dataset"
   ]
  },
  {
   "cell_type": "code",
   "execution_count": 9,
   "id": "19fe01c4-fb56-4b58-8f9a-417d29e1c9d0",
   "metadata": {},
   "outputs": [
    {
     "data": {
      "text/html": [
       "<div>\n",
       "<style scoped>\n",
       "    .dataframe tbody tr th:only-of-type {\n",
       "        vertical-align: middle;\n",
       "    }\n",
       "\n",
       "    .dataframe tbody tr th {\n",
       "        vertical-align: top;\n",
       "    }\n",
       "\n",
       "    .dataframe thead th {\n",
       "        text-align: right;\n",
       "    }\n",
       "</style>\n",
       "<table border=\"1\" class=\"dataframe\">\n",
       "  <thead>\n",
       "    <tr style=\"text-align: right;\">\n",
       "      <th></th>\n",
       "      <th>product_id</th>\n",
       "      <th>product_category_name</th>\n",
       "      <th>product_name_lenght</th>\n",
       "      <th>product_description_lenght</th>\n",
       "      <th>product_photos_qty</th>\n",
       "      <th>product_weight_g</th>\n",
       "      <th>product_length_cm</th>\n",
       "      <th>product_height_cm</th>\n",
       "      <th>product_width_cm</th>\n",
       "    </tr>\n",
       "  </thead>\n",
       "  <tbody>\n",
       "    <tr>\n",
       "      <th>0</th>\n",
       "      <td>1e9e8ef04dbcff4541ed26657ea517e5</td>\n",
       "      <td>perfumaria</td>\n",
       "      <td>40.0</td>\n",
       "      <td>287.0</td>\n",
       "      <td>1.0</td>\n",
       "      <td>225.0</td>\n",
       "      <td>16.0</td>\n",
       "      <td>10.0</td>\n",
       "      <td>14.0</td>\n",
       "    </tr>\n",
       "    <tr>\n",
       "      <th>1</th>\n",
       "      <td>3aa071139cb16b67ca9e5dea641aaa2f</td>\n",
       "      <td>artes</td>\n",
       "      <td>44.0</td>\n",
       "      <td>276.0</td>\n",
       "      <td>1.0</td>\n",
       "      <td>1000.0</td>\n",
       "      <td>30.0</td>\n",
       "      <td>18.0</td>\n",
       "      <td>20.0</td>\n",
       "    </tr>\n",
       "    <tr>\n",
       "      <th>2</th>\n",
       "      <td>96bd76ec8810374ed1b65e291975717f</td>\n",
       "      <td>esporte_lazer</td>\n",
       "      <td>46.0</td>\n",
       "      <td>250.0</td>\n",
       "      <td>1.0</td>\n",
       "      <td>154.0</td>\n",
       "      <td>18.0</td>\n",
       "      <td>9.0</td>\n",
       "      <td>15.0</td>\n",
       "    </tr>\n",
       "    <tr>\n",
       "      <th>3</th>\n",
       "      <td>cef67bcfe19066a932b7673e239eb23d</td>\n",
       "      <td>bebes</td>\n",
       "      <td>27.0</td>\n",
       "      <td>261.0</td>\n",
       "      <td>1.0</td>\n",
       "      <td>371.0</td>\n",
       "      <td>26.0</td>\n",
       "      <td>4.0</td>\n",
       "      <td>26.0</td>\n",
       "    </tr>\n",
       "    <tr>\n",
       "      <th>4</th>\n",
       "      <td>9dc1a7de274444849c219cff195d0b71</td>\n",
       "      <td>utilidades_domesticas</td>\n",
       "      <td>37.0</td>\n",
       "      <td>402.0</td>\n",
       "      <td>4.0</td>\n",
       "      <td>625.0</td>\n",
       "      <td>20.0</td>\n",
       "      <td>17.0</td>\n",
       "      <td>13.0</td>\n",
       "    </tr>\n",
       "  </tbody>\n",
       "</table>\n",
       "</div>"
      ],
      "text/plain": [
       "                         product_id  product_category_name  \\\n",
       "0  1e9e8ef04dbcff4541ed26657ea517e5             perfumaria   \n",
       "1  3aa071139cb16b67ca9e5dea641aaa2f                  artes   \n",
       "2  96bd76ec8810374ed1b65e291975717f          esporte_lazer   \n",
       "3  cef67bcfe19066a932b7673e239eb23d                  bebes   \n",
       "4  9dc1a7de274444849c219cff195d0b71  utilidades_domesticas   \n",
       "\n",
       "   product_name_lenght  product_description_lenght  product_photos_qty  \\\n",
       "0                 40.0                       287.0                 1.0   \n",
       "1                 44.0                       276.0                 1.0   \n",
       "2                 46.0                       250.0                 1.0   \n",
       "3                 27.0                       261.0                 1.0   \n",
       "4                 37.0                       402.0                 4.0   \n",
       "\n",
       "   product_weight_g  product_length_cm  product_height_cm  product_width_cm  \n",
       "0             225.0               16.0               10.0              14.0  \n",
       "1            1000.0               30.0               18.0              20.0  \n",
       "2             154.0               18.0                9.0              15.0  \n",
       "3             371.0               26.0                4.0              26.0  \n",
       "4             625.0               20.0               17.0              13.0  "
      ]
     },
     "execution_count": 9,
     "metadata": {},
     "output_type": "execute_result"
    }
   ],
   "source": [
    "products_df = pd.read_csv(\"Data/products_dataset.csv\")\n",
    "products_df.head()"
   ]
  },
  {
   "cell_type": "markdown",
   "id": "ef137b9e-6af7-46cd-96bc-15d8ab975c30",
   "metadata": {},
   "source": [
    "### Memuat Tabel Seller"
   ]
  },
  {
   "cell_type": "code",
   "execution_count": 10,
   "id": "35bbc5e1-8bee-474d-8b9c-eaf3e66d249b",
   "metadata": {},
   "outputs": [
    {
     "data": {
      "text/html": [
       "<div>\n",
       "<style scoped>\n",
       "    .dataframe tbody tr th:only-of-type {\n",
       "        vertical-align: middle;\n",
       "    }\n",
       "\n",
       "    .dataframe tbody tr th {\n",
       "        vertical-align: top;\n",
       "    }\n",
       "\n",
       "    .dataframe thead th {\n",
       "        text-align: right;\n",
       "    }\n",
       "</style>\n",
       "<table border=\"1\" class=\"dataframe\">\n",
       "  <thead>\n",
       "    <tr style=\"text-align: right;\">\n",
       "      <th></th>\n",
       "      <th>seller_id</th>\n",
       "      <th>seller_zip_code_prefix</th>\n",
       "      <th>seller_city</th>\n",
       "      <th>seller_state</th>\n",
       "    </tr>\n",
       "  </thead>\n",
       "  <tbody>\n",
       "    <tr>\n",
       "      <th>0</th>\n",
       "      <td>3442f8959a84dea7ee197c632cb2df15</td>\n",
       "      <td>13023</td>\n",
       "      <td>campinas</td>\n",
       "      <td>SP</td>\n",
       "    </tr>\n",
       "    <tr>\n",
       "      <th>1</th>\n",
       "      <td>d1b65fc7debc3361ea86b5f14c68d2e2</td>\n",
       "      <td>13844</td>\n",
       "      <td>mogi guacu</td>\n",
       "      <td>SP</td>\n",
       "    </tr>\n",
       "    <tr>\n",
       "      <th>2</th>\n",
       "      <td>ce3ad9de960102d0677a81f5d0bb7b2d</td>\n",
       "      <td>20031</td>\n",
       "      <td>rio de janeiro</td>\n",
       "      <td>RJ</td>\n",
       "    </tr>\n",
       "    <tr>\n",
       "      <th>3</th>\n",
       "      <td>c0f3eea2e14555b6faeea3dd58c1b1c3</td>\n",
       "      <td>4195</td>\n",
       "      <td>sao paulo</td>\n",
       "      <td>SP</td>\n",
       "    </tr>\n",
       "    <tr>\n",
       "      <th>4</th>\n",
       "      <td>51a04a8a6bdcb23deccc82b0b80742cf</td>\n",
       "      <td>12914</td>\n",
       "      <td>braganca paulista</td>\n",
       "      <td>SP</td>\n",
       "    </tr>\n",
       "  </tbody>\n",
       "</table>\n",
       "</div>"
      ],
      "text/plain": [
       "                          seller_id  seller_zip_code_prefix  \\\n",
       "0  3442f8959a84dea7ee197c632cb2df15                   13023   \n",
       "1  d1b65fc7debc3361ea86b5f14c68d2e2                   13844   \n",
       "2  ce3ad9de960102d0677a81f5d0bb7b2d                   20031   \n",
       "3  c0f3eea2e14555b6faeea3dd58c1b1c3                    4195   \n",
       "4  51a04a8a6bdcb23deccc82b0b80742cf                   12914   \n",
       "\n",
       "         seller_city seller_state  \n",
       "0           campinas           SP  \n",
       "1         mogi guacu           SP  \n",
       "2     rio de janeiro           RJ  \n",
       "3          sao paulo           SP  \n",
       "4  braganca paulista           SP  "
      ]
     },
     "execution_count": 10,
     "metadata": {},
     "output_type": "execute_result"
    }
   ],
   "source": [
    "sellers_df = pd.read_csv(\"Data/sellers_dataset.csv\")\n",
    "sellers_df.head()"
   ]
  },
  {
   "cell_type": "markdown",
   "id": "695ee218-d742-4c0e-8ff4-23dcee15e9cf",
   "metadata": {},
   "source": [
    "## Assessing Data\n",
    "\n",
    "Assessing data merupakan proses untuk menilai kualitas pada data. Proses ini juga sekaligus mengidentifikasi missing values, duplikasi data, dll."
   ]
  },
  {
   "cell_type": "markdown",
   "id": "eac75b9b-49ee-4b2d-a656-39d6f56f1ed8",
   "metadata": {},
   "source": [
    "### Menilai Tabel Customer\n",
    "\n",
    "Tahap pertama memeriksa semua tipe data pada tabel customer dengan `info()`"
   ]
  },
  {
   "cell_type": "code",
   "execution_count": 11,
   "id": "2fd2287d-b987-44a1-a8d8-eb4f3429f015",
   "metadata": {},
   "outputs": [
    {
     "name": "stdout",
     "output_type": "stream",
     "text": [
      "<class 'pandas.core.frame.DataFrame'>\n",
      "RangeIndex: 99441 entries, 0 to 99440\n",
      "Data columns (total 5 columns):\n",
      " #   Column                    Non-Null Count  Dtype \n",
      "---  ------                    --------------  ----- \n",
      " 0   customer_id               99441 non-null  object\n",
      " 1   customer_unique_id        99441 non-null  object\n",
      " 2   customer_zip_code_prefix  99441 non-null  int64 \n",
      " 3   customer_city             99441 non-null  object\n",
      " 4   customer_state            99441 non-null  object\n",
      "dtypes: int64(1), object(4)\n",
      "memory usage: 3.8+ MB\n"
     ]
    }
   ],
   "source": [
    "customers_df.info()"
   ]
  },
  {
   "cell_type": "markdown",
   "id": "e9bae57f-e557-43d2-8a8c-469564449de2",
   "metadata": {},
   "source": [
    "Jika diperhatikan tabel customer tidak ada masalah terkait tipe data.\n",
    "\n",
    "Selanjutnya mari mengecek apakah ada missing values pada tabel customer."
   ]
  },
  {
   "cell_type": "code",
   "execution_count": 12,
   "id": "92ed275d-ec37-4fe4-b886-8c6887ad8bca",
   "metadata": {},
   "outputs": [
    {
     "data": {
      "text/plain": [
       "customer_id                 0\n",
       "customer_unique_id          0\n",
       "customer_zip_code_prefix    0\n",
       "customer_city               0\n",
       "customer_state              0\n",
       "dtype: int64"
      ]
     },
     "execution_count": 12,
     "metadata": {},
     "output_type": "execute_result"
    }
   ],
   "source": [
    "customers_df.isna().sum()"
   ]
  },
  {
   "cell_type": "markdown",
   "id": "93e6ea64-57c1-4c82-b4fd-4906c83d382e",
   "metadata": {},
   "source": [
    "Tidak ada missing values pada tabel customer.\n",
    "\n",
    "Selanjutnya mengecek apakah ada duplikasi data pada tabel customer."
   ]
  },
  {
   "cell_type": "code",
   "execution_count": 13,
   "id": "6f8f18da-e76b-40b9-b1fe-e385f59f617c",
   "metadata": {},
   "outputs": [
    {
     "name": "stdout",
     "output_type": "stream",
     "text": [
      "Jumlah duplikasi data : 0\n"
     ]
    }
   ],
   "source": [
    "print(f\"Jumlah duplikasi data : {customers_df.duplicated().sum()}\")"
   ]
  },
  {
   "cell_type": "markdown",
   "id": "dabe7cee-9e47-460a-be2a-008fd051e0a7",
   "metadata": {},
   "source": [
    "Tabel customer tidak memiliki duplikasi data.\n",
    "\n",
    "Mari kita periksa deskripsi statistiknya dengan `describe()`"
   ]
  },
  {
   "cell_type": "code",
   "execution_count": 14,
   "id": "044f31b6-1340-41de-8072-c81c3666ac9a",
   "metadata": {},
   "outputs": [
    {
     "data": {
      "text/html": [
       "<div>\n",
       "<style scoped>\n",
       "    .dataframe tbody tr th:only-of-type {\n",
       "        vertical-align: middle;\n",
       "    }\n",
       "\n",
       "    .dataframe tbody tr th {\n",
       "        vertical-align: top;\n",
       "    }\n",
       "\n",
       "    .dataframe thead th {\n",
       "        text-align: right;\n",
       "    }\n",
       "</style>\n",
       "<table border=\"1\" class=\"dataframe\">\n",
       "  <thead>\n",
       "    <tr style=\"text-align: right;\">\n",
       "      <th></th>\n",
       "      <th>count</th>\n",
       "      <th>mean</th>\n",
       "      <th>std</th>\n",
       "      <th>min</th>\n",
       "      <th>25%</th>\n",
       "      <th>50%</th>\n",
       "      <th>75%</th>\n",
       "      <th>max</th>\n",
       "    </tr>\n",
       "  </thead>\n",
       "  <tbody>\n",
       "    <tr>\n",
       "      <th>customer_zip_code_prefix</th>\n",
       "      <td>99441.0</td>\n",
       "      <td>35137.474583</td>\n",
       "      <td>29797.938996</td>\n",
       "      <td>1003.0</td>\n",
       "      <td>11347.0</td>\n",
       "      <td>24416.0</td>\n",
       "      <td>58900.0</td>\n",
       "      <td>99990.0</td>\n",
       "    </tr>\n",
       "  </tbody>\n",
       "</table>\n",
       "</div>"
      ],
      "text/plain": [
       "                            count          mean           std     min  \\\n",
       "customer_zip_code_prefix  99441.0  35137.474583  29797.938996  1003.0   \n",
       "\n",
       "                              25%      50%      75%      max  \n",
       "customer_zip_code_prefix  11347.0  24416.0  58900.0  99990.0  "
      ]
     },
     "execution_count": 14,
     "metadata": {},
     "output_type": "execute_result"
    }
   ],
   "source": [
    "customers_df.describe().T"
   ]
  },
  {
   "cell_type": "markdown",
   "id": "347e75ab-f17b-490b-a005-51496db3a021",
   "metadata": {},
   "source": [
    "### Menilai Data Order Items\n",
    "\n",
    "Menggunakan `info()` untuk mengecek tipe data setiap variabel pada data order items"
   ]
  },
  {
   "cell_type": "code",
   "execution_count": 19,
   "id": "43499ea4-df63-454f-93c6-2ddf36316041",
   "metadata": {},
   "outputs": [
    {
     "name": "stdout",
     "output_type": "stream",
     "text": [
      "<class 'pandas.core.frame.DataFrame'>\n",
      "RangeIndex: 112650 entries, 0 to 112649\n",
      "Data columns (total 7 columns):\n",
      " #   Column               Non-Null Count   Dtype  \n",
      "---  ------               --------------   -----  \n",
      " 0   order_id             112650 non-null  object \n",
      " 1   order_item_id        112650 non-null  int64  \n",
      " 2   product_id           112650 non-null  object \n",
      " 3   seller_id            112650 non-null  object \n",
      " 4   shipping_limit_date  112650 non-null  object \n",
      " 5   price                112650 non-null  float64\n",
      " 6   freight_value        112650 non-null  float64\n",
      "dtypes: float64(2), int64(1), object(4)\n",
      "memory usage: 6.0+ MB\n"
     ]
    }
   ],
   "source": [
    "order_items_df.info()"
   ]
  },
  {
   "cell_type": "markdown",
   "id": "55f13c4d-453d-4c02-87dc-23bbd9cb2b14",
   "metadata": {},
   "source": [
    "Ubah shipping_limit_date ke datetime.\n",
    "\n",
    "Selanjutnya mengecek missing values."
   ]
  },
  {
   "cell_type": "code",
   "execution_count": 20,
   "id": "b2b0365d-fd63-4fdf-bda9-29836b468576",
   "metadata": {},
   "outputs": [
    {
     "data": {
      "text/plain": [
       "order_id               0\n",
       "order_item_id          0\n",
       "product_id             0\n",
       "seller_id              0\n",
       "shipping_limit_date    0\n",
       "price                  0\n",
       "freight_value          0\n",
       "dtype: int64"
      ]
     },
     "execution_count": 20,
     "metadata": {},
     "output_type": "execute_result"
    }
   ],
   "source": [
    "order_items_df.isna().sum()"
   ]
  },
  {
   "cell_type": "markdown",
   "id": "9eb13449-7665-4f24-9d76-17976aaa4638",
   "metadata": {},
   "source": [
    "Tidak ada missing values.\n",
    "\n",
    "Selanjutnya mengecek jumlah duplikasi datanya."
   ]
  },
  {
   "cell_type": "code",
   "execution_count": 21,
   "id": "9cca7ace-6bbb-415f-9cde-33225f4d0d00",
   "metadata": {},
   "outputs": [
    {
     "name": "stdout",
     "output_type": "stream",
     "text": [
      "Jumlah duplikasi data : 0\n"
     ]
    }
   ],
   "source": [
    "print(f\"Jumlah duplikasi data : {order_items_df.duplicated().sum()}\")"
   ]
  },
  {
   "cell_type": "code",
   "execution_count": 22,
   "id": "3bb6a146-975d-4de5-a750-9d2f00b9b18e",
   "metadata": {},
   "outputs": [
    {
     "data": {
      "text/html": [
       "<div>\n",
       "<style scoped>\n",
       "    .dataframe tbody tr th:only-of-type {\n",
       "        vertical-align: middle;\n",
       "    }\n",
       "\n",
       "    .dataframe tbody tr th {\n",
       "        vertical-align: top;\n",
       "    }\n",
       "\n",
       "    .dataframe thead th {\n",
       "        text-align: right;\n",
       "    }\n",
       "</style>\n",
       "<table border=\"1\" class=\"dataframe\">\n",
       "  <thead>\n",
       "    <tr style=\"text-align: right;\">\n",
       "      <th></th>\n",
       "      <th>count</th>\n",
       "      <th>mean</th>\n",
       "      <th>std</th>\n",
       "      <th>min</th>\n",
       "      <th>25%</th>\n",
       "      <th>50%</th>\n",
       "      <th>75%</th>\n",
       "      <th>max</th>\n",
       "    </tr>\n",
       "  </thead>\n",
       "  <tbody>\n",
       "    <tr>\n",
       "      <th>order_item_id</th>\n",
       "      <td>112650.0</td>\n",
       "      <td>1.197834</td>\n",
       "      <td>0.705124</td>\n",
       "      <td>1.00</td>\n",
       "      <td>1.00</td>\n",
       "      <td>1.00</td>\n",
       "      <td>1.00</td>\n",
       "      <td>21.00</td>\n",
       "    </tr>\n",
       "    <tr>\n",
       "      <th>price</th>\n",
       "      <td>112650.0</td>\n",
       "      <td>120.653739</td>\n",
       "      <td>183.633928</td>\n",
       "      <td>0.85</td>\n",
       "      <td>39.90</td>\n",
       "      <td>74.99</td>\n",
       "      <td>134.90</td>\n",
       "      <td>6735.00</td>\n",
       "    </tr>\n",
       "    <tr>\n",
       "      <th>freight_value</th>\n",
       "      <td>112650.0</td>\n",
       "      <td>19.990320</td>\n",
       "      <td>15.806405</td>\n",
       "      <td>0.00</td>\n",
       "      <td>13.08</td>\n",
       "      <td>16.26</td>\n",
       "      <td>21.15</td>\n",
       "      <td>409.68</td>\n",
       "    </tr>\n",
       "  </tbody>\n",
       "</table>\n",
       "</div>"
      ],
      "text/plain": [
       "                  count        mean         std   min    25%    50%     75%  \\\n",
       "order_item_id  112650.0    1.197834    0.705124  1.00   1.00   1.00    1.00   \n",
       "price          112650.0  120.653739  183.633928  0.85  39.90  74.99  134.90   \n",
       "freight_value  112650.0   19.990320   15.806405  0.00  13.08  16.26   21.15   \n",
       "\n",
       "                   max  \n",
       "order_item_id    21.00  \n",
       "price          6735.00  \n",
       "freight_value   409.68  "
      ]
     },
     "execution_count": 22,
     "metadata": {},
     "output_type": "execute_result"
    }
   ],
   "source": [
    "order_items_df.describe().T"
   ]
  },
  {
   "cell_type": "markdown",
   "id": "3292aac8-97c2-4875-9afa-6899c24fb693",
   "metadata": {},
   "source": [
    "Rata-rata harga yang diorder adalah **120.654** dan 25% teratas produk memilik harga lebih tinggi dari **134.90**. Sedangkan, 25% produk yang memiliki harga terendah kurang dari **39.90**."
   ]
  },
  {
   "cell_type": "markdown",
   "id": "6c3f957b-ff91-4a16-9775-3b0bc64404fe",
   "metadata": {},
   "source": [
    "### Menilai Data Order Payment\n",
    "\n",
    "Menggunakan `info()` untuk mengecek tipe data setiap variabel pada data order payment"
   ]
  },
  {
   "cell_type": "code",
   "execution_count": 23,
   "id": "7c3899bc-26b5-4f16-ba88-613256c495f6",
   "metadata": {},
   "outputs": [
    {
     "name": "stdout",
     "output_type": "stream",
     "text": [
      "<class 'pandas.core.frame.DataFrame'>\n",
      "RangeIndex: 103886 entries, 0 to 103885\n",
      "Data columns (total 5 columns):\n",
      " #   Column                Non-Null Count   Dtype  \n",
      "---  ------                --------------   -----  \n",
      " 0   order_id              103886 non-null  object \n",
      " 1   payment_sequential    103886 non-null  int64  \n",
      " 2   payment_type          103886 non-null  object \n",
      " 3   payment_installments  103886 non-null  int64  \n",
      " 4   payment_value         103886 non-null  float64\n",
      "dtypes: float64(1), int64(2), object(2)\n",
      "memory usage: 4.0+ MB\n"
     ]
    }
   ],
   "source": [
    "order_payments_df.info()"
   ]
  },
  {
   "cell_type": "markdown",
   "id": "4c1f50d1-f579-41bd-a5d1-31564a8b1b7e",
   "metadata": {},
   "source": [
    "Tipe data pada setiap variabel tidak ada yang aneh.\n",
    "\n",
    "Selanjutnya mari dicek missing values"
   ]
  },
  {
   "cell_type": "code",
   "execution_count": 24,
   "id": "b667c171-f8d7-4b21-86ff-78499025aced",
   "metadata": {},
   "outputs": [
    {
     "data": {
      "text/plain": [
       "order_id                0\n",
       "payment_sequential      0\n",
       "payment_type            0\n",
       "payment_installments    0\n",
       "payment_value           0\n",
       "dtype: int64"
      ]
     },
     "execution_count": 24,
     "metadata": {},
     "output_type": "execute_result"
    }
   ],
   "source": [
    "order_payments_df.isna().sum()"
   ]
  },
  {
   "cell_type": "markdown",
   "id": "9eb3c505-b838-4011-8330-3891bbe5577e",
   "metadata": {},
   "source": [
    "Data order payment tidak memiliki missing values"
   ]
  },
  {
   "cell_type": "code",
   "execution_count": 25,
   "id": "f7b38fb0-1bca-4e57-b460-b1e188346ae5",
   "metadata": {},
   "outputs": [
    {
     "name": "stdout",
     "output_type": "stream",
     "text": [
      "Jumlah duplikasi data : 0\n"
     ]
    }
   ],
   "source": [
    "print(f\"Jumlah duplikasi data : {order_payments_df.duplicated().sum()}\")"
   ]
  },
  {
   "cell_type": "markdown",
   "id": "30704218-af55-47b0-8133-6e11b38477c9",
   "metadata": {},
   "source": [
    "Data order payment tidak memiliki duplicate data"
   ]
  },
  {
   "cell_type": "code",
   "execution_count": 26,
   "id": "03040861-c710-40e1-8748-91292d1750cd",
   "metadata": {},
   "outputs": [
    {
     "data": {
      "text/html": [
       "<div>\n",
       "<style scoped>\n",
       "    .dataframe tbody tr th:only-of-type {\n",
       "        vertical-align: middle;\n",
       "    }\n",
       "\n",
       "    .dataframe tbody tr th {\n",
       "        vertical-align: top;\n",
       "    }\n",
       "\n",
       "    .dataframe thead th {\n",
       "        text-align: right;\n",
       "    }\n",
       "</style>\n",
       "<table border=\"1\" class=\"dataframe\">\n",
       "  <thead>\n",
       "    <tr style=\"text-align: right;\">\n",
       "      <th></th>\n",
       "      <th>count</th>\n",
       "      <th>mean</th>\n",
       "      <th>std</th>\n",
       "      <th>min</th>\n",
       "      <th>25%</th>\n",
       "      <th>50%</th>\n",
       "      <th>75%</th>\n",
       "      <th>max</th>\n",
       "    </tr>\n",
       "  </thead>\n",
       "  <tbody>\n",
       "    <tr>\n",
       "      <th>payment_sequential</th>\n",
       "      <td>103886.0</td>\n",
       "      <td>1.092679</td>\n",
       "      <td>0.706584</td>\n",
       "      <td>1.0</td>\n",
       "      <td>1.00</td>\n",
       "      <td>1.0</td>\n",
       "      <td>1.0000</td>\n",
       "      <td>29.00</td>\n",
       "    </tr>\n",
       "    <tr>\n",
       "      <th>payment_installments</th>\n",
       "      <td>103886.0</td>\n",
       "      <td>2.853349</td>\n",
       "      <td>2.687051</td>\n",
       "      <td>0.0</td>\n",
       "      <td>1.00</td>\n",
       "      <td>1.0</td>\n",
       "      <td>4.0000</td>\n",
       "      <td>24.00</td>\n",
       "    </tr>\n",
       "    <tr>\n",
       "      <th>payment_value</th>\n",
       "      <td>103886.0</td>\n",
       "      <td>154.100380</td>\n",
       "      <td>217.494064</td>\n",
       "      <td>0.0</td>\n",
       "      <td>56.79</td>\n",
       "      <td>100.0</td>\n",
       "      <td>171.8375</td>\n",
       "      <td>13664.08</td>\n",
       "    </tr>\n",
       "  </tbody>\n",
       "</table>\n",
       "</div>"
      ],
      "text/plain": [
       "                         count        mean         std  min    25%    50%  \\\n",
       "payment_sequential    103886.0    1.092679    0.706584  1.0   1.00    1.0   \n",
       "payment_installments  103886.0    2.853349    2.687051  0.0   1.00    1.0   \n",
       "payment_value         103886.0  154.100380  217.494064  0.0  56.79  100.0   \n",
       "\n",
       "                           75%       max  \n",
       "payment_sequential      1.0000     29.00  \n",
       "payment_installments    4.0000     24.00  \n",
       "payment_value         171.8375  13664.08  "
      ]
     },
     "execution_count": 26,
     "metadata": {},
     "output_type": "execute_result"
    }
   ],
   "source": [
    "order_payments_df.describe().T"
   ]
  },
  {
   "cell_type": "markdown",
   "id": "8dc1aa36-66a0-4cb1-bd32-4560a5da2c60",
   "metadata": {},
   "source": [
    "Jumlah maksimum payment installments yang digunakan customer adalah **24**. sekitar 75% customer jumlah metode pembayarannya adalah 1."
   ]
  },
  {
   "cell_type": "markdown",
   "id": "ae6f8291-77cb-4600-9737-bd9e517e5a66",
   "metadata": {},
   "source": [
    "### Menilai Data Order Review"
   ]
  },
  {
   "cell_type": "code",
   "execution_count": 27,
   "id": "1e7056bc-adca-4e7e-b38b-b9ee92c36954",
   "metadata": {},
   "outputs": [
    {
     "name": "stdout",
     "output_type": "stream",
     "text": [
      "<class 'pandas.core.frame.DataFrame'>\n",
      "RangeIndex: 99224 entries, 0 to 99223\n",
      "Data columns (total 7 columns):\n",
      " #   Column                   Non-Null Count  Dtype \n",
      "---  ------                   --------------  ----- \n",
      " 0   review_id                99224 non-null  object\n",
      " 1   order_id                 99224 non-null  object\n",
      " 2   review_score             99224 non-null  int64 \n",
      " 3   review_comment_title     11568 non-null  object\n",
      " 4   review_comment_message   40977 non-null  object\n",
      " 5   review_creation_date     99224 non-null  object\n",
      " 6   review_answer_timestamp  99224 non-null  object\n",
      "dtypes: int64(1), object(6)\n",
      "memory usage: 5.3+ MB\n"
     ]
    }
   ],
   "source": [
    "order_reviews_df.info()"
   ]
  },
  {
   "cell_type": "markdown",
   "id": "4adb6f3a-41c5-4258-8987-212ee70fa7e9",
   "metadata": {},
   "source": [
    "Review_creation_date dan review_answer_timestamp seharusnya bertipe data datetime"
   ]
  },
  {
   "cell_type": "code",
   "execution_count": 28,
   "id": "b2ebe112-7cc6-456e-83b3-0d47464dbac9",
   "metadata": {},
   "outputs": [
    {
     "data": {
      "text/plain": [
       "review_id                      0\n",
       "order_id                       0\n",
       "review_score                   0\n",
       "review_comment_title       87656\n",
       "review_comment_message     58247\n",
       "review_creation_date           0\n",
       "review_answer_timestamp        0\n",
       "dtype: int64"
      ]
     },
     "execution_count": 28,
     "metadata": {},
     "output_type": "execute_result"
    }
   ],
   "source": [
    "order_reviews_df.isna().sum()"
   ]
  },
  {
   "cell_type": "markdown",
   "id": "432a24d6-51da-4ae1-b6af-530f85615884",
   "metadata": {},
   "source": [
    "Review_comment_title dan review_comment_message memiliki missing values."
   ]
  },
  {
   "cell_type": "code",
   "execution_count": 29,
   "id": "88462c27-7468-49d8-80ee-ac449775396d",
   "metadata": {},
   "outputs": [
    {
     "name": "stdout",
     "output_type": "stream",
     "text": [
      "Jumlah duplikasi data : 0\n"
     ]
    }
   ],
   "source": [
    "print(f\"Jumlah duplikasi data : {order_reviews_df.duplicated().sum()}\")"
   ]
  },
  {
   "cell_type": "markdown",
   "id": "c3d8dfa1-fad1-46e5-adf7-87a1e000775f",
   "metadata": {},
   "source": [
    "Data order review tidak memiliki yang duplikat."
   ]
  },
  {
   "cell_type": "code",
   "execution_count": 30,
   "id": "bf8a887a-293d-4010-b2a4-90a37719b2a7",
   "metadata": {},
   "outputs": [
    {
     "data": {
      "text/html": [
       "<div>\n",
       "<style scoped>\n",
       "    .dataframe tbody tr th:only-of-type {\n",
       "        vertical-align: middle;\n",
       "    }\n",
       "\n",
       "    .dataframe tbody tr th {\n",
       "        vertical-align: top;\n",
       "    }\n",
       "\n",
       "    .dataframe thead th {\n",
       "        text-align: right;\n",
       "    }\n",
       "</style>\n",
       "<table border=\"1\" class=\"dataframe\">\n",
       "  <thead>\n",
       "    <tr style=\"text-align: right;\">\n",
       "      <th></th>\n",
       "      <th>count</th>\n",
       "      <th>mean</th>\n",
       "      <th>std</th>\n",
       "      <th>min</th>\n",
       "      <th>25%</th>\n",
       "      <th>50%</th>\n",
       "      <th>75%</th>\n",
       "      <th>max</th>\n",
       "    </tr>\n",
       "  </thead>\n",
       "  <tbody>\n",
       "    <tr>\n",
       "      <th>review_score</th>\n",
       "      <td>99224.0</td>\n",
       "      <td>4.086421</td>\n",
       "      <td>1.347579</td>\n",
       "      <td>1.0</td>\n",
       "      <td>4.0</td>\n",
       "      <td>5.0</td>\n",
       "      <td>5.0</td>\n",
       "      <td>5.0</td>\n",
       "    </tr>\n",
       "  </tbody>\n",
       "</table>\n",
       "</div>"
      ],
      "text/plain": [
       "                count      mean       std  min  25%  50%  75%  max\n",
       "review_score  99224.0  4.086421  1.347579  1.0  4.0  5.0  5.0  5.0"
      ]
     },
     "execution_count": 30,
     "metadata": {},
     "output_type": "execute_result"
    }
   ],
   "source": [
    "order_reviews_df.describe().T"
   ]
  },
  {
   "cell_type": "markdown",
   "id": "588bc7e3-9d96-4b20-85aa-119db64b950d",
   "metadata": {},
   "source": [
    "Rata-rata score yang diberikan customer adalah 4."
   ]
  },
  {
   "cell_type": "markdown",
   "id": "27de53c9-1fd9-4b45-bd9f-0af3a31b6b77",
   "metadata": {},
   "source": [
    "### Menilai Data Order "
   ]
  },
  {
   "cell_type": "code",
   "execution_count": 31,
   "id": "5e3d6687-d048-485f-acb6-a79f81088ec9",
   "metadata": {},
   "outputs": [
    {
     "name": "stdout",
     "output_type": "stream",
     "text": [
      "<class 'pandas.core.frame.DataFrame'>\n",
      "RangeIndex: 99441 entries, 0 to 99440\n",
      "Data columns (total 8 columns):\n",
      " #   Column                         Non-Null Count  Dtype \n",
      "---  ------                         --------------  ----- \n",
      " 0   order_id                       99441 non-null  object\n",
      " 1   customer_id                    99441 non-null  object\n",
      " 2   order_status                   99441 non-null  object\n",
      " 3   order_purchase_timestamp       99441 non-null  object\n",
      " 4   order_approved_at              99281 non-null  object\n",
      " 5   order_delivered_carrier_date   97658 non-null  object\n",
      " 6   order_delivered_customer_date  96476 non-null  object\n",
      " 7   order_estimated_delivery_date  99441 non-null  object\n",
      "dtypes: object(8)\n",
      "memory usage: 6.1+ MB\n"
     ]
    }
   ],
   "source": [
    "orders_df.info()"
   ]
  },
  {
   "cell_type": "markdown",
   "id": "f2bfa3f5-999a-498e-9e96-e5750743d5ab",
   "metadata": {},
   "source": [
    "Untuk variabel order_purchase_timestamp, order_approved_at, order_delivered_carrier_date, order_delivered_customer_date, dan order_estimated_delivery_data seharusnya bertipe data datetime."
   ]
  },
  {
   "cell_type": "code",
   "execution_count": 32,
   "id": "4d9768eb-7626-4dbb-8ea9-6480164d3a90",
   "metadata": {},
   "outputs": [
    {
     "data": {
      "text/plain": [
       "order_id                            0\n",
       "customer_id                         0\n",
       "order_status                        0\n",
       "order_purchase_timestamp            0\n",
       "order_approved_at                 160\n",
       "order_delivered_carrier_date     1783\n",
       "order_delivered_customer_date    2965\n",
       "order_estimated_delivery_date       0\n",
       "dtype: int64"
      ]
     },
     "execution_count": 32,
     "metadata": {},
     "output_type": "execute_result"
    }
   ],
   "source": [
    "orders_df.isna().sum()"
   ]
  },
  {
   "cell_type": "markdown",
   "id": "1e1213d8-d4d2-4ad1-acda-92ffaf58d952",
   "metadata": {},
   "source": [
    "Data orders pada variabel order_approved_at, order_delivered_carrier_date, dan order_estimated_delivery_date ada missing values."
   ]
  },
  {
   "cell_type": "code",
   "execution_count": 33,
   "id": "d023c945-301e-447a-9312-001884786e57",
   "metadata": {},
   "outputs": [
    {
     "name": "stdout",
     "output_type": "stream",
     "text": [
      "Jumlah duplikasi data : 0\n"
     ]
    }
   ],
   "source": [
    "print(f\"Jumlah duplikasi data : {orders_df.duplicated().sum()}\")"
   ]
  },
  {
   "cell_type": "markdown",
   "id": "9536459f-0564-445a-9cc8-7c5871557453",
   "metadata": {},
   "source": [
    "Data orders tidak memilik yang duplikat"
   ]
  },
  {
   "cell_type": "code",
   "execution_count": 34,
   "id": "e350a2d8-ca7f-4cfe-b688-8c34c5a86b05",
   "metadata": {},
   "outputs": [
    {
     "data": {
      "text/html": [
       "<div>\n",
       "<style scoped>\n",
       "    .dataframe tbody tr th:only-of-type {\n",
       "        vertical-align: middle;\n",
       "    }\n",
       "\n",
       "    .dataframe tbody tr th {\n",
       "        vertical-align: top;\n",
       "    }\n",
       "\n",
       "    .dataframe thead th {\n",
       "        text-align: right;\n",
       "    }\n",
       "</style>\n",
       "<table border=\"1\" class=\"dataframe\">\n",
       "  <thead>\n",
       "    <tr style=\"text-align: right;\">\n",
       "      <th></th>\n",
       "      <th>count</th>\n",
       "      <th>unique</th>\n",
       "      <th>top</th>\n",
       "      <th>freq</th>\n",
       "    </tr>\n",
       "  </thead>\n",
       "  <tbody>\n",
       "    <tr>\n",
       "      <th>order_id</th>\n",
       "      <td>99441</td>\n",
       "      <td>99441</td>\n",
       "      <td>e481f51cbdc54678b7cc49136f2d6af7</td>\n",
       "      <td>1</td>\n",
       "    </tr>\n",
       "    <tr>\n",
       "      <th>customer_id</th>\n",
       "      <td>99441</td>\n",
       "      <td>99441</td>\n",
       "      <td>9ef432eb6251297304e76186b10a928d</td>\n",
       "      <td>1</td>\n",
       "    </tr>\n",
       "    <tr>\n",
       "      <th>order_status</th>\n",
       "      <td>99441</td>\n",
       "      <td>8</td>\n",
       "      <td>delivered</td>\n",
       "      <td>96478</td>\n",
       "    </tr>\n",
       "    <tr>\n",
       "      <th>order_purchase_timestamp</th>\n",
       "      <td>99441</td>\n",
       "      <td>98875</td>\n",
       "      <td>2018-04-11 10:48:14</td>\n",
       "      <td>3</td>\n",
       "    </tr>\n",
       "    <tr>\n",
       "      <th>order_approved_at</th>\n",
       "      <td>99281</td>\n",
       "      <td>90733</td>\n",
       "      <td>2018-02-27 04:31:10</td>\n",
       "      <td>9</td>\n",
       "    </tr>\n",
       "    <tr>\n",
       "      <th>order_delivered_carrier_date</th>\n",
       "      <td>97658</td>\n",
       "      <td>81018</td>\n",
       "      <td>2018-05-09 15:48:00</td>\n",
       "      <td>47</td>\n",
       "    </tr>\n",
       "    <tr>\n",
       "      <th>order_delivered_customer_date</th>\n",
       "      <td>96476</td>\n",
       "      <td>95664</td>\n",
       "      <td>2018-05-08 23:38:46</td>\n",
       "      <td>3</td>\n",
       "    </tr>\n",
       "    <tr>\n",
       "      <th>order_estimated_delivery_date</th>\n",
       "      <td>99441</td>\n",
       "      <td>459</td>\n",
       "      <td>2017-12-20 00:00:00</td>\n",
       "      <td>522</td>\n",
       "    </tr>\n",
       "  </tbody>\n",
       "</table>\n",
       "</div>"
      ],
      "text/plain": [
       "                               count unique                               top  \\\n",
       "order_id                       99441  99441  e481f51cbdc54678b7cc49136f2d6af7   \n",
       "customer_id                    99441  99441  9ef432eb6251297304e76186b10a928d   \n",
       "order_status                   99441      8                         delivered   \n",
       "order_purchase_timestamp       99441  98875               2018-04-11 10:48:14   \n",
       "order_approved_at              99281  90733               2018-02-27 04:31:10   \n",
       "order_delivered_carrier_date   97658  81018               2018-05-09 15:48:00   \n",
       "order_delivered_customer_date  96476  95664               2018-05-08 23:38:46   \n",
       "order_estimated_delivery_date  99441    459               2017-12-20 00:00:00   \n",
       "\n",
       "                                freq  \n",
       "order_id                           1  \n",
       "customer_id                        1  \n",
       "order_status                   96478  \n",
       "order_purchase_timestamp           3  \n",
       "order_approved_at                  9  \n",
       "order_delivered_carrier_date      47  \n",
       "order_delivered_customer_date      3  \n",
       "order_estimated_delivery_date    522  "
      ]
     },
     "execution_count": 34,
     "metadata": {},
     "output_type": "execute_result"
    }
   ],
   "source": [
    "orders_df.describe().T"
   ]
  },
  {
   "cell_type": "markdown",
   "id": "d5cefe65-ea4e-45fb-a46e-ea35a0af6c02",
   "metadata": {},
   "source": [
    "### Menilai Data Product Category Name Translation"
   ]
  },
  {
   "cell_type": "code",
   "execution_count": 35,
   "id": "841b1ab6-33b7-44eb-8488-8f51a57d251c",
   "metadata": {},
   "outputs": [
    {
     "name": "stdout",
     "output_type": "stream",
     "text": [
      "<class 'pandas.core.frame.DataFrame'>\n",
      "RangeIndex: 71 entries, 0 to 70\n",
      "Data columns (total 2 columns):\n",
      " #   Column                         Non-Null Count  Dtype \n",
      "---  ------                         --------------  ----- \n",
      " 0   product_category_name          71 non-null     object\n",
      " 1   product_category_name_english  71 non-null     object\n",
      "dtypes: object(2)\n",
      "memory usage: 1.2+ KB\n"
     ]
    }
   ],
   "source": [
    "product_category_df.info()"
   ]
  },
  {
   "cell_type": "markdown",
   "id": "49581c0c-9666-45b1-bbf8-161cfc022828",
   "metadata": {},
   "source": [
    "Tipe data pada product category sudah sesuai.\n",
    "\n",
    "Selanjutnya mencari missing values."
   ]
  },
  {
   "cell_type": "code",
   "execution_count": 36,
   "id": "0686a9a6-559b-4486-bc2b-4f910b610703",
   "metadata": {},
   "outputs": [
    {
     "data": {
      "text/plain": [
       "product_category_name            0\n",
       "product_category_name_english    0\n",
       "dtype: int64"
      ]
     },
     "execution_count": 36,
     "metadata": {},
     "output_type": "execute_result"
    }
   ],
   "source": [
    "product_category_df.isna().sum()"
   ]
  },
  {
   "cell_type": "markdown",
   "id": "7191fcab-1dbf-4b22-91d5-af85e065b51b",
   "metadata": {},
   "source": [
    "Tidak ada missing values.\n",
    "\n",
    "Selanjutnya mencari data yang duplikat."
   ]
  },
  {
   "cell_type": "code",
   "execution_count": 37,
   "id": "3e5e482a-f2bc-4c67-882a-c21d6d26ddec",
   "metadata": {},
   "outputs": [
    {
     "name": "stdout",
     "output_type": "stream",
     "text": [
      "Jumlah duplikasi data : 0\n"
     ]
    }
   ],
   "source": [
    "print(f\"Jumlah duplikasi data : {product_category_df.duplicated().sum()}\")"
   ]
  },
  {
   "cell_type": "markdown",
   "id": "de334e67-9829-4409-8c7e-8f22cc7efc3c",
   "metadata": {},
   "source": [
    "Tidak ada data yang duplikat."
   ]
  },
  {
   "cell_type": "markdown",
   "id": "53ae7990-689d-41c4-a13c-a9a7efe79d17",
   "metadata": {},
   "source": [
    "### Menilai Data Product"
   ]
  },
  {
   "cell_type": "markdown",
   "id": "30f43922-98d8-4493-af7a-f70c8ff72b85",
   "metadata": {},
   "source": [
    "Menggunakan `info()` untuk mencari tipe data yang sesuai pada setiap variabel."
   ]
  },
  {
   "cell_type": "code",
   "execution_count": 38,
   "id": "cff9709f-ed37-4151-af05-c9380db845f9",
   "metadata": {},
   "outputs": [
    {
     "name": "stdout",
     "output_type": "stream",
     "text": [
      "<class 'pandas.core.frame.DataFrame'>\n",
      "RangeIndex: 32951 entries, 0 to 32950\n",
      "Data columns (total 9 columns):\n",
      " #   Column                      Non-Null Count  Dtype  \n",
      "---  ------                      --------------  -----  \n",
      " 0   product_id                  32951 non-null  object \n",
      " 1   product_category_name       32341 non-null  object \n",
      " 2   product_name_lenght         32341 non-null  float64\n",
      " 3   product_description_lenght  32341 non-null  float64\n",
      " 4   product_photos_qty          32341 non-null  float64\n",
      " 5   product_weight_g            32949 non-null  float64\n",
      " 6   product_length_cm           32949 non-null  float64\n",
      " 7   product_height_cm           32949 non-null  float64\n",
      " 8   product_width_cm            32949 non-null  float64\n",
      "dtypes: float64(7), object(2)\n",
      "memory usage: 2.3+ MB\n"
     ]
    }
   ],
   "source": [
    "products_df.info()"
   ]
  },
  {
   "cell_type": "markdown",
   "id": "25b61fa8-f024-43ac-9863-5fe44f41ed08",
   "metadata": {},
   "source": [
    "Tipe datanya sudah sesuai.\n",
    "\n",
    "Selanjutnya mencari missing values."
   ]
  },
  {
   "cell_type": "code",
   "execution_count": 39,
   "id": "eb8b2f20-d6bb-4b4e-867c-eba26e00e7c7",
   "metadata": {},
   "outputs": [
    {
     "data": {
      "text/plain": [
       "product_id                      0\n",
       "product_category_name         610\n",
       "product_name_lenght           610\n",
       "product_description_lenght    610\n",
       "product_photos_qty            610\n",
       "product_weight_g                2\n",
       "product_length_cm               2\n",
       "product_height_cm               2\n",
       "product_width_cm                2\n",
       "dtype: int64"
      ]
     },
     "execution_count": 39,
     "metadata": {},
     "output_type": "execute_result"
    }
   ],
   "source": [
    "products_df.isna().sum()"
   ]
  },
  {
   "cell_type": "markdown",
   "id": "deb7ec82-6876-4d8f-bdf0-c4db5e48200f",
   "metadata": {},
   "source": [
    "Ternyata variabel product_category_name, product_name_lenght, product_description_lenght, dan product_photos_qty memiliki missing values.\n",
    "\n",
    "Selanjutnya mencari data yang duplikat."
   ]
  },
  {
   "cell_type": "code",
   "execution_count": 40,
   "id": "2fc796fa-5ecb-4eb5-a61b-5d0115c0acf4",
   "metadata": {},
   "outputs": [
    {
     "name": "stdout",
     "output_type": "stream",
     "text": [
      "Jumlah duplikasi data : 0\n"
     ]
    }
   ],
   "source": [
    "print(f\"Jumlah duplikasi data : {products_df.duplicated().sum()}\")"
   ]
  },
  {
   "cell_type": "markdown",
   "id": "fa0ed031-5590-432e-bded-091343e2673b",
   "metadata": {},
   "source": [
    "Data product tidak ada yang duplikat.\n",
    "\n",
    "Melihat descriptive statistic untuk semua variabel numerik."
   ]
  },
  {
   "cell_type": "code",
   "execution_count": 41,
   "id": "72cec7bc-db87-4428-8bec-647650676694",
   "metadata": {},
   "outputs": [
    {
     "data": {
      "text/html": [
       "<div>\n",
       "<style scoped>\n",
       "    .dataframe tbody tr th:only-of-type {\n",
       "        vertical-align: middle;\n",
       "    }\n",
       "\n",
       "    .dataframe tbody tr th {\n",
       "        vertical-align: top;\n",
       "    }\n",
       "\n",
       "    .dataframe thead th {\n",
       "        text-align: right;\n",
       "    }\n",
       "</style>\n",
       "<table border=\"1\" class=\"dataframe\">\n",
       "  <thead>\n",
       "    <tr style=\"text-align: right;\">\n",
       "      <th></th>\n",
       "      <th>count</th>\n",
       "      <th>mean</th>\n",
       "      <th>std</th>\n",
       "      <th>min</th>\n",
       "      <th>25%</th>\n",
       "      <th>50%</th>\n",
       "      <th>75%</th>\n",
       "      <th>max</th>\n",
       "    </tr>\n",
       "  </thead>\n",
       "  <tbody>\n",
       "    <tr>\n",
       "      <th>product_name_lenght</th>\n",
       "      <td>32341.0</td>\n",
       "      <td>48.476949</td>\n",
       "      <td>10.245741</td>\n",
       "      <td>5.0</td>\n",
       "      <td>42.0</td>\n",
       "      <td>51.0</td>\n",
       "      <td>57.0</td>\n",
       "      <td>76.0</td>\n",
       "    </tr>\n",
       "    <tr>\n",
       "      <th>product_description_lenght</th>\n",
       "      <td>32341.0</td>\n",
       "      <td>771.495285</td>\n",
       "      <td>635.115225</td>\n",
       "      <td>4.0</td>\n",
       "      <td>339.0</td>\n",
       "      <td>595.0</td>\n",
       "      <td>972.0</td>\n",
       "      <td>3992.0</td>\n",
       "    </tr>\n",
       "    <tr>\n",
       "      <th>product_photos_qty</th>\n",
       "      <td>32341.0</td>\n",
       "      <td>2.188986</td>\n",
       "      <td>1.736766</td>\n",
       "      <td>1.0</td>\n",
       "      <td>1.0</td>\n",
       "      <td>1.0</td>\n",
       "      <td>3.0</td>\n",
       "      <td>20.0</td>\n",
       "    </tr>\n",
       "    <tr>\n",
       "      <th>product_weight_g</th>\n",
       "      <td>32949.0</td>\n",
       "      <td>2276.472488</td>\n",
       "      <td>4282.038731</td>\n",
       "      <td>0.0</td>\n",
       "      <td>300.0</td>\n",
       "      <td>700.0</td>\n",
       "      <td>1900.0</td>\n",
       "      <td>40425.0</td>\n",
       "    </tr>\n",
       "    <tr>\n",
       "      <th>product_length_cm</th>\n",
       "      <td>32949.0</td>\n",
       "      <td>30.815078</td>\n",
       "      <td>16.914458</td>\n",
       "      <td>7.0</td>\n",
       "      <td>18.0</td>\n",
       "      <td>25.0</td>\n",
       "      <td>38.0</td>\n",
       "      <td>105.0</td>\n",
       "    </tr>\n",
       "    <tr>\n",
       "      <th>product_height_cm</th>\n",
       "      <td>32949.0</td>\n",
       "      <td>16.937661</td>\n",
       "      <td>13.637554</td>\n",
       "      <td>2.0</td>\n",
       "      <td>8.0</td>\n",
       "      <td>13.0</td>\n",
       "      <td>21.0</td>\n",
       "      <td>105.0</td>\n",
       "    </tr>\n",
       "    <tr>\n",
       "      <th>product_width_cm</th>\n",
       "      <td>32949.0</td>\n",
       "      <td>23.196728</td>\n",
       "      <td>12.079047</td>\n",
       "      <td>6.0</td>\n",
       "      <td>15.0</td>\n",
       "      <td>20.0</td>\n",
       "      <td>30.0</td>\n",
       "      <td>118.0</td>\n",
       "    </tr>\n",
       "  </tbody>\n",
       "</table>\n",
       "</div>"
      ],
      "text/plain": [
       "                              count         mean          std  min    25%  \\\n",
       "product_name_lenght         32341.0    48.476949    10.245741  5.0   42.0   \n",
       "product_description_lenght  32341.0   771.495285   635.115225  4.0  339.0   \n",
       "product_photos_qty          32341.0     2.188986     1.736766  1.0    1.0   \n",
       "product_weight_g            32949.0  2276.472488  4282.038731  0.0  300.0   \n",
       "product_length_cm           32949.0    30.815078    16.914458  7.0   18.0   \n",
       "product_height_cm           32949.0    16.937661    13.637554  2.0    8.0   \n",
       "product_width_cm            32949.0    23.196728    12.079047  6.0   15.0   \n",
       "\n",
       "                              50%     75%      max  \n",
       "product_name_lenght          51.0    57.0     76.0  \n",
       "product_description_lenght  595.0   972.0   3992.0  \n",
       "product_photos_qty            1.0     3.0     20.0  \n",
       "product_weight_g            700.0  1900.0  40425.0  \n",
       "product_length_cm            25.0    38.0    105.0  \n",
       "product_height_cm            13.0    21.0    105.0  \n",
       "product_width_cm             20.0    30.0    118.0  "
      ]
     },
     "execution_count": 41,
     "metadata": {},
     "output_type": "execute_result"
    }
   ],
   "source": [
    "products_df.describe().T"
   ]
  },
  {
   "cell_type": "markdown",
   "id": "633b02d6-6cc3-4509-b335-b024a559724f",
   "metadata": {},
   "source": [
    "Ada keanehan pada product_weight_g yang beratnya 0 g."
   ]
  },
  {
   "cell_type": "markdown",
   "id": "9ce58a0e-5ed5-4b3d-8c48-af8074f7a770",
   "metadata": {},
   "source": [
    "### Menilai Data Seller\n",
    "\n",
    "Menggunakan `info()` untuk melihat tipe data pada Data seller."
   ]
  },
  {
   "cell_type": "code",
   "execution_count": 42,
   "id": "dc4531f1-eb90-4ba4-a10e-b216ed3d07e0",
   "metadata": {},
   "outputs": [
    {
     "name": "stdout",
     "output_type": "stream",
     "text": [
      "<class 'pandas.core.frame.DataFrame'>\n",
      "RangeIndex: 3095 entries, 0 to 3094\n",
      "Data columns (total 4 columns):\n",
      " #   Column                  Non-Null Count  Dtype \n",
      "---  ------                  --------------  ----- \n",
      " 0   seller_id               3095 non-null   object\n",
      " 1   seller_zip_code_prefix  3095 non-null   int64 \n",
      " 2   seller_city             3095 non-null   object\n",
      " 3   seller_state            3095 non-null   object\n",
      "dtypes: int64(1), object(3)\n",
      "memory usage: 96.8+ KB\n"
     ]
    }
   ],
   "source": [
    "sellers_df.info()"
   ]
  },
  {
   "cell_type": "markdown",
   "id": "53121ff3-57b2-4821-b33d-7369ee5ccc98",
   "metadata": {},
   "source": [
    "Tipe datanya sudah sesuai.\n",
    "\n",
    "Selanjutnya mencari missing values."
   ]
  },
  {
   "cell_type": "code",
   "execution_count": 43,
   "id": "4f7d9fa4-fc5b-4d2b-b1c4-fa4485ec21ac",
   "metadata": {
    "scrolled": true
   },
   "outputs": [
    {
     "data": {
      "text/plain": [
       "seller_id                 0\n",
       "seller_zip_code_prefix    0\n",
       "seller_city               0\n",
       "seller_state              0\n",
       "dtype: int64"
      ]
     },
     "execution_count": 43,
     "metadata": {},
     "output_type": "execute_result"
    }
   ],
   "source": [
    "sellers_df.isna().sum()"
   ]
  },
  {
   "cell_type": "markdown",
   "id": "9d174c64-ebdb-4d45-a3c2-c62debace586",
   "metadata": {},
   "source": [
    "Tidak terdapat missing values.\n",
    "\n",
    "Selanjutnya, kita mencari jumlah data yang duplikat."
   ]
  },
  {
   "cell_type": "code",
   "execution_count": 44,
   "id": "fe8208df-73b2-4d67-a505-543b3951897e",
   "metadata": {},
   "outputs": [
    {
     "name": "stdout",
     "output_type": "stream",
     "text": [
      "Jumlah duplikasi data : 0\n"
     ]
    }
   ],
   "source": [
    "print(f\"Jumlah duplikasi data : {sellers_df.duplicated().sum()}\")"
   ]
  },
  {
   "cell_type": "markdown",
   "id": "1ca949a4-fbc0-4f26-86ea-e29e2250f75c",
   "metadata": {},
   "source": [
    "Tidak terdapat data yang duplikat."
   ]
  },
  {
   "cell_type": "code",
   "execution_count": 45,
   "id": "c9db43b7-ca67-45f1-81b0-f907ed448a4d",
   "metadata": {},
   "outputs": [
    {
     "data": {
      "text/html": [
       "<div>\n",
       "<style scoped>\n",
       "    .dataframe tbody tr th:only-of-type {\n",
       "        vertical-align: middle;\n",
       "    }\n",
       "\n",
       "    .dataframe tbody tr th {\n",
       "        vertical-align: top;\n",
       "    }\n",
       "\n",
       "    .dataframe thead th {\n",
       "        text-align: right;\n",
       "    }\n",
       "</style>\n",
       "<table border=\"1\" class=\"dataframe\">\n",
       "  <thead>\n",
       "    <tr style=\"text-align: right;\">\n",
       "      <th></th>\n",
       "      <th>count</th>\n",
       "      <th>mean</th>\n",
       "      <th>std</th>\n",
       "      <th>min</th>\n",
       "      <th>25%</th>\n",
       "      <th>50%</th>\n",
       "      <th>75%</th>\n",
       "      <th>max</th>\n",
       "    </tr>\n",
       "  </thead>\n",
       "  <tbody>\n",
       "    <tr>\n",
       "      <th>seller_zip_code_prefix</th>\n",
       "      <td>3095.0</td>\n",
       "      <td>32291.059451</td>\n",
       "      <td>32713.45383</td>\n",
       "      <td>1001.0</td>\n",
       "      <td>7093.5</td>\n",
       "      <td>14940.0</td>\n",
       "      <td>64552.5</td>\n",
       "      <td>99730.0</td>\n",
       "    </tr>\n",
       "  </tbody>\n",
       "</table>\n",
       "</div>"
      ],
      "text/plain": [
       "                         count          mean          std     min     25%  \\\n",
       "seller_zip_code_prefix  3095.0  32291.059451  32713.45383  1001.0  7093.5   \n",
       "\n",
       "                            50%      75%      max  \n",
       "seller_zip_code_prefix  14940.0  64552.5  99730.0  "
      ]
     },
     "execution_count": 45,
     "metadata": {},
     "output_type": "execute_result"
    }
   ],
   "source": [
    "sellers_df.describe().T"
   ]
  },
  {
   "cell_type": "markdown",
   "id": "30521b24-913f-4ea2-a419-966cdc33ade0",
   "metadata": {},
   "source": [
    "## Cleaning Data"
   ]
  },
  {
   "cell_type": "markdown",
   "id": "8c6cfcd5-8ce3-49f0-89a7-bc14cfaf2125",
   "metadata": {},
   "source": [
    "Data customer, order items, dan order payment sudah bersih datanya."
   ]
  },
  {
   "cell_type": "markdown",
   "id": "ce0380c0-88df-4ac9-9f7a-2a934823be81",
   "metadata": {},
   "source": [
    "### Membersihkan Data Order Items\n",
    "\n",
    "Mengganti  shipping_limit_date ke datetime"
   ]
  },
  {
   "cell_type": "code",
   "execution_count": 48,
   "id": "be052207-a814-4309-9f4c-a37943b2046d",
   "metadata": {},
   "outputs": [],
   "source": [
    "order_items_df[\"shipping_limit_date\"] = pd.to_datetime(order_items_df[\"shipping_limit_date\"])"
   ]
  },
  {
   "cell_type": "code",
   "execution_count": 49,
   "id": "d8387118-bb85-4cfd-8102-f3b02d2fd9f5",
   "metadata": {},
   "outputs": [
    {
     "name": "stdout",
     "output_type": "stream",
     "text": [
      "<class 'pandas.core.frame.DataFrame'>\n",
      "RangeIndex: 112650 entries, 0 to 112649\n",
      "Data columns (total 7 columns):\n",
      " #   Column               Non-Null Count   Dtype         \n",
      "---  ------               --------------   -----         \n",
      " 0   order_id             112650 non-null  object        \n",
      " 1   order_item_id        112650 non-null  int64         \n",
      " 2   product_id           112650 non-null  object        \n",
      " 3   seller_id            112650 non-null  object        \n",
      " 4   shipping_limit_date  112650 non-null  datetime64[ns]\n",
      " 5   price                112650 non-null  float64       \n",
      " 6   freight_value        112650 non-null  float64       \n",
      "dtypes: datetime64[ns](1), float64(2), int64(1), object(3)\n",
      "memory usage: 6.0+ MB\n"
     ]
    }
   ],
   "source": [
    "order_items_df.info()"
   ]
  },
  {
   "cell_type": "markdown",
   "id": "7b370122-139e-45f0-bae4-dd1c5a35df01",
   "metadata": {},
   "source": [
    "## Membersihkan Data Order Reviews"
   ]
  },
  {
   "cell_type": "markdown",
   "id": "c70e558c-3083-49ab-98be-e8e8e7153481",
   "metadata": {},
   "source": [
    "Menangani missing values.\n",
    "\n",
    "Variabel yang ada missing valuesnya adalah review_comment_title dan\n",
    "review_comment_message   \n",
    "\n",
    "Cek data order reviews yang ada missing valuesnya."
   ]
  },
  {
   "cell_type": "code",
   "execution_count": 50,
   "id": "90c718ca-4978-489f-add0-a435ceb8ab57",
   "metadata": {},
   "outputs": [
    {
     "data": {
      "text/html": [
       "<div>\n",
       "<style scoped>\n",
       "    .dataframe tbody tr th:only-of-type {\n",
       "        vertical-align: middle;\n",
       "    }\n",
       "\n",
       "    .dataframe tbody tr th {\n",
       "        vertical-align: top;\n",
       "    }\n",
       "\n",
       "    .dataframe thead th {\n",
       "        text-align: right;\n",
       "    }\n",
       "</style>\n",
       "<table border=\"1\" class=\"dataframe\">\n",
       "  <thead>\n",
       "    <tr style=\"text-align: right;\">\n",
       "      <th></th>\n",
       "      <th>review_id</th>\n",
       "      <th>order_id</th>\n",
       "      <th>review_score</th>\n",
       "      <th>review_comment_title</th>\n",
       "      <th>review_comment_message</th>\n",
       "      <th>review_creation_date</th>\n",
       "      <th>review_answer_timestamp</th>\n",
       "    </tr>\n",
       "  </thead>\n",
       "  <tbody>\n",
       "    <tr>\n",
       "      <th>3</th>\n",
       "      <td>e64fb393e7b32834bb789ff8bb30750e</td>\n",
       "      <td>658677c97b385a9be170737859d3511b</td>\n",
       "      <td>5</td>\n",
       "      <td>NaN</td>\n",
       "      <td>Recebi bem antes do prazo estipulado.</td>\n",
       "      <td>2017-04-21 00:00:00</td>\n",
       "      <td>2017-04-21 22:02:06</td>\n",
       "    </tr>\n",
       "    <tr>\n",
       "      <th>4</th>\n",
       "      <td>f7c4243c7fe1938f181bec41a392bdeb</td>\n",
       "      <td>8e6bfb81e283fa7e4f11123a3fb894f1</td>\n",
       "      <td>5</td>\n",
       "      <td>NaN</td>\n",
       "      <td>Parabéns lojas lannister adorei comprar pela I...</td>\n",
       "      <td>2018-03-01 00:00:00</td>\n",
       "      <td>2018-03-02 10:26:53</td>\n",
       "    </tr>\n",
       "    <tr>\n",
       "      <th>12</th>\n",
       "      <td>4b49719c8a200003f700d3d986ea1a19</td>\n",
       "      <td>9d6f15f95d01e79bd1349cc208361f09</td>\n",
       "      <td>4</td>\n",
       "      <td>NaN</td>\n",
       "      <td>Mas um pouco ,travando...pelo valor ta Boa.\\r\\n</td>\n",
       "      <td>2018-02-16 00:00:00</td>\n",
       "      <td>2018-02-20 10:52:22</td>\n",
       "    </tr>\n",
       "    <tr>\n",
       "      <th>16</th>\n",
       "      <td>9314d6f9799f5bfba510cc7bcd468c01</td>\n",
       "      <td>0dacf04c5ad59fd5a0cc1faa07c34e39</td>\n",
       "      <td>2</td>\n",
       "      <td>NaN</td>\n",
       "      <td>GOSTARIA DE SABER O QUE HOUVE, SEMPRE RECEBI E...</td>\n",
       "      <td>2018-01-18 00:00:00</td>\n",
       "      <td>2018-01-20 21:25:45</td>\n",
       "    </tr>\n",
       "    <tr>\n",
       "      <th>24</th>\n",
       "      <td>0e0190b9db53b689b285d3f3916f8441</td>\n",
       "      <td>79832b7cb59ac6f887088ffd686e1d5e</td>\n",
       "      <td>5</td>\n",
       "      <td>NaN</td>\n",
       "      <td>obrigado pela atençao amim dispensada</td>\n",
       "      <td>2017-12-01 00:00:00</td>\n",
       "      <td>2017-12-09 22:58:58</td>\n",
       "    </tr>\n",
       "    <tr>\n",
       "      <th>...</th>\n",
       "      <td>...</td>\n",
       "      <td>...</td>\n",
       "      <td>...</td>\n",
       "      <td>...</td>\n",
       "      <td>...</td>\n",
       "      <td>...</td>\n",
       "      <td>...</td>\n",
       "    </tr>\n",
       "    <tr>\n",
       "      <th>99205</th>\n",
       "      <td>98fffa80dc9acbde7388bef1600f3b15</td>\n",
       "      <td>d398e9c82363c12527f71801bf0e6100</td>\n",
       "      <td>4</td>\n",
       "      <td>NaN</td>\n",
       "      <td>para este produto recebi de acordo com a compr...</td>\n",
       "      <td>2017-11-29 00:00:00</td>\n",
       "      <td>2017-11-30 15:52:51</td>\n",
       "    </tr>\n",
       "    <tr>\n",
       "      <th>99208</th>\n",
       "      <td>df5fae90e85354241d5d64a8955b2b09</td>\n",
       "      <td>509b86c65fe4e2ad5b96408cfef9755e</td>\n",
       "      <td>5</td>\n",
       "      <td>NaN</td>\n",
       "      <td>Entregou dentro do prazo. O produto chegou em ...</td>\n",
       "      <td>2018-02-07 00:00:00</td>\n",
       "      <td>2018-02-19 19:47:23</td>\n",
       "    </tr>\n",
       "    <tr>\n",
       "      <th>99215</th>\n",
       "      <td>a709d176f59bc3af77f4149c96bae357</td>\n",
       "      <td>d5cb12269711bd1eaf7eed8fd32a7c95</td>\n",
       "      <td>3</td>\n",
       "      <td>NaN</td>\n",
       "      <td>O produto não foi enviado com NF, não existe v...</td>\n",
       "      <td>2018-05-19 00:00:00</td>\n",
       "      <td>2018-05-20 21:51:06</td>\n",
       "    </tr>\n",
       "    <tr>\n",
       "      <th>99221</th>\n",
       "      <td>b3de70c89b1510c4cd3d0649fd302472</td>\n",
       "      <td>55d4004744368f5571d1f590031933e4</td>\n",
       "      <td>5</td>\n",
       "      <td>NaN</td>\n",
       "      <td>Excelente mochila, entrega super rápida. Super...</td>\n",
       "      <td>2018-03-22 00:00:00</td>\n",
       "      <td>2018-03-23 09:10:43</td>\n",
       "    </tr>\n",
       "    <tr>\n",
       "      <th>99223</th>\n",
       "      <td>efe49f1d6f951dd88b51e6ccd4cc548f</td>\n",
       "      <td>90531360ecb1eec2a1fbb265a0db0508</td>\n",
       "      <td>1</td>\n",
       "      <td>NaN</td>\n",
       "      <td>meu produto chegou e ja tenho que devolver, po...</td>\n",
       "      <td>2017-07-03 00:00:00</td>\n",
       "      <td>2017-07-03 21:01:49</td>\n",
       "    </tr>\n",
       "  </tbody>\n",
       "</table>\n",
       "<p>31138 rows × 7 columns</p>\n",
       "</div>"
      ],
      "text/plain": [
       "                              review_id                          order_id  \\\n",
       "3      e64fb393e7b32834bb789ff8bb30750e  658677c97b385a9be170737859d3511b   \n",
       "4      f7c4243c7fe1938f181bec41a392bdeb  8e6bfb81e283fa7e4f11123a3fb894f1   \n",
       "12     4b49719c8a200003f700d3d986ea1a19  9d6f15f95d01e79bd1349cc208361f09   \n",
       "16     9314d6f9799f5bfba510cc7bcd468c01  0dacf04c5ad59fd5a0cc1faa07c34e39   \n",
       "24     0e0190b9db53b689b285d3f3916f8441  79832b7cb59ac6f887088ffd686e1d5e   \n",
       "...                                 ...                               ...   \n",
       "99205  98fffa80dc9acbde7388bef1600f3b15  d398e9c82363c12527f71801bf0e6100   \n",
       "99208  df5fae90e85354241d5d64a8955b2b09  509b86c65fe4e2ad5b96408cfef9755e   \n",
       "99215  a709d176f59bc3af77f4149c96bae357  d5cb12269711bd1eaf7eed8fd32a7c95   \n",
       "99221  b3de70c89b1510c4cd3d0649fd302472  55d4004744368f5571d1f590031933e4   \n",
       "99223  efe49f1d6f951dd88b51e6ccd4cc548f  90531360ecb1eec2a1fbb265a0db0508   \n",
       "\n",
       "       review_score review_comment_title  \\\n",
       "3                 5                  NaN   \n",
       "4                 5                  NaN   \n",
       "12                4                  NaN   \n",
       "16                2                  NaN   \n",
       "24                5                  NaN   \n",
       "...             ...                  ...   \n",
       "99205             4                  NaN   \n",
       "99208             5                  NaN   \n",
       "99215             3                  NaN   \n",
       "99221             5                  NaN   \n",
       "99223             1                  NaN   \n",
       "\n",
       "                                  review_comment_message review_creation_date  \\\n",
       "3                  Recebi bem antes do prazo estipulado.  2017-04-21 00:00:00   \n",
       "4      Parabéns lojas lannister adorei comprar pela I...  2018-03-01 00:00:00   \n",
       "12       Mas um pouco ,travando...pelo valor ta Boa.\\r\\n  2018-02-16 00:00:00   \n",
       "16     GOSTARIA DE SABER O QUE HOUVE, SEMPRE RECEBI E...  2018-01-18 00:00:00   \n",
       "24                 obrigado pela atençao amim dispensada  2017-12-01 00:00:00   \n",
       "...                                                  ...                  ...   \n",
       "99205  para este produto recebi de acordo com a compr...  2017-11-29 00:00:00   \n",
       "99208  Entregou dentro do prazo. O produto chegou em ...  2018-02-07 00:00:00   \n",
       "99215  O produto não foi enviado com NF, não existe v...  2018-05-19 00:00:00   \n",
       "99221  Excelente mochila, entrega super rápida. Super...  2018-03-22 00:00:00   \n",
       "99223  meu produto chegou e ja tenho que devolver, po...  2017-07-03 00:00:00   \n",
       "\n",
       "      review_answer_timestamp  \n",
       "3         2017-04-21 22:02:06  \n",
       "4         2018-03-02 10:26:53  \n",
       "12        2018-02-20 10:52:22  \n",
       "16        2018-01-20 21:25:45  \n",
       "24        2017-12-09 22:58:58  \n",
       "...                       ...  \n",
       "99205     2017-11-30 15:52:51  \n",
       "99208     2018-02-19 19:47:23  \n",
       "99215     2018-05-20 21:51:06  \n",
       "99221     2018-03-23 09:10:43  \n",
       "99223     2017-07-03 21:01:49  \n",
       "\n",
       "[31138 rows x 7 columns]"
      ]
     },
     "execution_count": 50,
     "metadata": {},
     "output_type": "execute_result"
    }
   ],
   "source": [
    "order_reviews_df[order_reviews_df[\"review_comment_title\"].isna() & order_reviews_df[\"review_comment_message\"]]"
   ]
  },
  {
   "cell_type": "markdown",
   "id": "d235d6a5-852b-4f33-b9db-716e5b299a41",
   "metadata": {},
   "source": [
    "Karena hanya deskripsi review saja maka data dengan missing values bisa diisi dengan  `Not Exist` artinya customer tersebut tidak mengisi deskripsi."
   ]
  },
  {
   "cell_type": "code",
   "execution_count": 51,
   "id": "055b6d4c-8d9f-484c-bcc9-f337a1b65c6d",
   "metadata": {},
   "outputs": [],
   "source": [
    "order_reviews_df.fillna(\"Not Exist\", axis=0, inplace=True)"
   ]
  },
  {
   "cell_type": "code",
   "execution_count": 52,
   "id": "e5de445e-c414-4d1e-b162-fd56b79d236d",
   "metadata": {},
   "outputs": [
    {
     "data": {
      "text/plain": [
       "review_id                  0\n",
       "order_id                   0\n",
       "review_score               0\n",
       "review_comment_title       0\n",
       "review_comment_message     0\n",
       "review_creation_date       0\n",
       "review_answer_timestamp    0\n",
       "dtype: int64"
      ]
     },
     "execution_count": 52,
     "metadata": {},
     "output_type": "execute_result"
    }
   ],
   "source": [
    "order_reviews_df.isna().sum()"
   ]
  },
  {
   "cell_type": "markdown",
   "id": "a388db42-c718-4a00-9e8d-c9c4b8a9aed4",
   "metadata": {},
   "source": [
    "Mengubah tipe data review_creation_date dan review_answer_timestamp ke datetime"
   ]
  },
  {
   "cell_type": "code",
   "execution_count": 53,
   "id": "244a1ed7-ac39-45c4-9e3b-cb185096093f",
   "metadata": {},
   "outputs": [],
   "source": [
    "datetime_columns = [\"review_creation_date\",\"review_answer_timestamp\"]\n",
    "\n",
    "for column in datetime_columns:\n",
    "    order_reviews_df[column] = pd.to_datetime(order_reviews_df[column])"
   ]
  },
  {
   "cell_type": "code",
   "execution_count": 54,
   "id": "b77f1e5f-51d3-40a3-a0fa-98b0ca3be16e",
   "metadata": {},
   "outputs": [
    {
     "name": "stdout",
     "output_type": "stream",
     "text": [
      "<class 'pandas.core.frame.DataFrame'>\n",
      "RangeIndex: 99224 entries, 0 to 99223\n",
      "Data columns (total 7 columns):\n",
      " #   Column                   Non-Null Count  Dtype         \n",
      "---  ------                   --------------  -----         \n",
      " 0   review_id                99224 non-null  object        \n",
      " 1   order_id                 99224 non-null  object        \n",
      " 2   review_score             99224 non-null  int64         \n",
      " 3   review_comment_title     99224 non-null  object        \n",
      " 4   review_comment_message   99224 non-null  object        \n",
      " 5   review_creation_date     99224 non-null  datetime64[ns]\n",
      " 6   review_answer_timestamp  99224 non-null  datetime64[ns]\n",
      "dtypes: datetime64[ns](2), int64(1), object(4)\n",
      "memory usage: 5.3+ MB\n"
     ]
    }
   ],
   "source": [
    "order_reviews_df.info()"
   ]
  },
  {
   "cell_type": "markdown",
   "id": "2556c58a-9b99-445c-8017-7b0b39e1870b",
   "metadata": {},
   "source": [
    "## Membersihkan Data Order\n",
    "\n",
    "Untuk variabel order_purchase_timestamp, order_approved_at, order_delivered_carrier_date, order_delivered_customer_date, dan order_estimated_delivery_data ubah tipe datannya menjadi datetime."
   ]
  },
  {
   "cell_type": "code",
   "execution_count": 55,
   "id": "b7c38942-3bf3-487f-865e-485ef2d91d5d",
   "metadata": {},
   "outputs": [],
   "source": [
    "datetime_columns = [\"order_purchase_timestamp\",\"order_approved_at\", \"order_delivered_carrier_date\", \"order_delivered_customer_date\", \"order_estimated_delivery_date\"]\n",
    "for column in datetime_columns:\n",
    "    orders_df[column] = pd.to_datetime(orders_df[column])"
   ]
  },
  {
   "cell_type": "code",
   "execution_count": 56,
   "id": "c3ee3d36-c2e2-46f9-b9af-a9d7014bd97e",
   "metadata": {},
   "outputs": [
    {
     "name": "stdout",
     "output_type": "stream",
     "text": [
      "<class 'pandas.core.frame.DataFrame'>\n",
      "RangeIndex: 99441 entries, 0 to 99440\n",
      "Data columns (total 8 columns):\n",
      " #   Column                         Non-Null Count  Dtype         \n",
      "---  ------                         --------------  -----         \n",
      " 0   order_id                       99441 non-null  object        \n",
      " 1   customer_id                    99441 non-null  object        \n",
      " 2   order_status                   99441 non-null  object        \n",
      " 3   order_purchase_timestamp       99441 non-null  datetime64[ns]\n",
      " 4   order_approved_at              99281 non-null  datetime64[ns]\n",
      " 5   order_delivered_carrier_date   97658 non-null  datetime64[ns]\n",
      " 6   order_delivered_customer_date  96476 non-null  datetime64[ns]\n",
      " 7   order_estimated_delivery_date  99441 non-null  datetime64[ns]\n",
      "dtypes: datetime64[ns](5), object(3)\n",
      "memory usage: 6.1+ MB\n"
     ]
    }
   ],
   "source": [
    "orders_df.info()"
   ]
  },
  {
   "cell_type": "markdown",
   "id": "8ed45a01-0771-479e-836e-4703705c6ded",
   "metadata": {},
   "source": [
    "Mengecek missing values"
   ]
  },
  {
   "cell_type": "code",
   "execution_count": 57,
   "id": "0ed3eb2d-4dac-4513-8a18-602606f27879",
   "metadata": {},
   "outputs": [
    {
     "data": {
      "text/html": [
       "<div>\n",
       "<style scoped>\n",
       "    .dataframe tbody tr th:only-of-type {\n",
       "        vertical-align: middle;\n",
       "    }\n",
       "\n",
       "    .dataframe tbody tr th {\n",
       "        vertical-align: top;\n",
       "    }\n",
       "\n",
       "    .dataframe thead th {\n",
       "        text-align: right;\n",
       "    }\n",
       "</style>\n",
       "<table border=\"1\" class=\"dataframe\">\n",
       "  <thead>\n",
       "    <tr style=\"text-align: right;\">\n",
       "      <th></th>\n",
       "      <th>order_id</th>\n",
       "      <th>customer_id</th>\n",
       "      <th>order_status</th>\n",
       "      <th>order_purchase_timestamp</th>\n",
       "      <th>order_approved_at</th>\n",
       "      <th>order_delivered_carrier_date</th>\n",
       "      <th>order_delivered_customer_date</th>\n",
       "      <th>order_estimated_delivery_date</th>\n",
       "    </tr>\n",
       "  </thead>\n",
       "  <tbody>\n",
       "    <tr>\n",
       "      <th>1130</th>\n",
       "      <td>00b1cb0320190ca0daa2c88b35206009</td>\n",
       "      <td>3532ba38a3fd242259a514ac2b6ae6b6</td>\n",
       "      <td>canceled</td>\n",
       "      <td>2018-08-28 15:26:39</td>\n",
       "      <td>NaT</td>\n",
       "      <td>NaT</td>\n",
       "      <td>NaT</td>\n",
       "      <td>2018-09-12</td>\n",
       "    </tr>\n",
       "    <tr>\n",
       "      <th>1801</th>\n",
       "      <td>ed3efbd3a87bea76c2812c66a0b32219</td>\n",
       "      <td>191984a8ba4cbb2145acb4fe35b69664</td>\n",
       "      <td>canceled</td>\n",
       "      <td>2018-09-20 13:54:16</td>\n",
       "      <td>NaT</td>\n",
       "      <td>NaT</td>\n",
       "      <td>NaT</td>\n",
       "      <td>2018-10-17</td>\n",
       "    </tr>\n",
       "    <tr>\n",
       "      <th>1868</th>\n",
       "      <td>df8282afe61008dc26c6c31011474d02</td>\n",
       "      <td>aa797b187b5466bc6925aaaa4bb3bed1</td>\n",
       "      <td>canceled</td>\n",
       "      <td>2017-03-04 12:14:30</td>\n",
       "      <td>NaT</td>\n",
       "      <td>NaT</td>\n",
       "      <td>NaT</td>\n",
       "      <td>2017-04-10</td>\n",
       "    </tr>\n",
       "    <tr>\n",
       "      <th>2029</th>\n",
       "      <td>8d4c637f1accf7a88a4555f02741e606</td>\n",
       "      <td>b1dd715db389a2077f43174e7a675d07</td>\n",
       "      <td>canceled</td>\n",
       "      <td>2018-08-29 16:27:49</td>\n",
       "      <td>NaT</td>\n",
       "      <td>NaT</td>\n",
       "      <td>NaT</td>\n",
       "      <td>2018-09-13</td>\n",
       "    </tr>\n",
       "    <tr>\n",
       "      <th>2161</th>\n",
       "      <td>7a9d4c7f9b068337875b95465330f2fc</td>\n",
       "      <td>7f71ae48074c0cfec9195f88fcbfac55</td>\n",
       "      <td>canceled</td>\n",
       "      <td>2017-05-01 16:12:39</td>\n",
       "      <td>NaT</td>\n",
       "      <td>NaT</td>\n",
       "      <td>NaT</td>\n",
       "      <td>2017-05-30</td>\n",
       "    </tr>\n",
       "    <tr>\n",
       "      <th>...</th>\n",
       "      <td>...</td>\n",
       "      <td>...</td>\n",
       "      <td>...</td>\n",
       "      <td>...</td>\n",
       "      <td>...</td>\n",
       "      <td>...</td>\n",
       "      <td>...</td>\n",
       "      <td>...</td>\n",
       "    </tr>\n",
       "    <tr>\n",
       "      <th>97696</th>\n",
       "      <td>5a00b4d35edffc56b825c3646a99ba9d</td>\n",
       "      <td>6a3bdf004ca96338fb5fad1b8d93c2e6</td>\n",
       "      <td>canceled</td>\n",
       "      <td>2017-07-02 15:38:46</td>\n",
       "      <td>NaT</td>\n",
       "      <td>NaT</td>\n",
       "      <td>NaT</td>\n",
       "      <td>2017-07-25</td>\n",
       "    </tr>\n",
       "    <tr>\n",
       "      <th>98415</th>\n",
       "      <td>227c804e2a44760671a6a5697ea549e4</td>\n",
       "      <td>62e7477e75e542243ee62a0ba73f410f</td>\n",
       "      <td>canceled</td>\n",
       "      <td>2017-09-28 15:02:56</td>\n",
       "      <td>NaT</td>\n",
       "      <td>NaT</td>\n",
       "      <td>NaT</td>\n",
       "      <td>2017-10-16</td>\n",
       "    </tr>\n",
       "    <tr>\n",
       "      <th>98909</th>\n",
       "      <td>e49e7ce1471b4693482d40c2bd3ad196</td>\n",
       "      <td>e4e7ab3f449aeb401f0216f86c2104db</td>\n",
       "      <td>canceled</td>\n",
       "      <td>2018-08-07 11:16:28</td>\n",
       "      <td>NaT</td>\n",
       "      <td>NaT</td>\n",
       "      <td>NaT</td>\n",
       "      <td>2018-08-10</td>\n",
       "    </tr>\n",
       "    <tr>\n",
       "      <th>99283</th>\n",
       "      <td>3a3cddda5a7c27851bd96c3313412840</td>\n",
       "      <td>0b0d6095c5555fe083844281f6b093bb</td>\n",
       "      <td>canceled</td>\n",
       "      <td>2018-08-31 16:13:44</td>\n",
       "      <td>NaT</td>\n",
       "      <td>NaT</td>\n",
       "      <td>NaT</td>\n",
       "      <td>2018-10-01</td>\n",
       "    </tr>\n",
       "    <tr>\n",
       "      <th>99347</th>\n",
       "      <td>a89abace0dcc01eeb267a9660b5ac126</td>\n",
       "      <td>2f0524a7b1b3845a1a57fcf3910c4333</td>\n",
       "      <td>canceled</td>\n",
       "      <td>2018-09-06 18:45:47</td>\n",
       "      <td>NaT</td>\n",
       "      <td>NaT</td>\n",
       "      <td>NaT</td>\n",
       "      <td>2018-09-27</td>\n",
       "    </tr>\n",
       "  </tbody>\n",
       "</table>\n",
       "<p>160 rows × 8 columns</p>\n",
       "</div>"
      ],
      "text/plain": [
       "                               order_id                       customer_id  \\\n",
       "1130   00b1cb0320190ca0daa2c88b35206009  3532ba38a3fd242259a514ac2b6ae6b6   \n",
       "1801   ed3efbd3a87bea76c2812c66a0b32219  191984a8ba4cbb2145acb4fe35b69664   \n",
       "1868   df8282afe61008dc26c6c31011474d02  aa797b187b5466bc6925aaaa4bb3bed1   \n",
       "2029   8d4c637f1accf7a88a4555f02741e606  b1dd715db389a2077f43174e7a675d07   \n",
       "2161   7a9d4c7f9b068337875b95465330f2fc  7f71ae48074c0cfec9195f88fcbfac55   \n",
       "...                                 ...                               ...   \n",
       "97696  5a00b4d35edffc56b825c3646a99ba9d  6a3bdf004ca96338fb5fad1b8d93c2e6   \n",
       "98415  227c804e2a44760671a6a5697ea549e4  62e7477e75e542243ee62a0ba73f410f   \n",
       "98909  e49e7ce1471b4693482d40c2bd3ad196  e4e7ab3f449aeb401f0216f86c2104db   \n",
       "99283  3a3cddda5a7c27851bd96c3313412840  0b0d6095c5555fe083844281f6b093bb   \n",
       "99347  a89abace0dcc01eeb267a9660b5ac126  2f0524a7b1b3845a1a57fcf3910c4333   \n",
       "\n",
       "      order_status order_purchase_timestamp order_approved_at  \\\n",
       "1130      canceled      2018-08-28 15:26:39               NaT   \n",
       "1801      canceled      2018-09-20 13:54:16               NaT   \n",
       "1868      canceled      2017-03-04 12:14:30               NaT   \n",
       "2029      canceled      2018-08-29 16:27:49               NaT   \n",
       "2161      canceled      2017-05-01 16:12:39               NaT   \n",
       "...            ...                      ...               ...   \n",
       "97696     canceled      2017-07-02 15:38:46               NaT   \n",
       "98415     canceled      2017-09-28 15:02:56               NaT   \n",
       "98909     canceled      2018-08-07 11:16:28               NaT   \n",
       "99283     canceled      2018-08-31 16:13:44               NaT   \n",
       "99347     canceled      2018-09-06 18:45:47               NaT   \n",
       "\n",
       "      order_delivered_carrier_date order_delivered_customer_date  \\\n",
       "1130                           NaT                           NaT   \n",
       "1801                           NaT                           NaT   \n",
       "1868                           NaT                           NaT   \n",
       "2029                           NaT                           NaT   \n",
       "2161                           NaT                           NaT   \n",
       "...                            ...                           ...   \n",
       "97696                          NaT                           NaT   \n",
       "98415                          NaT                           NaT   \n",
       "98909                          NaT                           NaT   \n",
       "99283                          NaT                           NaT   \n",
       "99347                          NaT                           NaT   \n",
       "\n",
       "      order_estimated_delivery_date  \n",
       "1130                     2018-09-12  \n",
       "1801                     2018-10-17  \n",
       "1868                     2017-04-10  \n",
       "2029                     2018-09-13  \n",
       "2161                     2017-05-30  \n",
       "...                             ...  \n",
       "97696                    2017-07-25  \n",
       "98415                    2017-10-16  \n",
       "98909                    2018-08-10  \n",
       "99283                    2018-10-01  \n",
       "99347                    2018-09-27  \n",
       "\n",
       "[160 rows x 8 columns]"
      ]
     },
     "execution_count": 57,
     "metadata": {},
     "output_type": "execute_result"
    }
   ],
   "source": [
    "orders_df[orders_df[\"order_approved_at\"].isna()]"
   ]
  },
  {
   "cell_type": "code",
   "execution_count": 58,
   "id": "c094da6c-2c1a-4cce-9738-20506095092c",
   "metadata": {},
   "outputs": [
    {
     "data": {
      "text/html": [
       "<div>\n",
       "<style scoped>\n",
       "    .dataframe tbody tr th:only-of-type {\n",
       "        vertical-align: middle;\n",
       "    }\n",
       "\n",
       "    .dataframe tbody tr th {\n",
       "        vertical-align: top;\n",
       "    }\n",
       "\n",
       "    .dataframe thead th {\n",
       "        text-align: right;\n",
       "    }\n",
       "</style>\n",
       "<table border=\"1\" class=\"dataframe\">\n",
       "  <thead>\n",
       "    <tr style=\"text-align: right;\">\n",
       "      <th></th>\n",
       "      <th>order_id</th>\n",
       "      <th>customer_id</th>\n",
       "      <th>order_status</th>\n",
       "      <th>order_purchase_timestamp</th>\n",
       "      <th>order_approved_at</th>\n",
       "      <th>order_delivered_carrier_date</th>\n",
       "      <th>order_delivered_customer_date</th>\n",
       "      <th>order_estimated_delivery_date</th>\n",
       "    </tr>\n",
       "  </thead>\n",
       "  <tbody>\n",
       "    <tr>\n",
       "      <th>397</th>\n",
       "      <td>1b9ecfe83cdc259250e1a8aca174f0ad</td>\n",
       "      <td>6d6b50b66d79f80827b6d96751528d30</td>\n",
       "      <td>canceled</td>\n",
       "      <td>2018-08-04 14:29:27</td>\n",
       "      <td>2018-08-07 04:10:26</td>\n",
       "      <td>NaT</td>\n",
       "      <td>NaT</td>\n",
       "      <td>2018-08-14</td>\n",
       "    </tr>\n",
       "    <tr>\n",
       "      <th>613</th>\n",
       "      <td>714fb133a6730ab81fa1d3c1b2007291</td>\n",
       "      <td>e3fe72696c4713d64d3c10afe71e75ed</td>\n",
       "      <td>canceled</td>\n",
       "      <td>2018-01-26 21:34:08</td>\n",
       "      <td>2018-01-26 21:58:39</td>\n",
       "      <td>2018-01-29 22:33:25</td>\n",
       "      <td>NaT</td>\n",
       "      <td>2018-02-22</td>\n",
       "    </tr>\n",
       "    <tr>\n",
       "      <th>1058</th>\n",
       "      <td>3a129877493c8189c59c60eb71d97c29</td>\n",
       "      <td>0913cdce793684e52bbfac69d87e91fd</td>\n",
       "      <td>canceled</td>\n",
       "      <td>2018-01-25 13:34:24</td>\n",
       "      <td>2018-01-25 13:50:20</td>\n",
       "      <td>2018-01-26 21:42:18</td>\n",
       "      <td>NaT</td>\n",
       "      <td>2018-02-23</td>\n",
       "    </tr>\n",
       "    <tr>\n",
       "      <th>1130</th>\n",
       "      <td>00b1cb0320190ca0daa2c88b35206009</td>\n",
       "      <td>3532ba38a3fd242259a514ac2b6ae6b6</td>\n",
       "      <td>canceled</td>\n",
       "      <td>2018-08-28 15:26:39</td>\n",
       "      <td>NaT</td>\n",
       "      <td>NaT</td>\n",
       "      <td>NaT</td>\n",
       "      <td>2018-09-12</td>\n",
       "    </tr>\n",
       "    <tr>\n",
       "      <th>1801</th>\n",
       "      <td>ed3efbd3a87bea76c2812c66a0b32219</td>\n",
       "      <td>191984a8ba4cbb2145acb4fe35b69664</td>\n",
       "      <td>canceled</td>\n",
       "      <td>2018-09-20 13:54:16</td>\n",
       "      <td>NaT</td>\n",
       "      <td>NaT</td>\n",
       "      <td>NaT</td>\n",
       "      <td>2018-10-17</td>\n",
       "    </tr>\n",
       "    <tr>\n",
       "      <th>...</th>\n",
       "      <td>...</td>\n",
       "      <td>...</td>\n",
       "      <td>...</td>\n",
       "      <td>...</td>\n",
       "      <td>...</td>\n",
       "      <td>...</td>\n",
       "      <td>...</td>\n",
       "      <td>...</td>\n",
       "    </tr>\n",
       "    <tr>\n",
       "      <th>98791</th>\n",
       "      <td>b159d0ce7cd881052da94fa165617b05</td>\n",
       "      <td>e0c3bc5ce0836b975d6b2a8ce7bb0e3e</td>\n",
       "      <td>canceled</td>\n",
       "      <td>2017-03-11 19:51:36</td>\n",
       "      <td>2017-03-11 19:51:36</td>\n",
       "      <td>NaT</td>\n",
       "      <td>NaT</td>\n",
       "      <td>2017-03-30</td>\n",
       "    </tr>\n",
       "    <tr>\n",
       "      <th>98909</th>\n",
       "      <td>e49e7ce1471b4693482d40c2bd3ad196</td>\n",
       "      <td>e4e7ab3f449aeb401f0216f86c2104db</td>\n",
       "      <td>canceled</td>\n",
       "      <td>2018-08-07 11:16:28</td>\n",
       "      <td>NaT</td>\n",
       "      <td>NaT</td>\n",
       "      <td>NaT</td>\n",
       "      <td>2018-08-10</td>\n",
       "    </tr>\n",
       "    <tr>\n",
       "      <th>99143</th>\n",
       "      <td>6560fb10610771449cb0463c5ba12199</td>\n",
       "      <td>0d07d0a588caf93cc66b7a8aff86d2fe</td>\n",
       "      <td>canceled</td>\n",
       "      <td>2017-10-01 22:26:25</td>\n",
       "      <td>2017-10-01 22:35:22</td>\n",
       "      <td>NaT</td>\n",
       "      <td>NaT</td>\n",
       "      <td>2017-10-27</td>\n",
       "    </tr>\n",
       "    <tr>\n",
       "      <th>99283</th>\n",
       "      <td>3a3cddda5a7c27851bd96c3313412840</td>\n",
       "      <td>0b0d6095c5555fe083844281f6b093bb</td>\n",
       "      <td>canceled</td>\n",
       "      <td>2018-08-31 16:13:44</td>\n",
       "      <td>NaT</td>\n",
       "      <td>NaT</td>\n",
       "      <td>NaT</td>\n",
       "      <td>2018-10-01</td>\n",
       "    </tr>\n",
       "    <tr>\n",
       "      <th>99347</th>\n",
       "      <td>a89abace0dcc01eeb267a9660b5ac126</td>\n",
       "      <td>2f0524a7b1b3845a1a57fcf3910c4333</td>\n",
       "      <td>canceled</td>\n",
       "      <td>2018-09-06 18:45:47</td>\n",
       "      <td>NaT</td>\n",
       "      <td>NaT</td>\n",
       "      <td>NaT</td>\n",
       "      <td>2018-09-27</td>\n",
       "    </tr>\n",
       "  </tbody>\n",
       "</table>\n",
       "<p>625 rows × 8 columns</p>\n",
       "</div>"
      ],
      "text/plain": [
       "                               order_id                       customer_id  \\\n",
       "397    1b9ecfe83cdc259250e1a8aca174f0ad  6d6b50b66d79f80827b6d96751528d30   \n",
       "613    714fb133a6730ab81fa1d3c1b2007291  e3fe72696c4713d64d3c10afe71e75ed   \n",
       "1058   3a129877493c8189c59c60eb71d97c29  0913cdce793684e52bbfac69d87e91fd   \n",
       "1130   00b1cb0320190ca0daa2c88b35206009  3532ba38a3fd242259a514ac2b6ae6b6   \n",
       "1801   ed3efbd3a87bea76c2812c66a0b32219  191984a8ba4cbb2145acb4fe35b69664   \n",
       "...                                 ...                               ...   \n",
       "98791  b159d0ce7cd881052da94fa165617b05  e0c3bc5ce0836b975d6b2a8ce7bb0e3e   \n",
       "98909  e49e7ce1471b4693482d40c2bd3ad196  e4e7ab3f449aeb401f0216f86c2104db   \n",
       "99143  6560fb10610771449cb0463c5ba12199  0d07d0a588caf93cc66b7a8aff86d2fe   \n",
       "99283  3a3cddda5a7c27851bd96c3313412840  0b0d6095c5555fe083844281f6b093bb   \n",
       "99347  a89abace0dcc01eeb267a9660b5ac126  2f0524a7b1b3845a1a57fcf3910c4333   \n",
       "\n",
       "      order_status order_purchase_timestamp   order_approved_at  \\\n",
       "397       canceled      2018-08-04 14:29:27 2018-08-07 04:10:26   \n",
       "613       canceled      2018-01-26 21:34:08 2018-01-26 21:58:39   \n",
       "1058      canceled      2018-01-25 13:34:24 2018-01-25 13:50:20   \n",
       "1130      canceled      2018-08-28 15:26:39                 NaT   \n",
       "1801      canceled      2018-09-20 13:54:16                 NaT   \n",
       "...            ...                      ...                 ...   \n",
       "98791     canceled      2017-03-11 19:51:36 2017-03-11 19:51:36   \n",
       "98909     canceled      2018-08-07 11:16:28                 NaT   \n",
       "99143     canceled      2017-10-01 22:26:25 2017-10-01 22:35:22   \n",
       "99283     canceled      2018-08-31 16:13:44                 NaT   \n",
       "99347     canceled      2018-09-06 18:45:47                 NaT   \n",
       "\n",
       "      order_delivered_carrier_date order_delivered_customer_date  \\\n",
       "397                            NaT                           NaT   \n",
       "613            2018-01-29 22:33:25                           NaT   \n",
       "1058           2018-01-26 21:42:18                           NaT   \n",
       "1130                           NaT                           NaT   \n",
       "1801                           NaT                           NaT   \n",
       "...                            ...                           ...   \n",
       "98791                          NaT                           NaT   \n",
       "98909                          NaT                           NaT   \n",
       "99143                          NaT                           NaT   \n",
       "99283                          NaT                           NaT   \n",
       "99347                          NaT                           NaT   \n",
       "\n",
       "      order_estimated_delivery_date  \n",
       "397                      2018-08-14  \n",
       "613                      2018-02-22  \n",
       "1058                     2018-02-23  \n",
       "1130                     2018-09-12  \n",
       "1801                     2018-10-17  \n",
       "...                             ...  \n",
       "98791                    2017-03-30  \n",
       "98909                    2018-08-10  \n",
       "99143                    2017-10-27  \n",
       "99283                    2018-10-01  \n",
       "99347                    2018-09-27  \n",
       "\n",
       "[625 rows x 8 columns]"
      ]
     },
     "execution_count": 58,
     "metadata": {},
     "output_type": "execute_result"
    }
   ],
   "source": [
    "orders_df[orders_df[\"order_status\"] == \"canceled\"]"
   ]
  },
  {
   "cell_type": "markdown",
   "id": "6ac1af91-3029-4172-99f7-e8d25aade7a6",
   "metadata": {},
   "source": [
    "karena missing value dalam table orders kebanyakan merupakan tipe data datetime yang menyangkut tentang waktu pengiriman paket, maka paket yang belum sampai kepada kurir atau pelanggan akan menjadi missing value. missing value ini juga berpengaruh pada order_status, maka missing value dengan tipe datetime tidak akan dihapus."
   ]
  },
  {
   "cell_type": "markdown",
   "id": "ff47cb69-b242-45dc-a3f5-406fec3b1490",
   "metadata": {},
   "source": [
    "## Membersihkan Data Product\n",
    "\n",
    "memperbaiki kesalahan tulisan pada kolom **product_name_lenght** dan **product_description_lenght** menjadi **product_name_length** dan **product_description_length** pada products_df"
   ]
  },
  {
   "cell_type": "code",
   "execution_count": 59,
   "id": "83447e5d-a5a7-441a-a5be-da03984e9984",
   "metadata": {},
   "outputs": [],
   "source": [
    "products_df.rename(columns={'product_name_lenght': 'product_name_length', 'product_description_lenght': 'product_description_length'}, inplace=True)"
   ]
  },
  {
   "cell_type": "markdown",
   "id": "cf0edbe0-fa7d-4a74-b9c8-96e493ef5cd4",
   "metadata": {},
   "source": [
    "Mengisi missing values dengan mean kecuali pada product_category_name"
   ]
  },
  {
   "cell_type": "code",
   "execution_count": 60,
   "id": "aeef2594-c160-4eff-92ea-76916a482178",
   "metadata": {},
   "outputs": [],
   "source": [
    "products_df['product_name_length'].fillna(products_df['product_name_length'].mean(), inplace=True)\n",
    "products_df['product_description_length'].fillna(products_df['product_description_length'].mean(), inplace=True)\n",
    "products_df['product_photos_qty'].fillna(products_df['product_photos_qty'].mean(), inplace=True)\n",
    "products_df['product_weight_g'].fillna(products_df['product_weight_g'].mean(), inplace=True)\n",
    "products_df['product_length_cm'].fillna(products_df['product_length_cm'].mean(), inplace=True)\n",
    "products_df['product_height_cm'].fillna(products_df['product_height_cm'].mean(), inplace=True)\n",
    "products_df['product_width_cm'].fillna(products_df['product_width_cm'].mean(), inplace=True)"
   ]
  },
  {
   "cell_type": "code",
   "execution_count": 61,
   "id": "b1007f37-4598-4fb9-af0a-662e5730b51d",
   "metadata": {},
   "outputs": [
    {
     "data": {
      "text/plain": [
       "product_id                      0\n",
       "product_category_name         610\n",
       "product_name_length             0\n",
       "product_description_length      0\n",
       "product_photos_qty              0\n",
       "product_weight_g                0\n",
       "product_length_cm               0\n",
       "product_height_cm               0\n",
       "product_width_cm                0\n",
       "dtype: int64"
      ]
     },
     "execution_count": 61,
     "metadata": {},
     "output_type": "execute_result"
    }
   ],
   "source": [
    "products_df.isna().sum()"
   ]
  },
  {
   "cell_type": "markdown",
   "id": "4e687ce5-bf5b-40d1-a8ad-6a9a63447316",
   "metadata": {},
   "source": [
    "mengisi missing value pada kolom product_category_name dalam products_df dengan `not defined`"
   ]
  },
  {
   "cell_type": "code",
   "execution_count": 62,
   "id": "967dac4f-1b28-4b06-9425-45720efb34ca",
   "metadata": {},
   "outputs": [],
   "source": [
    "products_df['product_category_name'].fillna(\"not defined\",inplace=True)"
   ]
  },
  {
   "cell_type": "code",
   "execution_count": 63,
   "id": "e33a8fa3-e232-40ed-b554-46292764b0ef",
   "metadata": {},
   "outputs": [
    {
     "data": {
      "text/plain": [
       "product_id                    0\n",
       "product_category_name         0\n",
       "product_name_length           0\n",
       "product_description_length    0\n",
       "product_photos_qty            0\n",
       "product_weight_g              0\n",
       "product_length_cm             0\n",
       "product_height_cm             0\n",
       "product_width_cm              0\n",
       "dtype: int64"
      ]
     },
     "execution_count": 63,
     "metadata": {},
     "output_type": "execute_result"
    }
   ],
   "source": [
    "products_df.isna().sum()"
   ]
  },
  {
   "cell_type": "markdown",
   "id": "e911ac62-e72a-4885-be9c-22191435b59d",
   "metadata": {},
   "source": [
    "## Extract Clean Data to CSV"
   ]
  },
  {
   "cell_type": "code",
   "execution_count": 94,
   "id": "5e343cf9-1fe7-4737-af35-30f574c2b5a0",
   "metadata": {},
   "outputs": [],
   "source": [
    "customers_df.to_csv(\"customers_clean.csv\", index=False)\n",
    "order_items_df.to_csv(\"order_items_clean.csv\", index=False)\n",
    "order_payments_df.to_csv(\"order_payments_clean.csv\", index=False)\n",
    "order_reviews_df.to_csv(\"order_reviews_clean.csv\", index=False)\n",
    "orders_df.to_csv(\"orders_clean.csv\", index=False)\n",
    "product_category_df.to_csv(\"product_category_clean.csv\", index=False)\n",
    "products_df.to_csv(\"products_clean.csv\", index=False)\n",
    "sellers_df.to_csv(\"sellers_clean.csv\", index=False)"
   ]
  },
  {
   "cell_type": "markdown",
   "id": "43aeebd5-d45d-46e1-a1bd-bf4234b99c15",
   "metadata": {},
   "source": [
    "# Exploratory Data Analysis (EDA)"
   ]
  },
  {
   "cell_type": "markdown",
   "id": "603be7d8-67ac-42ca-a494-d22a3a0d98af",
   "metadata": {},
   "source": [
    "## Eksplor Data Customer\n",
    "\n",
    "Melihat persebaran jumlah customer setiap kota dan state"
   ]
  },
  {
   "cell_type": "code",
   "execution_count": 65,
   "id": "adb9f948-39d4-40dd-a2ee-2493d76d34b0",
   "metadata": {},
   "outputs": [
    {
     "data": {
      "text/html": [
       "<div>\n",
       "<style scoped>\n",
       "    .dataframe tbody tr th:only-of-type {\n",
       "        vertical-align: middle;\n",
       "    }\n",
       "\n",
       "    .dataframe tbody tr th {\n",
       "        vertical-align: top;\n",
       "    }\n",
       "\n",
       "    .dataframe thead th {\n",
       "        text-align: right;\n",
       "    }\n",
       "</style>\n",
       "<table border=\"1\" class=\"dataframe\">\n",
       "  <thead>\n",
       "    <tr style=\"text-align: right;\">\n",
       "      <th></th>\n",
       "      <th>customer_city</th>\n",
       "      <th>customer_id</th>\n",
       "    </tr>\n",
       "  </thead>\n",
       "  <tbody>\n",
       "    <tr>\n",
       "      <th>0</th>\n",
       "      <td>sao paulo</td>\n",
       "      <td>15540</td>\n",
       "    </tr>\n",
       "    <tr>\n",
       "      <th>1</th>\n",
       "      <td>rio de janeiro</td>\n",
       "      <td>6882</td>\n",
       "    </tr>\n",
       "    <tr>\n",
       "      <th>2</th>\n",
       "      <td>belo horizonte</td>\n",
       "      <td>2773</td>\n",
       "    </tr>\n",
       "    <tr>\n",
       "      <th>3</th>\n",
       "      <td>brasilia</td>\n",
       "      <td>2131</td>\n",
       "    </tr>\n",
       "    <tr>\n",
       "      <th>4</th>\n",
       "      <td>curitiba</td>\n",
       "      <td>1521</td>\n",
       "    </tr>\n",
       "  </tbody>\n",
       "</table>\n",
       "</div>"
      ],
      "text/plain": [
       "    customer_city  customer_id\n",
       "0       sao paulo        15540\n",
       "1  rio de janeiro         6882\n",
       "2  belo horizonte         2773\n",
       "3        brasilia         2131\n",
       "4        curitiba         1521"
      ]
     },
     "execution_count": 65,
     "metadata": {},
     "output_type": "execute_result"
    }
   ],
   "source": [
    "customers_df.groupby(by=\"customer_city\").customer_id.nunique().sort_values(ascending=False).reset_index().head()"
   ]
  },
  {
   "cell_type": "markdown",
   "id": "d4bb02f7-25b8-469d-afdb-fb4f2bf49442",
   "metadata": {},
   "source": [
    "Sao Paulo menjadi kota dengan customer terbanyak yaitu 15540 customer."
   ]
  },
  {
   "cell_type": "code",
   "execution_count": 66,
   "id": "9f7a0d23-1931-47a6-be72-c25175d6394b",
   "metadata": {},
   "outputs": [
    {
     "data": {
      "text/html": [
       "<div>\n",
       "<style scoped>\n",
       "    .dataframe tbody tr th:only-of-type {\n",
       "        vertical-align: middle;\n",
       "    }\n",
       "\n",
       "    .dataframe tbody tr th {\n",
       "        vertical-align: top;\n",
       "    }\n",
       "\n",
       "    .dataframe thead th {\n",
       "        text-align: right;\n",
       "    }\n",
       "</style>\n",
       "<table border=\"1\" class=\"dataframe\">\n",
       "  <thead>\n",
       "    <tr style=\"text-align: right;\">\n",
       "      <th></th>\n",
       "      <th>customer_state</th>\n",
       "      <th>customer_id</th>\n",
       "    </tr>\n",
       "  </thead>\n",
       "  <tbody>\n",
       "    <tr>\n",
       "      <th>0</th>\n",
       "      <td>SP</td>\n",
       "      <td>41746</td>\n",
       "    </tr>\n",
       "    <tr>\n",
       "      <th>1</th>\n",
       "      <td>RJ</td>\n",
       "      <td>12852</td>\n",
       "    </tr>\n",
       "    <tr>\n",
       "      <th>2</th>\n",
       "      <td>MG</td>\n",
       "      <td>11635</td>\n",
       "    </tr>\n",
       "    <tr>\n",
       "      <th>3</th>\n",
       "      <td>RS</td>\n",
       "      <td>5466</td>\n",
       "    </tr>\n",
       "    <tr>\n",
       "      <th>4</th>\n",
       "      <td>PR</td>\n",
       "      <td>5045</td>\n",
       "    </tr>\n",
       "  </tbody>\n",
       "</table>\n",
       "</div>"
      ],
      "text/plain": [
       "  customer_state  customer_id\n",
       "0             SP        41746\n",
       "1             RJ        12852\n",
       "2             MG        11635\n",
       "3             RS         5466\n",
       "4             PR         5045"
      ]
     },
     "execution_count": 66,
     "metadata": {},
     "output_type": "execute_result"
    }
   ],
   "source": [
    "customers_df.groupby(by=\"customer_state\").customer_id.nunique().sort_values(ascending=False).reset_index().head()"
   ]
  },
  {
   "cell_type": "markdown",
   "id": "75c0ba82-6a61-4a4d-a22f-b7a903352fdb",
   "metadata": {},
   "source": [
    "SP menjadi state dengan cutomer terbanyak yaitu 41746."
   ]
  },
  {
   "cell_type": "markdown",
   "id": "1f46e7fd-0ed8-4312-af55-2f33dbd0958f",
   "metadata": {},
   "source": [
    "## Eksplor Data Order Payment\n",
    "\n",
    "Mengeksplor jumlah payment_type setiap customer"
   ]
  },
  {
   "cell_type": "code",
   "execution_count": 67,
   "id": "c3d14f57-54fd-40a8-870f-a6dca9f6cd2d",
   "metadata": {},
   "outputs": [
    {
     "data": {
      "text/html": [
       "<div>\n",
       "<style scoped>\n",
       "    .dataframe tbody tr th:only-of-type {\n",
       "        vertical-align: middle;\n",
       "    }\n",
       "\n",
       "    .dataframe tbody tr th {\n",
       "        vertical-align: top;\n",
       "    }\n",
       "\n",
       "    .dataframe thead tr th {\n",
       "        text-align: left;\n",
       "    }\n",
       "\n",
       "    .dataframe thead tr:last-of-type th {\n",
       "        text-align: right;\n",
       "    }\n",
       "</style>\n",
       "<table border=\"1\" class=\"dataframe\">\n",
       "  <thead>\n",
       "    <tr>\n",
       "      <th></th>\n",
       "      <th>order_id</th>\n",
       "      <th colspan=\"3\" halign=\"left\">payment_value</th>\n",
       "    </tr>\n",
       "    <tr>\n",
       "      <th></th>\n",
       "      <th>nunique</th>\n",
       "      <th>max</th>\n",
       "      <th>min</th>\n",
       "      <th>mean</th>\n",
       "    </tr>\n",
       "    <tr>\n",
       "      <th>payment_type</th>\n",
       "      <th></th>\n",
       "      <th></th>\n",
       "      <th></th>\n",
       "      <th></th>\n",
       "    </tr>\n",
       "  </thead>\n",
       "  <tbody>\n",
       "    <tr>\n",
       "      <th>credit_card</th>\n",
       "      <td>76505</td>\n",
       "      <td>13664.08</td>\n",
       "      <td>0.01</td>\n",
       "      <td>163.319021</td>\n",
       "    </tr>\n",
       "    <tr>\n",
       "      <th>boleto</th>\n",
       "      <td>19784</td>\n",
       "      <td>7274.88</td>\n",
       "      <td>11.62</td>\n",
       "      <td>145.034435</td>\n",
       "    </tr>\n",
       "    <tr>\n",
       "      <th>voucher</th>\n",
       "      <td>3866</td>\n",
       "      <td>3184.34</td>\n",
       "      <td>0.00</td>\n",
       "      <td>65.703354</td>\n",
       "    </tr>\n",
       "    <tr>\n",
       "      <th>debit_card</th>\n",
       "      <td>1528</td>\n",
       "      <td>4445.50</td>\n",
       "      <td>13.38</td>\n",
       "      <td>142.570170</td>\n",
       "    </tr>\n",
       "    <tr>\n",
       "      <th>not_defined</th>\n",
       "      <td>3</td>\n",
       "      <td>0.00</td>\n",
       "      <td>0.00</td>\n",
       "      <td>0.000000</td>\n",
       "    </tr>\n",
       "  </tbody>\n",
       "</table>\n",
       "</div>"
      ],
      "text/plain": [
       "             order_id payment_value                   \n",
       "              nunique           max    min        mean\n",
       "payment_type                                          \n",
       "credit_card     76505      13664.08   0.01  163.319021\n",
       "boleto          19784       7274.88  11.62  145.034435\n",
       "voucher          3866       3184.34   0.00   65.703354\n",
       "debit_card       1528       4445.50  13.38  142.570170\n",
       "not_defined         3          0.00   0.00    0.000000"
      ]
     },
     "execution_count": 67,
     "metadata": {},
     "output_type": "execute_result"
    }
   ],
   "source": [
    "order_payments_df.groupby(by=\"payment_type\").agg({\n",
    "    \"order_id\":\"nunique\",\n",
    "    \"payment_value\":[\"max\",\"min\",\"mean\"]\n",
    "}).sort_values(by=(\"order_id\",\"nunique\"), ascending=False)"
   ]
  },
  {
   "cell_type": "markdown",
   "id": "793de9c2-36f0-4327-a952-f6a7c208af91",
   "metadata": {},
   "source": [
    "Credit_card menjadi payment_type favorit para customer."
   ]
  },
  {
   "cell_type": "markdown",
   "id": "e976ce54-210d-44e0-82b7-5b76383b322d",
   "metadata": {},
   "source": [
    "## Eksplor Data Order Review"
   ]
  },
  {
   "cell_type": "markdown",
   "id": "ae7f53b2-35f6-45c9-b2ff-9936ce858649",
   "metadata": {},
   "source": [
    "Mencari jumlah review skor terbanyak."
   ]
  },
  {
   "cell_type": "code",
   "execution_count": 68,
   "id": "c52fdc43-cfd5-4e11-b9c9-818716faa289",
   "metadata": {},
   "outputs": [
    {
     "data": {
      "text/plain": [
       "review_score\n",
       "5    56910\n",
       "4    19007\n",
       "1    11282\n",
       "3     8097\n",
       "2     3114\n",
       "Name: review_id, dtype: int64"
      ]
     },
     "execution_count": 68,
     "metadata": {},
     "output_type": "execute_result"
    }
   ],
   "source": [
    "order_reviews_df.groupby(by=\"review_score\").review_id.nunique().sort_values(ascending=False)"
   ]
  },
  {
   "cell_type": "markdown",
   "id": "1f14aa58-df3a-43cf-a005-881bb345cb18",
   "metadata": {},
   "source": [
    "Review score terbanyak adalah yang memberi score 5."
   ]
  },
  {
   "cell_type": "markdown",
   "id": "fe81a18c-1fc2-4541-9e9a-e7256ecd6600",
   "metadata": {},
   "source": [
    "## Eksplor Data Order\n",
    "\n",
    "Melihat jumlah order status"
   ]
  },
  {
   "cell_type": "code",
   "execution_count": 69,
   "id": "c6a47326-9548-4990-b74f-6b1ca18b9c1e",
   "metadata": {},
   "outputs": [
    {
     "data": {
      "text/plain": [
       "order_status\n",
       "delivered      96478\n",
       "shipped         1107\n",
       "canceled         625\n",
       "unavailable      609\n",
       "invoiced         314\n",
       "processing       301\n",
       "created            5\n",
       "approved           2\n",
       "Name: order_id, dtype: int64"
      ]
     },
     "execution_count": 69,
     "metadata": {},
     "output_type": "execute_result"
    }
   ],
   "source": [
    "orders_df.groupby(by=\"order_status\").order_id.nunique().sort_values(ascending=False)"
   ]
  },
  {
   "cell_type": "markdown",
   "id": "0e0b5681-4536-4d91-b174-51b85d5ff070",
   "metadata": {},
   "source": [
    "Order status yang paling banyak adalah delivered dengan jumlah 96478. Sayang sekali ada order yang dicancel dengan jumlah 625."
   ]
  },
  {
   "cell_type": "markdown",
   "id": "0189f85f-35ce-4fac-8b95-e0b97c44a3bd",
   "metadata": {},
   "source": [
    "## Mengeksplor Data Seller"
   ]
  },
  {
   "cell_type": "markdown",
   "id": "1d0e6bbf-6c52-4f50-b5ff-f20b72d16e0e",
   "metadata": {},
   "source": [
    "Menghitung jumlah seller setiap kota dan state"
   ]
  },
  {
   "cell_type": "code",
   "execution_count": 70,
   "id": "685e98da-2ebb-41af-969f-60f160f90844",
   "metadata": {},
   "outputs": [
    {
     "data": {
      "text/plain": [
       "seller_city\n",
       "sao paulo         694\n",
       "curitiba          127\n",
       "rio de janeiro     96\n",
       "belo horizonte     68\n",
       "ribeirao preto     52\n",
       "Name: seller_id, dtype: int64"
      ]
     },
     "execution_count": 70,
     "metadata": {},
     "output_type": "execute_result"
    }
   ],
   "source": [
    "sellers_df.groupby(by=[\"seller_city\"]).seller_id.nunique().sort_values(ascending=False).head()"
   ]
  },
  {
   "cell_type": "code",
   "execution_count": 71,
   "id": "7b25b8e5-5d03-40fb-8303-be1162e003b0",
   "metadata": {},
   "outputs": [
    {
     "data": {
      "text/plain": [
       "seller_state\n",
       "SP    1849\n",
       "PR     349\n",
       "MG     244\n",
       "SC     190\n",
       "RJ     171\n",
       "Name: seller_id, dtype: int64"
      ]
     },
     "execution_count": 71,
     "metadata": {},
     "output_type": "execute_result"
    }
   ],
   "source": [
    "sellers_df.groupby(by=[\"seller_state\"]).seller_id.nunique().sort_values(ascending=False).head()"
   ]
  },
  {
   "cell_type": "markdown",
   "id": "468d97de-f903-4562-9038-c9501ba0a525",
   "metadata": {},
   "source": [
    "Kota sao paulo dan state SP memiliki jumlah seller terbanyak, yaitu 694 dan 1849."
   ]
  },
  {
   "cell_type": "markdown",
   "id": "d31d5aaa-733f-4186-a18a-bd12dc2e2575",
   "metadata": {},
   "source": [
    "## Mengeksplor Semua Data Sekaligus Menggabungkan\n",
    "\n",
    "Gabungin semua data kecual Data Geolocation dan Seller."
   ]
  },
  {
   "cell_type": "code",
   "execution_count": 72,
   "id": "9bea0477-c340-40f7-b13b-0e45fd5ded12",
   "metadata": {},
   "outputs": [],
   "source": [
    "all_df = orders_df.merge(order_items_df, on='order_id', how='left')\n",
    "all_df = all_df.merge(products_df, on='product_id', how='inner')\n",
    "all_df = all_df.merge(order_payments_df, on='order_id', how = 'left')\n",
    "all_df = all_df.merge(order_reviews_df, on='order_id', how='left')\n",
    "all_df = all_df.merge(customers_df, on='customer_id', how='inner')\n",
    "all_df = all_df.merge(product_category_df, on='product_category_name', how='inner')"
   ]
  },
  {
   "cell_type": "code",
   "execution_count": 73,
   "id": "d0aa8805-9d6c-4ce3-8edc-8a7318fb9c20",
   "metadata": {},
   "outputs": [
    {
     "name": "stdout",
     "output_type": "stream",
     "text": [
      "<class 'pandas.core.frame.DataFrame'>\n",
      "RangeIndex: 116576 entries, 0 to 116575\n",
      "Data columns (total 37 columns):\n",
      " #   Column                         Non-Null Count   Dtype         \n",
      "---  ------                         --------------   -----         \n",
      " 0   order_id                       116576 non-null  object        \n",
      " 1   customer_id                    116576 non-null  object        \n",
      " 2   order_status                   116576 non-null  object        \n",
      " 3   order_purchase_timestamp       116576 non-null  datetime64[ns]\n",
      " 4   order_approved_at              116562 non-null  datetime64[ns]\n",
      " 5   order_delivered_carrier_date   115363 non-null  datetime64[ns]\n",
      " 6   order_delivered_customer_date  114061 non-null  datetime64[ns]\n",
      " 7   order_estimated_delivery_date  116576 non-null  datetime64[ns]\n",
      " 8   order_item_id                  116576 non-null  float64       \n",
      " 9   product_id                     116576 non-null  object        \n",
      " 10  seller_id                      116576 non-null  object        \n",
      " 11  shipping_limit_date            116576 non-null  datetime64[ns]\n",
      " 12  price                          116576 non-null  float64       \n",
      " 13  freight_value                  116576 non-null  float64       \n",
      " 14  product_category_name          116576 non-null  object        \n",
      " 15  product_name_length            116576 non-null  float64       \n",
      " 16  product_description_length     116576 non-null  float64       \n",
      " 17  product_photos_qty             116576 non-null  float64       \n",
      " 18  product_weight_g               116576 non-null  float64       \n",
      " 19  product_length_cm              116576 non-null  float64       \n",
      " 20  product_height_cm              116576 non-null  float64       \n",
      " 21  product_width_cm               116576 non-null  float64       \n",
      " 22  payment_sequential             116573 non-null  float64       \n",
      " 23  payment_type                   116573 non-null  object        \n",
      " 24  payment_installments           116573 non-null  float64       \n",
      " 25  payment_value                  116573 non-null  float64       \n",
      " 26  review_id                      115612 non-null  object        \n",
      " 27  review_score                   115612 non-null  float64       \n",
      " 28  review_comment_title           115612 non-null  object        \n",
      " 29  review_comment_message         115612 non-null  object        \n",
      " 30  review_creation_date           115612 non-null  datetime64[ns]\n",
      " 31  review_answer_timestamp        115612 non-null  datetime64[ns]\n",
      " 32  customer_unique_id             116576 non-null  object        \n",
      " 33  customer_zip_code_prefix       116576 non-null  int64         \n",
      " 34  customer_city                  116576 non-null  object        \n",
      " 35  customer_state                 116576 non-null  object        \n",
      " 36  product_category_name_english  116576 non-null  object        \n",
      "dtypes: datetime64[ns](8), float64(14), int64(1), object(14)\n",
      "memory usage: 32.9+ MB\n"
     ]
    }
   ],
   "source": [
    "all_df.info()"
   ]
  },
  {
   "cell_type": "markdown",
   "id": "bb393fd5-3438-4f78-8ffa-0e8866e69c23",
   "metadata": {},
   "source": [
    "Cek Missing Values."
   ]
  },
  {
   "cell_type": "code",
   "execution_count": 74,
   "id": "4455aad0-c9fd-4324-bcc1-ccb18a8d63b1",
   "metadata": {},
   "outputs": [
    {
     "data": {
      "text/plain": [
       "order_id                            0\n",
       "customer_id                         0\n",
       "order_status                        0\n",
       "order_purchase_timestamp            0\n",
       "order_approved_at                  14\n",
       "order_delivered_carrier_date     1213\n",
       "order_delivered_customer_date    2515\n",
       "order_estimated_delivery_date       0\n",
       "order_item_id                       0\n",
       "product_id                          0\n",
       "seller_id                           0\n",
       "shipping_limit_date                 0\n",
       "price                               0\n",
       "freight_value                       0\n",
       "product_category_name               0\n",
       "product_name_length                 0\n",
       "product_description_length          0\n",
       "product_photos_qty                  0\n",
       "product_weight_g                    0\n",
       "product_length_cm                   0\n",
       "product_height_cm                   0\n",
       "product_width_cm                    0\n",
       "payment_sequential                  3\n",
       "payment_type                        3\n",
       "payment_installments                3\n",
       "payment_value                       3\n",
       "review_id                         964\n",
       "review_score                      964\n",
       "review_comment_title              964\n",
       "review_comment_message            964\n",
       "review_creation_date              964\n",
       "review_answer_timestamp           964\n",
       "customer_unique_id                  0\n",
       "customer_zip_code_prefix            0\n",
       "customer_city                       0\n",
       "customer_state                      0\n",
       "product_category_name_english       0\n",
       "dtype: int64"
      ]
     },
     "execution_count": 74,
     "metadata": {},
     "output_type": "execute_result"
    }
   ],
   "source": [
    "all_df.isna().sum()"
   ]
  },
  {
   "cell_type": "code",
   "execution_count": 75,
   "id": "cd51d770-0ae9-42c8-b865-770ad828b76b",
   "metadata": {},
   "outputs": [],
   "source": [
    "all_df.dropna(inplace=True)"
   ]
  },
  {
   "cell_type": "code",
   "execution_count": 76,
   "id": "6dae9599-4a78-4a29-b96b-81807b7b1163",
   "metadata": {},
   "outputs": [
    {
     "name": "stdout",
     "output_type": "stream",
     "text": [
      "Jumlah Duplikat Data : 0\n"
     ]
    }
   ],
   "source": [
    "print(f\"Jumlah Duplikat Data : {all_df.duplicated().sum()}\")"
   ]
  },
  {
   "cell_type": "markdown",
   "id": "ad2a5ed0-3472-43a4-84fa-318956f48c34",
   "metadata": {},
   "source": [
    "Nama product dengan jumlah terbanyak dan min,max, dan mean harganya."
   ]
  },
  {
   "cell_type": "code",
   "execution_count": 77,
   "id": "9956b65c-42bd-493a-8058-b4ae0b734075",
   "metadata": {},
   "outputs": [
    {
     "data": {
      "text/html": [
       "<div>\n",
       "<style scoped>\n",
       "    .dataframe tbody tr th:only-of-type {\n",
       "        vertical-align: middle;\n",
       "    }\n",
       "\n",
       "    .dataframe tbody tr th {\n",
       "        vertical-align: top;\n",
       "    }\n",
       "\n",
       "    .dataframe thead tr th {\n",
       "        text-align: left;\n",
       "    }\n",
       "\n",
       "    .dataframe thead tr:last-of-type th {\n",
       "        text-align: right;\n",
       "    }\n",
       "</style>\n",
       "<table border=\"1\" class=\"dataframe\">\n",
       "  <thead>\n",
       "    <tr>\n",
       "      <th></th>\n",
       "      <th>product_id</th>\n",
       "      <th colspan=\"3\" halign=\"left\">price</th>\n",
       "    </tr>\n",
       "    <tr>\n",
       "      <th></th>\n",
       "      <th>count</th>\n",
       "      <th>max</th>\n",
       "      <th>min</th>\n",
       "      <th>mean</th>\n",
       "    </tr>\n",
       "    <tr>\n",
       "      <th>product_category_name_english</th>\n",
       "      <th></th>\n",
       "      <th></th>\n",
       "      <th></th>\n",
       "      <th></th>\n",
       "    </tr>\n",
       "  </thead>\n",
       "  <tbody>\n",
       "    <tr>\n",
       "      <th>bed_bath_table</th>\n",
       "      <td>11684</td>\n",
       "      <td>1999.98</td>\n",
       "      <td>6.99</td>\n",
       "      <td>92.595886</td>\n",
       "    </tr>\n",
       "    <tr>\n",
       "      <th>health_beauty</th>\n",
       "      <td>9749</td>\n",
       "      <td>3124.00</td>\n",
       "      <td>1.20</td>\n",
       "      <td>129.969482</td>\n",
       "    </tr>\n",
       "    <tr>\n",
       "      <th>sports_leisure</th>\n",
       "      <td>8734</td>\n",
       "      <td>4059.00</td>\n",
       "      <td>4.50</td>\n",
       "      <td>113.299196</td>\n",
       "    </tr>\n",
       "    <tr>\n",
       "      <th>furniture_decor</th>\n",
       "      <td>8554</td>\n",
       "      <td>1899.00</td>\n",
       "      <td>4.90</td>\n",
       "      <td>87.254681</td>\n",
       "    </tr>\n",
       "    <tr>\n",
       "      <th>computers_accessories</th>\n",
       "      <td>7926</td>\n",
       "      <td>3699.99</td>\n",
       "      <td>3.90</td>\n",
       "      <td>116.386928</td>\n",
       "    </tr>\n",
       "  </tbody>\n",
       "</table>\n",
       "</div>"
      ],
      "text/plain": [
       "                              product_id    price                  \n",
       "                                   count      max   min        mean\n",
       "product_category_name_english                                      \n",
       "bed_bath_table                     11684  1999.98  6.99   92.595886\n",
       "health_beauty                       9749  3124.00  1.20  129.969482\n",
       "sports_leisure                      8734  4059.00  4.50  113.299196\n",
       "furniture_decor                     8554  1899.00  4.90   87.254681\n",
       "computers_accessories               7926  3699.99  3.90  116.386928"
      ]
     },
     "execution_count": 77,
     "metadata": {},
     "output_type": "execute_result"
    }
   ],
   "source": [
    "all_df.groupby(by=\"product_category_name_english\").agg({\n",
    "    \"product_id\": \"count\", #jumlah pembelian\n",
    "    \"price\": [\"max\", \"min\", \"mean\"]\n",
    "}).sort_values(by=(\"product_id\", \"count\"), ascending=False).head()"
   ]
  },
  {
   "cell_type": "markdown",
   "id": "eb3cb515-0979-45eb-81ee-a86bfcc59d6a",
   "metadata": {},
   "source": [
    "Produk bed_bath_table memiliki jumlah terbanyak yang terjual dengan 11684 buah.\n",
    "\n",
    "Mengeksplor jumlah order setiap tahun."
   ]
  },
  {
   "cell_type": "code",
   "execution_count": 78,
   "id": "a5b098ae-81e4-4aba-81a9-082405e2e454",
   "metadata": {},
   "outputs": [
    {
     "data": {
      "text/plain": [
       "year\n",
       "2018    51873\n",
       "2017    42333\n",
       "2016      266\n",
       "Name: order_id, dtype: int64"
      ]
     },
     "execution_count": 78,
     "metadata": {},
     "output_type": "execute_result"
    }
   ],
   "source": [
    "all_df['year'] = all_df['order_purchase_timestamp'].dt.strftime(\"%Y\")\n",
    "\n",
    "all_df.groupby(by=\"year\").order_id.nunique().sort_values(ascending=False)"
   ]
  },
  {
   "cell_type": "markdown",
   "id": "a398e871-620c-4d8d-b13b-c858dd4478df",
   "metadata": {},
   "source": [
    "Tahun 2018 menempati jumlah order terbanyak dengan 51873.\n",
    "\n",
    "Mengeksplor revenue setiap kota."
   ]
  },
  {
   "cell_type": "code",
   "execution_count": 79,
   "id": "ffbb086f-5e3b-46b6-8bf7-e2b939bb0194",
   "metadata": {},
   "outputs": [
    {
     "data": {
      "text/html": [
       "<div>\n",
       "<style scoped>\n",
       "    .dataframe tbody tr th:only-of-type {\n",
       "        vertical-align: middle;\n",
       "    }\n",
       "\n",
       "    .dataframe tbody tr th {\n",
       "        vertical-align: top;\n",
       "    }\n",
       "\n",
       "    .dataframe thead tr th {\n",
       "        text-align: left;\n",
       "    }\n",
       "\n",
       "    .dataframe thead tr:last-of-type th {\n",
       "        text-align: right;\n",
       "    }\n",
       "</style>\n",
       "<table border=\"1\" class=\"dataframe\">\n",
       "  <thead>\n",
       "    <tr>\n",
       "      <th></th>\n",
       "      <th colspan=\"4\" halign=\"left\">revenue</th>\n",
       "    </tr>\n",
       "    <tr>\n",
       "      <th></th>\n",
       "      <th>sum</th>\n",
       "      <th>min</th>\n",
       "      <th>max</th>\n",
       "      <th>mean</th>\n",
       "    </tr>\n",
       "    <tr>\n",
       "      <th>customer_city</th>\n",
       "      <th></th>\n",
       "      <th></th>\n",
       "      <th></th>\n",
       "      <th></th>\n",
       "    </tr>\n",
       "  </thead>\n",
       "  <tbody>\n",
       "    <tr>\n",
       "      <th>sao paulo</th>\n",
       "      <td>2726908.04</td>\n",
       "      <td>0.01</td>\n",
       "      <td>4513.32</td>\n",
       "      <td>152.588442</td>\n",
       "    </tr>\n",
       "    <tr>\n",
       "      <th>rio de janeiro</th>\n",
       "      <td>1493088.76</td>\n",
       "      <td>0.00</td>\n",
       "      <td>13664.08</td>\n",
       "      <td>191.790464</td>\n",
       "    </tr>\n",
       "    <tr>\n",
       "      <th>belo horizonte</th>\n",
       "      <td>481845.97</td>\n",
       "      <td>0.01</td>\n",
       "      <td>3351.35</td>\n",
       "      <td>153.454131</td>\n",
       "    </tr>\n",
       "    <tr>\n",
       "      <th>brasilia</th>\n",
       "      <td>416839.84</td>\n",
       "      <td>0.67</td>\n",
       "      <td>3736.22</td>\n",
       "      <td>174.995735</td>\n",
       "    </tr>\n",
       "    <tr>\n",
       "      <th>curitiba</th>\n",
       "      <td>320922.09</td>\n",
       "      <td>0.20</td>\n",
       "      <td>3126.50</td>\n",
       "      <td>181.619745</td>\n",
       "    </tr>\n",
       "    <tr>\n",
       "      <th>...</th>\n",
       "      <td>...</td>\n",
       "      <td>...</td>\n",
       "      <td>...</td>\n",
       "      <td>...</td>\n",
       "    </tr>\n",
       "    <tr>\n",
       "      <th>santo antonio do rio abaixo</th>\n",
       "      <td>24.23</td>\n",
       "      <td>24.23</td>\n",
       "      <td>24.23</td>\n",
       "      <td>24.230000</td>\n",
       "    </tr>\n",
       "    <tr>\n",
       "      <th>tamboara</th>\n",
       "      <td>24.09</td>\n",
       "      <td>24.09</td>\n",
       "      <td>24.09</td>\n",
       "      <td>24.090000</td>\n",
       "    </tr>\n",
       "    <tr>\n",
       "      <th>jenipapo de minas</th>\n",
       "      <td>22.58</td>\n",
       "      <td>22.58</td>\n",
       "      <td>22.58</td>\n",
       "      <td>22.580000</td>\n",
       "    </tr>\n",
       "    <tr>\n",
       "      <th>polo petroquimico de triunfo</th>\n",
       "      <td>20.70</td>\n",
       "      <td>20.70</td>\n",
       "      <td>20.70</td>\n",
       "      <td>20.700000</td>\n",
       "    </tr>\n",
       "    <tr>\n",
       "      <th>sabaudia</th>\n",
       "      <td>20.42</td>\n",
       "      <td>20.42</td>\n",
       "      <td>20.42</td>\n",
       "      <td>20.420000</td>\n",
       "    </tr>\n",
       "  </tbody>\n",
       "</table>\n",
       "<p>4071 rows × 4 columns</p>\n",
       "</div>"
      ],
      "text/plain": [
       "                                 revenue                             \n",
       "                                     sum    min       max        mean\n",
       "customer_city                                                        \n",
       "sao paulo                     2726908.04   0.01   4513.32  152.588442\n",
       "rio de janeiro                1493088.76   0.00  13664.08  191.790464\n",
       "belo horizonte                 481845.97   0.01   3351.35  153.454131\n",
       "brasilia                       416839.84   0.67   3736.22  174.995735\n",
       "curitiba                       320922.09   0.20   3126.50  181.619745\n",
       "...                                  ...    ...       ...         ...\n",
       "santo antonio do rio abaixo        24.23  24.23     24.23   24.230000\n",
       "tamboara                           24.09  24.09     24.09   24.090000\n",
       "jenipapo de minas                  22.58  22.58     22.58   22.580000\n",
       "polo petroquimico de triunfo       20.70  20.70     20.70   20.700000\n",
       "sabaudia                           20.42  20.42     20.42   20.420000\n",
       "\n",
       "[4071 rows x 4 columns]"
      ]
     },
     "execution_count": 79,
     "metadata": {},
     "output_type": "execute_result"
    }
   ],
   "source": [
    "revenue_bycity_df = all_df.groupby('customer_city').agg({\n",
    "    'payment_value':['sum','min','max','mean']\n",
    "})\n",
    "revenue_bycity_df.rename(columns={\n",
    "    'payment_value':'revenue'\n",
    "}).sort_values(by=(\"revenue\",\"sum\"), ascending=False)"
   ]
  },
  {
   "cell_type": "markdown",
   "id": "5242cb18-7869-46c9-9213-9c262595f883",
   "metadata": {},
   "source": [
    "Sao Paulo, Rio De Janeiro, Belo Horizonte, Brasilia, dan Curitiba menempati posisi 5 terbanyak dengan jumlah revenue tertinggi."
   ]
  },
  {
   "cell_type": "code",
   "execution_count": 80,
   "id": "952cc29d-c7a7-4a95-ab25-ca2c2cb1136f",
   "metadata": {},
   "outputs": [
    {
     "data": {
      "text/html": [
       "<div>\n",
       "<style scoped>\n",
       "    .dataframe tbody tr th:only-of-type {\n",
       "        vertical-align: middle;\n",
       "    }\n",
       "\n",
       "    .dataframe tbody tr th {\n",
       "        vertical-align: top;\n",
       "    }\n",
       "\n",
       "    .dataframe thead th {\n",
       "        text-align: right;\n",
       "    }\n",
       "</style>\n",
       "<table border=\"1\" class=\"dataframe\">\n",
       "  <thead>\n",
       "    <tr style=\"text-align: right;\">\n",
       "      <th></th>\n",
       "      <th></th>\n",
       "      <th>payment_value</th>\n",
       "    </tr>\n",
       "    <tr>\n",
       "      <th>customer_state</th>\n",
       "      <th>product_category_name_english</th>\n",
       "      <th></th>\n",
       "    </tr>\n",
       "  </thead>\n",
       "  <tbody>\n",
       "    <tr>\n",
       "      <th rowspan=\"5\" valign=\"top\">TO</th>\n",
       "      <th>watches_gifts</th>\n",
       "      <td>6719.31</td>\n",
       "    </tr>\n",
       "    <tr>\n",
       "      <th>construction_tools_lights</th>\n",
       "      <td>1190.59</td>\n",
       "    </tr>\n",
       "    <tr>\n",
       "      <th>furniture_living_room</th>\n",
       "      <td>391.84</td>\n",
       "    </tr>\n",
       "    <tr>\n",
       "      <th>furniture_decor</th>\n",
       "      <td>4783.65</td>\n",
       "    </tr>\n",
       "    <tr>\n",
       "      <th>fixed_telephony</th>\n",
       "      <td>1444.57</td>\n",
       "    </tr>\n",
       "    <tr>\n",
       "      <th>...</th>\n",
       "      <th>...</th>\n",
       "      <td>...</td>\n",
       "    </tr>\n",
       "    <tr>\n",
       "      <th rowspan=\"5\" valign=\"top\">AC</th>\n",
       "      <th>stationery</th>\n",
       "      <td>646.76</td>\n",
       "    </tr>\n",
       "    <tr>\n",
       "      <th>telephony</th>\n",
       "      <td>1271.43</td>\n",
       "    </tr>\n",
       "    <tr>\n",
       "      <th>toys</th>\n",
       "      <td>318.05</td>\n",
       "    </tr>\n",
       "    <tr>\n",
       "      <th>watches_gifts</th>\n",
       "      <td>1573.72</td>\n",
       "    </tr>\n",
       "    <tr>\n",
       "      <th>auto</th>\n",
       "      <td>661.91</td>\n",
       "    </tr>\n",
       "  </tbody>\n",
       "</table>\n",
       "<p>1346 rows × 1 columns</p>\n",
       "</div>"
      ],
      "text/plain": [
       "                                              payment_value\n",
       "customer_state product_category_name_english               \n",
       "TO             watches_gifts                        6719.31\n",
       "               construction_tools_lights            1190.59\n",
       "               furniture_living_room                 391.84\n",
       "               furniture_decor                      4783.65\n",
       "               fixed_telephony                      1444.57\n",
       "...                                                     ...\n",
       "AC             stationery                            646.76\n",
       "               telephony                            1271.43\n",
       "               toys                                  318.05\n",
       "               watches_gifts                        1573.72\n",
       "               auto                                  661.91\n",
       "\n",
       "[1346 rows x 1 columns]"
      ]
     },
     "execution_count": 80,
     "metadata": {},
     "output_type": "execute_result"
    }
   ],
   "source": [
    "all_df.groupby(by=['customer_state','product_category_name_english']).agg({\n",
    "    'payment_value':'sum'\n",
    "}).sort_values(by=(\"customer_state\"),ascending=False)"
   ]
  },
  {
   "cell_type": "code",
   "execution_count": 81,
   "id": "1b82b6d0-54f8-4831-8224-5a8554230e36",
   "metadata": {},
   "outputs": [
    {
     "data": {
      "text/html": [
       "<div>\n",
       "<style scoped>\n",
       "    .dataframe tbody tr th:only-of-type {\n",
       "        vertical-align: middle;\n",
       "    }\n",
       "\n",
       "    .dataframe tbody tr th {\n",
       "        vertical-align: top;\n",
       "    }\n",
       "\n",
       "    .dataframe thead th {\n",
       "        text-align: right;\n",
       "    }\n",
       "</style>\n",
       "<table border=\"1\" class=\"dataframe\">\n",
       "  <thead>\n",
       "    <tr style=\"text-align: right;\">\n",
       "      <th></th>\n",
       "      <th></th>\n",
       "      <th>revenue</th>\n",
       "    </tr>\n",
       "    <tr>\n",
       "      <th>customer_state</th>\n",
       "      <th>product_category_name_english</th>\n",
       "      <th></th>\n",
       "    </tr>\n",
       "  </thead>\n",
       "  <tbody>\n",
       "    <tr>\n",
       "      <th>SP</th>\n",
       "      <th>bed_bath_table</th>\n",
       "      <td>769871.90</td>\n",
       "    </tr>\n",
       "    <tr>\n",
       "      <th>RJ</th>\n",
       "      <th>bed_bath_table</th>\n",
       "      <td>239358.38</td>\n",
       "    </tr>\n",
       "    <tr>\n",
       "      <th>MG</th>\n",
       "      <th>bed_bath_table</th>\n",
       "      <td>217771.65</td>\n",
       "    </tr>\n",
       "    <tr>\n",
       "      <th>PR</th>\n",
       "      <th>furniture_decor</th>\n",
       "      <td>117407.75</td>\n",
       "    </tr>\n",
       "    <tr>\n",
       "      <th>RS</th>\n",
       "      <th>computers_accessories</th>\n",
       "      <td>111269.68</td>\n",
       "    </tr>\n",
       "    <tr>\n",
       "      <th>BA</th>\n",
       "      <th>health_beauty</th>\n",
       "      <td>65238.01</td>\n",
       "    </tr>\n",
       "    <tr>\n",
       "      <th>SC</th>\n",
       "      <th>computers_accessories</th>\n",
       "      <td>63201.75</td>\n",
       "    </tr>\n",
       "    <tr>\n",
       "      <th>PE</th>\n",
       "      <th>health_beauty</th>\n",
       "      <td>55365.66</td>\n",
       "    </tr>\n",
       "    <tr>\n",
       "      <th>CE</th>\n",
       "      <th>health_beauty</th>\n",
       "      <td>45334.34</td>\n",
       "    </tr>\n",
       "    <tr>\n",
       "      <th>GO</th>\n",
       "      <th>garden_tools</th>\n",
       "      <td>42720.69</td>\n",
       "    </tr>\n",
       "    <tr>\n",
       "      <th>DF</th>\n",
       "      <th>computers_accessories</th>\n",
       "      <td>38771.78</td>\n",
       "    </tr>\n",
       "    <tr>\n",
       "      <th>ES</th>\n",
       "      <th>bed_bath_table</th>\n",
       "      <td>34623.71</td>\n",
       "    </tr>\n",
       "    <tr>\n",
       "      <th>MA</th>\n",
       "      <th>computers_accessories</th>\n",
       "      <td>32349.60</td>\n",
       "    </tr>\n",
       "    <tr>\n",
       "      <th>PA</th>\n",
       "      <th>health_beauty</th>\n",
       "      <td>31329.69</td>\n",
       "    </tr>\n",
       "    <tr>\n",
       "      <th>MT</th>\n",
       "      <th>health_beauty</th>\n",
       "      <td>21028.01</td>\n",
       "    </tr>\n",
       "    <tr>\n",
       "      <th>PI</th>\n",
       "      <th>auto</th>\n",
       "      <td>20026.82</td>\n",
       "    </tr>\n",
       "    <tr>\n",
       "      <th>PB</th>\n",
       "      <th>health_beauty</th>\n",
       "      <td>19472.68</td>\n",
       "    </tr>\n",
       "    <tr>\n",
       "      <th>RN</th>\n",
       "      <th>health_beauty</th>\n",
       "      <td>16112.05</td>\n",
       "    </tr>\n",
       "    <tr>\n",
       "      <th>AL</th>\n",
       "      <th>health_beauty</th>\n",
       "      <td>14908.06</td>\n",
       "    </tr>\n",
       "    <tr>\n",
       "      <th>MS</th>\n",
       "      <th>sports_leisure</th>\n",
       "      <td>14432.14</td>\n",
       "    </tr>\n",
       "    <tr>\n",
       "      <th>SE</th>\n",
       "      <th>health_beauty</th>\n",
       "      <td>9639.74</td>\n",
       "    </tr>\n",
       "    <tr>\n",
       "      <th>RO</th>\n",
       "      <th>health_beauty</th>\n",
       "      <td>8517.22</td>\n",
       "    </tr>\n",
       "    <tr>\n",
       "      <th>TO</th>\n",
       "      <th>health_beauty</th>\n",
       "      <td>8368.96</td>\n",
       "    </tr>\n",
       "    <tr>\n",
       "      <th>AM</th>\n",
       "      <th>computers_accessories</th>\n",
       "      <td>5866.85</td>\n",
       "    </tr>\n",
       "    <tr>\n",
       "      <th>AC</th>\n",
       "      <th>furniture_decor</th>\n",
       "      <td>5261.23</td>\n",
       "    </tr>\n",
       "    <tr>\n",
       "      <th>AP</th>\n",
       "      <th>computers_accessories</th>\n",
       "      <td>4128.95</td>\n",
       "    </tr>\n",
       "    <tr>\n",
       "      <th>RR</th>\n",
       "      <th>sports_leisure</th>\n",
       "      <td>2579.08</td>\n",
       "    </tr>\n",
       "  </tbody>\n",
       "</table>\n",
       "</div>"
      ],
      "text/plain": [
       "                                                revenue\n",
       "customer_state product_category_name_english           \n",
       "SP             bed_bath_table                 769871.90\n",
       "RJ             bed_bath_table                 239358.38\n",
       "MG             bed_bath_table                 217771.65\n",
       "PR             furniture_decor                117407.75\n",
       "RS             computers_accessories          111269.68\n",
       "BA             health_beauty                   65238.01\n",
       "SC             computers_accessories           63201.75\n",
       "PE             health_beauty                   55365.66\n",
       "CE             health_beauty                   45334.34\n",
       "GO             garden_tools                    42720.69\n",
       "DF             computers_accessories           38771.78\n",
       "ES             bed_bath_table                  34623.71\n",
       "MA             computers_accessories           32349.60\n",
       "PA             health_beauty                   31329.69\n",
       "MT             health_beauty                   21028.01\n",
       "PI             auto                            20026.82\n",
       "PB             health_beauty                   19472.68\n",
       "RN             health_beauty                   16112.05\n",
       "AL             health_beauty                   14908.06\n",
       "MS             sports_leisure                  14432.14\n",
       "SE             health_beauty                    9639.74\n",
       "RO             health_beauty                    8517.22\n",
       "TO             health_beauty                    8368.96\n",
       "AM             computers_accessories            5866.85\n",
       "AC             furniture_decor                  5261.23\n",
       "AP             computers_accessories            4128.95\n",
       "RR             sports_leisure                   2579.08"
      ]
     },
     "execution_count": 81,
     "metadata": {},
     "output_type": "execute_result"
    }
   ],
   "source": [
    "top_category_bystate_df = all_df.groupby(by=['customer_state','product_category_name_english']).agg({\n",
    "    'payment_value':'sum'\n",
    "})\n",
    "top_category_bystate_df.rename(columns={\n",
    "    'payment_value':'revenue'\n",
    "}, inplace=True)\n",
    "\n",
    "idx = top_category_bystate_df.groupby('customer_state')['revenue'].idxmax()\n",
    "\n",
    "top_category_bystate_df.loc[idx].sort_values(by='revenue', ascending=False)"
   ]
  },
  {
   "cell_type": "markdown",
   "id": "4e3e2e45-0444-49df-99ba-d45e3b0cb30e",
   "metadata": {},
   "source": [
    "Pada state SP, RJ, dan MJ bath_bed_table menempati posisi 3 teratas untuk payment value."
   ]
  },
  {
   "cell_type": "markdown",
   "id": "aa06984e-fc4c-4392-a324-9ac9f4b7f33f",
   "metadata": {},
   "source": [
    "# Visualization & Explanatory Analysis"
   ]
  },
  {
   "cell_type": "markdown",
   "id": "2118066b-9c5b-4375-a202-5020f271e722",
   "metadata": {},
   "source": [
    "## Pertanyaan 1 : Kategori produk apa yang paling banyak diorder."
   ]
  },
  {
   "cell_type": "code",
   "execution_count": 82,
   "id": "529c38da-3118-4d16-bdcb-e2a66f2229d7",
   "metadata": {},
   "outputs": [],
   "source": [
    "def set_custom_palette(series, max_color = 'turquoise', other_color = 'lightgrey'):\n",
    "    max_val = series.max()\n",
    "    pal = []\n",
    "    \n",
    "    for item in series:\n",
    "        if item == max_val:\n",
    "            pal.append(max_color)\n",
    "        else:\n",
    "            pal.append(other_color)\n",
    "    return pal"
   ]
  },
  {
   "cell_type": "code",
   "execution_count": 83,
   "id": "d44b0b89-7016-42f9-9765-364bb9e62797",
   "metadata": {},
   "outputs": [
    {
     "data": {
      "image/png": "[encoded data removed]",
      "text/plain": [
       "<Figure size 1000x500 with 1 Axes>"
      ]
     },
     "metadata": {},
     "output_type": "display_data"
    }
   ],
   "source": [
    "top_category_product = all_df.groupby(by=\"product_category_name_english\").order_id.nunique().sort_values(ascending=False).reset_index()[:10]\n",
    "palette=set_custom_palette(top_category_product['order_id'])\n",
    "fig,ax = plt.subplots(figsize=(10,5))\n",
    "sns.barplot(data=top_category_product, x=\"order_id\", y=\"product_category_name_english\",palette=palette,ax=ax)\n",
    "ax.set_title(\"Top Kategori Produk Berdasarkan yang Diorder\")\n",
    "ax.set_xlabel(\"Total Order\")\n",
    "ax.set_ylabel(\"Nama Produk\")\n",
    "plt.show()"
   ]
  },
  {
   "cell_type": "markdown",
   "id": "17ad750e-9113-4b92-8157-62fd33b081aa",
   "metadata": {},
   "source": [
    "## Pertanyaan 2 : Berapa total pemesanan produk dan bagaimana perubahannya dari waktu ke waktu?"
   ]
  },
  {
   "cell_type": "code",
   "execution_count": 84,
   "id": "aa45bc10-d2b5-4926-9e0b-4460d2b512d3",
   "metadata": {},
   "outputs": [
    {
     "data": {
      "image/png": "[encoded data removed]",
      "text/plain": [
       "<Figure size 2000x800 with 1 Axes>"
      ]
     },
     "metadata": {},
     "output_type": "display_data"
    }
   ],
   "source": [
    "all_df['month_year'] = all_df['order_purchase_timestamp'].dt.strftime('%Y-%m')\n",
    "\n",
    "order_per_month = all_df.groupby(by=\"month_year\").count()[[\"order_id\"]]\n",
    "order_per_month = order_per_month.iloc[:-1]\n",
    "fig, ax = plt.subplots(figsize=(20, 8))\n",
    "ax = sns.lineplot(data=order_per_month, marker='o', markersize=5, color='green')\n",
    "ax.set_title('Total Order per Bulan', fontsize=18)\n",
    "ax.set_xlabel('Month-Year', fontsize=12)\n",
    "ax.set_ylabel('Total Order', fontsize=12)\n",
    "ax.get_legend().remove()\n",
    "fig.show()"
   ]
  },
  {
   "cell_type": "markdown",
   "id": "fadd1200-930e-4504-9fc8-312b3fc71226",
   "metadata": {},
   "source": [
    "## Pertanyaan 3 : Berapa total pendapatan perusahaan dan bagaimana perubahannya dari waktu ke waktu?"
   ]
  },
  {
   "cell_type": "code",
   "execution_count": 87,
   "id": "ecc500ee-a918-45c2-b259-b8f0178ceb80",
   "metadata": {},
   "outputs": [
    {
     "data": {
      "text/html": [
       "<div>\n",
       "<style scoped>\n",
       "    .dataframe tbody tr th:only-of-type {\n",
       "        vertical-align: middle;\n",
       "    }\n",
       "\n",
       "    .dataframe tbody tr th {\n",
       "        vertical-align: top;\n",
       "    }\n",
       "\n",
       "    .dataframe thead th {\n",
       "        text-align: right;\n",
       "    }\n",
       "</style>\n",
       "<table border=\"1\" class=\"dataframe\">\n",
       "  <thead>\n",
       "    <tr style=\"text-align: right;\">\n",
       "      <th></th>\n",
       "      <th>order_purchase_timestamp</th>\n",
       "      <th>order_count</th>\n",
       "      <th>payment_value</th>\n",
       "    </tr>\n",
       "  </thead>\n",
       "  <tbody>\n",
       "    <tr>\n",
       "      <th>0</th>\n",
       "      <td>2016-10</td>\n",
       "      <td>265</td>\n",
       "      <td>61593.19</td>\n",
       "    </tr>\n",
       "    <tr>\n",
       "      <th>1</th>\n",
       "      <td>2016-11</td>\n",
       "      <td>0</td>\n",
       "      <td>0.00</td>\n",
       "    </tr>\n",
       "    <tr>\n",
       "      <th>2</th>\n",
       "      <td>2016-12</td>\n",
       "      <td>1</td>\n",
       "      <td>19.62</td>\n",
       "    </tr>\n",
       "    <tr>\n",
       "      <th>3</th>\n",
       "      <td>2017-01</td>\n",
       "      <td>729</td>\n",
       "      <td>174843.76</td>\n",
       "    </tr>\n",
       "    <tr>\n",
       "      <th>4</th>\n",
       "      <td>2017-02</td>\n",
       "      <td>1582</td>\n",
       "      <td>314200.34</td>\n",
       "    </tr>\n",
       "  </tbody>\n",
       "</table>\n",
       "</div>"
      ],
      "text/plain": [
       "  order_purchase_timestamp  order_count  payment_value\n",
       "0                  2016-10          265       61593.19\n",
       "1                  2016-11            0           0.00\n",
       "2                  2016-12            1          19.62\n",
       "3                  2017-01          729      174843.76\n",
       "4                  2017-02         1582      314200.34"
      ]
     },
     "execution_count": 87,
     "metadata": {},
     "output_type": "execute_result"
    }
   ],
   "source": [
    "monthly_orders_df = all_df.resample(rule='M', on='order_purchase_timestamp').agg({\n",
    "    \"order_id\": \"nunique\",\n",
    "    \"payment_value\": \"sum\"\n",
    "})\n",
    "monthly_orders_df.index = monthly_orders_df.index.strftime('%Y-%m')\n",
    "monthly_orders_df = monthly_orders_df.reset_index()\n",
    "monthly_orders_df.rename(columns={\n",
    "    \"order_id\": \"order_count\",\n",
    "    \"total_price\": \"revenue\"\n",
    "}, inplace=True)\n",
    "monthly_orders_df.head()"
   ]
  },
  {
   "cell_type": "code",
   "execution_count": 88,
   "id": "28c24b3a-721f-4604-b94a-d4fd0913af33",
   "metadata": {},
   "outputs": [
    {
     "data": {
      "image/png": "[encoded data removed]",
      "text/plain": [
       "<Figure size 2000x800 with 1 Axes>"
      ]
     },
     "metadata": {},
     "output_type": "display_data"
    }
   ],
   "source": [
    "plt.figure(figsize=(20, 8)) \n",
    "plt.plot(monthly_orders_df[\"order_purchase_timestamp\"], monthly_orders_df[\"payment_value\"], marker='o', linewidth=2, color=\"#72BCD4\") \n",
    "plt.title(\"Number of Revenue per Month\", loc=\"center\", fontsize=20) \n",
    "plt.xlabel(\"Month-Year\")\n",
    "plt.ylabel(\"Total Revenue\")\n",
    "plt.xticks(fontsize=10) \n",
    "plt.yticks(fontsize=10) \n",
    "plt.show()"
   ]
  },
  {
   "cell_type": "markdown",
   "id": "cecd0e6f-9276-4b83-bda4-ea8dbd80c2c5",
   "metadata": {},
   "source": [
    "## Pertanyaan 4 : Apa metode pembayaran yang paling sering digunakan oleh customer?"
   ]
  },
  {
   "cell_type": "code",
   "execution_count": 89,
   "id": "35df55e7-e33b-4643-bacb-50e8216cc7b9",
   "metadata": {},
   "outputs": [
    {
     "data": {
      "image/png": "[encoded data removed]",
      "text/plain": [
       "<Figure size 1000x600 with 1 Axes>"
      ]
     },
     "metadata": {},
     "output_type": "display_data"
    }
   ],
   "source": [
    "# Get Top often used payment gateway\n",
    "payment_type_counts = all_df.groupby(by=\"payment_type\").customer_id.nunique().sort_values(ascending=False).reset_index()\n",
    "plt.figure(figsize=(10, 6))\n",
    "\n",
    "#labels = ['Credit Card', 'Boleto', 'Voucher', 'Debit Card']\n",
    "\n",
    "# Create a bar plot\n",
    "ax = sns.barplot(data=payment_type_counts, x=\"customer_id\", y=\"payment_type\",palette=set_custom_palette(payment_type_counts[\"customer_id\"]))\n",
    "\n",
    "plt.title('Payment Methods', fontsize=20)\n",
    "plt.xlabel('Payment Type', fontsize=12)\n",
    "plt.ylabel('Total Order', fontsize=12)\n",
    "\n",
    "# Display the plot\n",
    "plt.show()"
   ]
  },
  {
   "cell_type": "markdown",
   "id": "a513f358-a623-49a1-adbe-7051402eff15",
   "metadata": {},
   "source": [
    "## Recency, Frequency, and Monetary (RFM) Analisis\n",
    "\n",
    "Untuk menjawab 3 pertanyaan terakhir maka diperlukan RFM Analysis.\n",
    "\n",
    "- Recency merupakan parameter yang digunakan untuk melihat terakhir kali pelanggan melakukan transaksi.\n",
    "- Frequency merupakan parameter yang digunakan untuk melihat seberapa sering pelanggan melakukan transaksi.\n",
    "- Monetary merupakan seberapa besar revenue yang didapatkan dari pelanggan tersebut."
   ]
  },
  {
   "cell_type": "code",
   "execution_count": 90,
   "id": "1db62b0d-5a97-4da6-990d-d9bd48ff0ddd",
   "metadata": {},
   "outputs": [
    {
     "data": {
      "text/html": [
       "<div>\n",
       "<style scoped>\n",
       "    .dataframe tbody tr th:only-of-type {\n",
       "        vertical-align: middle;\n",
       "    }\n",
       "\n",
       "    .dataframe tbody tr th {\n",
       "        vertical-align: top;\n",
       "    }\n",
       "\n",
       "    .dataframe thead th {\n",
       "        text-align: right;\n",
       "    }\n",
       "</style>\n",
       "<table border=\"1\" class=\"dataframe\">\n",
       "  <thead>\n",
       "    <tr style=\"text-align: right;\">\n",
       "      <th></th>\n",
       "      <th>customer_id</th>\n",
       "      <th>frequency</th>\n",
       "      <th>monetary</th>\n",
       "      <th>recency</th>\n",
       "    </tr>\n",
       "  </thead>\n",
       "  <tbody>\n",
       "    <tr>\n",
       "      <th>0</th>\n",
       "      <td>00012a2ce6f8dcda20d059ce98491703</td>\n",
       "      <td>1</td>\n",
       "      <td>114.74</td>\n",
       "      <td>288</td>\n",
       "    </tr>\n",
       "    <tr>\n",
       "      <th>1</th>\n",
       "      <td>000161a058600d5901f007fab4c27140</td>\n",
       "      <td>1</td>\n",
       "      <td>67.41</td>\n",
       "      <td>409</td>\n",
       "    </tr>\n",
       "    <tr>\n",
       "      <th>2</th>\n",
       "      <td>0001fd6190edaaf884bcaf3d49edf079</td>\n",
       "      <td>1</td>\n",
       "      <td>195.42</td>\n",
       "      <td>547</td>\n",
       "    </tr>\n",
       "    <tr>\n",
       "      <th>3</th>\n",
       "      <td>0002414f95344307404f0ace7a26f1d5</td>\n",
       "      <td>1</td>\n",
       "      <td>179.35</td>\n",
       "      <td>378</td>\n",
       "    </tr>\n",
       "    <tr>\n",
       "      <th>4</th>\n",
       "      <td>000379cdec625522490c315e70c7a9fb</td>\n",
       "      <td>1</td>\n",
       "      <td>107.01</td>\n",
       "      <td>149</td>\n",
       "    </tr>\n",
       "  </tbody>\n",
       "</table>\n",
       "</div>"
      ],
      "text/plain": [
       "                        customer_id  frequency  monetary  recency\n",
       "0  00012a2ce6f8dcda20d059ce98491703          1    114.74      288\n",
       "1  000161a058600d5901f007fab4c27140          1     67.41      409\n",
       "2  0001fd6190edaaf884bcaf3d49edf079          1    195.42      547\n",
       "3  0002414f95344307404f0ace7a26f1d5          1    179.35      378\n",
       "4  000379cdec625522490c315e70c7a9fb          1    107.01      149"
      ]
     },
     "execution_count": 90,
     "metadata": {},
     "output_type": "execute_result"
    }
   ],
   "source": [
    "rfm_df = all_df.groupby(by=\"customer_id\", as_index=False).agg({\n",
    "    \"order_purchase_timestamp\" : \"max\", # mengambil tanggal order terakhir\n",
    "    \"order_id\": \"nunique\", # menghitung jumlah order\n",
    "    \"payment_value\": \"sum\" # menghitung jumlah revenue yang dihasilkan\n",
    "})\n",
    "rfm_df.columns = [\"customer_id\", \"max_order_timestamp\", \"frequency\", \"monetary\"]\n",
    " \n",
    "#menghitung kapan terakhir pelanggan melakukan transaksi (hari)\n",
    "rfm_df[\"max_order_timestamp\"] = rfm_df[\"max_order_timestamp\"].dt.date\n",
    "recent_date = all_df[\"order_purchase_timestamp\"].dt.date.max()\n",
    "rfm_df[\"recency\"] = rfm_df[\"max_order_timestamp\"].apply(lambda x: (recent_date - x).days)\n",
    " \n",
    "rfm_df.drop(\"max_order_timestamp\", axis=1, inplace=True)\n",
    "rfm_df.head()"
   ]
  },
  {
   "cell_type": "markdown",
   "id": "c3719f26-5128-4b48-8410-d2e3dc93922b",
   "metadata": {},
   "source": [
    "## Pertanyaan 5 : Kapan pelanggan ini melakukan transaksi?"
   ]
  },
  {
   "cell_type": "code",
   "execution_count": 91,
   "id": "2869474a-a555-48d8-b632-61dad7c00939",
   "metadata": {},
   "outputs": [
    {
     "data": {
      "image/png": "[encoded data removed]",
      "text/plain": [
       "<Figure size 2000x800 with 1 Axes>"
      ]
     },
     "metadata": {},
     "output_type": "display_data"
    }
   ],
   "source": [
    "fig, ax = plt.subplots(figsize=(20,8))\n",
    "\n",
    "sns.barplot(y=\"customer_id\", x=\"recency\", data=rfm_df.sort_values(by=\"recency\", ascending=False).head(5), color=\"turquoise\", ax=ax)\n",
    "ax.set_ylabel(None)\n",
    "ax.set_xlabel(None)\n",
    "ax.set_title(\"By Recency (days)\", loc=\"center\", fontsize=18)\n",
    "ax.tick_params(axis ='x', labelsize=15)"
   ]
  },
  {
   "cell_type": "markdown",
   "id": "e9f39568-93ab-42c8-bb29-f493feced339",
   "metadata": {},
   "source": [
    "## Pertanyaan 6 : Seberapa sering seorang pelanggan melakukan pembelian dalam beberapa bulan terakhir?"
   ]
  },
  {
   "cell_type": "code",
   "execution_count": 92,
   "id": "c4770f41-1e7c-4fe9-99e4-c03dd12f81d9",
   "metadata": {},
   "outputs": [
    {
     "data": {
      "image/png": "[encoded data removed]",
      "text/plain": [
       "<Figure size 2000x800 with 1 Axes>"
      ]
     },
     "metadata": {},
     "output_type": "display_data"
    }
   ],
   "source": [
    "fig, ax = plt.subplots(figsize=(20,8))\n",
    "sns.barplot(y=\"customer_id\", x=\"frequency\", data=rfm_df.sort_values(by=\"frequency\", ascending=False).head(5), color=\"turquoise\", ax=ax)\n",
    "ax.set_ylabel(None)\n",
    "ax.set_xlabel(None)\n",
    "ax.set_title(\"By Frequency\", loc=\"center\", fontsize=18)\n",
    "ax.tick_params(axis='x', labelsize=15)\n"
   ]
  },
  {
   "cell_type": "markdown",
   "id": "921f16c4-3dbb-4170-8039-bfaa09cff5c0",
   "metadata": {},
   "source": [
    "## Pertanyaan 7 : Berapa banyak uang yang dihabiskan pelanggan dalam beberapa bulan terakhir?"
   ]
  },
  {
   "cell_type": "code",
   "execution_count": 93,
   "id": "f631fc91-658a-4b94-900f-5395526b1037",
   "metadata": {},
   "outputs": [
    {
     "data": {
      "image/png": "[encoded data removed]",
      "text/plain": [
       "<Figure size 2000x800 with 1 Axes>"
      ]
     },
     "metadata": {},
     "output_type": "display_data"
    }
   ],
   "source": [
    "fig, ax = plt.subplots(figsize=(20,8))\n",
    "sns.barplot(y=\"customer_id\", x=\"monetary\", data=rfm_df.sort_values(by=\"monetary\", ascending=False).head(5), color=\"turquoise\", ax=ax)\n",
    "ax.set_ylabel(None)\n",
    "ax.set_xlabel(None)\n",
    "ax.set_title(\"By Monetary\", loc=\"center\", fontsize=18)\n",
    "ax.tick_params(axis='x', labelsize=15)"
   ]
  },
  {
   "cell_type": "markdown",
   "id": "69fab81d-6ddf-4b9d-9c0a-fb1ebab0bf54",
   "metadata": {},
   "source": [
    "# Conclusion"
   ]
  },
  {
   "cell_type": "markdown",
   "id": "b7dcbbf7-d663-4a38-8bdc-3b51bafa89dc",
   "metadata": {},
   "source": [
    "- Conclusion pertanyaan 1 : adalah produk dengan yang dipesan tertinggi adalah bed_bath_tabel.\n",
    "- Conclusion pertanyaan 2 : puncak total produk yang dipesan terjadi pada bulan november tahun 2017. Kecenderungan pemesanan produk itu naik.\n",
    "- Conclusion pertanyaan 3 : puncak total revenue terjadi pada bulan november tahun 2017. Kecendurangan revenue juga menaik.\n",
    "- Conclusion pertanyaan 4 : pelanggan lebih suka membayar dengan credit card sehingga credit card menjadi yang paling terbanyak.\n",
    "- Conclusion pertanyaan 5 : Kita dapat mengetahui kelima pelanggan tersebut melakukan terakhir kali transaksi\n",
    "- Conclusion pertanyaan 6 : Kelima pelanggan tersebut melakukan transaksi terbanyak sekitar 700 lebih transaksi.\n",
    "- Conclusion pertanyaan 7 : Ada satu pelanggan yang paling banyak menghabiskan uangnya untuk transaksi adalah dengan transaksi lebih dari 100000."
   ]
  },
  {
   "cell_type": "code",
   "execution_count": 364,
   "id": "580cd873-c49a-4bfa-9a56-afa7ca96ab41",
   "metadata": {},
   "outputs": [],
   "source": [
    "all_df.to_csv(\"semua_data_e-commerce.csv\")"
   ]
  }
 ],
 "metadata": {
  "kernelspec": {
   "display_name": "Python 3 (ipykernel)",
   "language": "python",
   "name": "python3"
  },
  "language_info": {
   "codemirror_mode": {
    "name": "ipython",
    "version": 3
   },
   "file_extension": ".py",
   "mimetype": "text/x-python",
   "name": "python",
   "nbconvert_exporter": "python",
   "pygments_lexer": "ipython3",
   "version": "3.11.7"
  }
 },
 "nbformat": 4,
 "nbformat_minor": 5
}
